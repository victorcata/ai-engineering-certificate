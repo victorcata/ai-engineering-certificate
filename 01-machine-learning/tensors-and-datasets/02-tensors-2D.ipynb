{
 "cells": [
  {
   "cell_type": "markdown",
   "id": "6ed60d30",
   "metadata": {},
   "source": [
    "# Two-Dimensional Tensors"
   ]
  },
  {
   "cell_type": "code",
   "execution_count": 1,
   "id": "aba4d875",
   "metadata": {},
   "outputs": [],
   "source": [
    "import numpy as np\n",
    "import matplotlib.pyplot as plt\n",
    "import torch\n",
    "import pandas as pd"
   ]
  },
  {
   "cell_type": "markdown",
   "id": "948bfaa8",
   "metadata": {},
   "source": [
    "## Types and Shape"
   ]
  },
  {
   "cell_type": "code",
   "execution_count": 2,
   "id": "ee238939",
   "metadata": {},
   "outputs": [
    {
     "name": "stdout",
     "output_type": "stream",
     "text": [
      "The new 2D tensor: tensor([[11, 12, 13],\n",
      "        [21, 22, 23],\n",
      "        [31, 32, 33]])\n"
     ]
    }
   ],
   "source": [
    "twoD_list = [[11, 12, 13], [21, 22, 23], [31, 32, 33]]\n",
    "twoD_tensor = torch.tensor(twoD_list)\n",
    "print(\"The new 2D tensor:\", twoD_tensor)"
   ]
  },
  {
   "cell_type": "code",
   "execution_count": 3,
   "id": "70d5314d",
   "metadata": {},
   "outputs": [
    {
     "name": "stdout",
     "output_type": "stream",
     "text": [
      "Dimension:  2\n",
      "Shape:  torch.Size([3, 3])\n",
      "Size:  torch.Size([3, 3])\n",
      "Number of elements:  9\n"
     ]
    }
   ],
   "source": [
    "print(\"Dimension: \", twoD_tensor.ndimension())\n",
    "print(\"Shape: \", twoD_tensor.shape)\n",
    "print(\"Size: \", twoD_tensor.size())\n",
    "print(\"Number of elements: \", twoD_tensor.numel())"
   ]
  },
  {
   "cell_type": "code",
   "execution_count": 4,
   "id": "ece6311b",
   "metadata": {},
   "outputs": [
    {
     "name": "stdout",
     "output_type": "stream",
     "text": [
      "Tensor -> Numpy Array:\n",
      "The numpy array after converting:  [[11 12 13]\n",
      " [21 22 23]\n",
      " [31 32 33]]\n",
      "Type after converting:  int64\n",
      "Numpy Array -> Tensor:\n",
      "The tensor after converting: tensor([[11, 12, 13],\n",
      "        [21, 22, 23],\n",
      "        [31, 32, 33]])\n",
      "Type after converting:  torch.int64\n"
     ]
    }
   ],
   "source": [
    "twoD_numpy = twoD_tensor.numpy()\n",
    "print(\"Tensor -> Numpy Array:\")\n",
    "print(\"The numpy array after converting: \", twoD_numpy)\n",
    "print(\"Type after converting: \", twoD_numpy.dtype)\n",
    "\n",
    "new_twoD_tensor = torch.from_numpy(twoD_numpy)\n",
    "print(\"Numpy Array -> Tensor:\")\n",
    "print(\"The tensor after converting:\", new_twoD_tensor)\n",
    "print(\"Type after converting: \", new_twoD_tensor.dtype)"
   ]
  },
  {
   "cell_type": "code",
   "execution_count": 7,
   "id": "0e2e53db",
   "metadata": {},
   "outputs": [
    {
     "name": "stdout",
     "output_type": "stream",
     "text": [
      "Pandas Datarfame to numpy: [[ 11  12]\n",
      " [ 21  22]\n",
      " [ 31 312]]\n",
      "dtype: int64\n",
      "Tensor after converting: tensor([[ 11,  12],\n",
      "        [ 21,  22],\n",
      "        [ 31, 312]])\n",
      "dtype: torch.int64\n"
     ]
    }
   ],
   "source": [
    "df = pd.DataFrame({'a':[11,21,31],'b':[12,22,312]})\n",
    "\n",
    "print(\"Pandas Datarfame to numpy:\", df.values)\n",
    "print(\"dtype:\", df.values.dtype)\n",
    "\n",
    "new_tensor = torch.from_numpy(df.values)\n",
    "print(\"Tensor after converting:\", new_tensor)\n",
    "print(\"dtype:\", new_tensor.dtype)"
   ]
  },
  {
   "cell_type": "markdown",
   "id": "59e601b7",
   "metadata": {},
   "source": [
    "## Indexing and Slicing"
   ]
  },
  {
   "cell_type": "markdown",
   "id": "5b16f658",
   "metadata": {},
   "source": [
    "<img src=\"https://s3-api.us-geo.objectstorage.softlayer.net/cf-courses-data/CognitiveClass/DL0110EN/notebook_images%20/chapter%201/1.2index1.png\" width=\"500\" alt=\"Matrix Structure Introduce\">\n"
   ]
  },
  {
   "cell_type": "code",
   "execution_count": 12,
   "id": "f1c017b9",
   "metadata": {},
   "outputs": [
    {
     "name": "stdout",
     "output_type": "stream",
     "text": [
      "Row 2, Column 3: tensor(23)\n",
      "Row 2, Column 3: tensor(23)\n",
      "Row 1, Columns 1 and 2: tensor([11, 12])\n",
      "Row 1, Columns 1 and 2: tensor([11, 12])\n"
     ]
    }
   ],
   "source": [
    "tensor_example = torch.tensor([[11, 12, 13], [21, 22, 23], [31, 32, 33]])\n",
    "print(\"Row 2, Column 3:\", tensor_example[1][2])\n",
    "print(\"Row 2, Column 3:\", tensor_example[1, 2])\n",
    "print(\"Row 1, Columns 1 and 2:\", tensor_example[0,0:2])\n",
    "print(\"Row 1, Columns 1 and 2:\", tensor_example[0][0:2])"
   ]
  },
  {
   "cell_type": "code",
   "execution_count": 16,
   "id": "128d4a3f",
   "metadata": {},
   "outputs": [
    {
     "name": "stdout",
     "output_type": "stream",
     "text": [
      "Slice: tensor([[21, 22, 23],\n",
      "        [31, 32, 33]])\n",
      "Dimension: 2\n",
      "Slice on index 1: tensor([31, 32, 33])\n",
      "Slice dimension on index 1: 1\n",
      "Combination: tensor([31, 32, 33])\n",
      "Combination(dimension): 1\n"
     ]
    }
   ],
   "source": [
    "sliced_tensor_example = tensor_example[1:3]\n",
    "print(\"Slice:\", sliced_tensor_example)\n",
    "print(\"Dimension:\", sliced_tensor_example.ndimension())\n",
    "print(\"Slice on index 1:\", sliced_tensor_example[1])\n",
    "print(\"Slice dimension on index 1:\", sliced_tensor_example[1].ndimension())\n",
    "print(\"Combination:\", tensor_example[1:3][1])\n",
    "print(\"Combination(dimension):\", tensor_example[1:3][1].ndimension())"
   ]
  },
  {
   "cell_type": "code",
   "execution_count": 21,
   "id": "563e05a0",
   "metadata": {},
   "outputs": [
    {
     "name": "stdout",
     "output_type": "stream",
     "text": [
      "Value on 3rd-column last two rows: tensor([23, 33])\n"
     ]
    }
   ],
   "source": [
    "print(\"Value on 3rd-column last two rows:\", tensor_example[1:3,2])"
   ]
  },
  {
   "cell_type": "markdown",
   "id": "0672638f",
   "metadata": {},
   "source": [
    "## Tensor Operations"
   ]
  },
  {
   "cell_type": "code",
   "execution_count": 22,
   "id": "616bfc15",
   "metadata": {},
   "outputs": [
    {
     "name": "stdout",
     "output_type": "stream",
     "text": [
      "The result of X + Y:  tensor([[3, 1],\n",
      "        [1, 3]])\n"
     ]
    }
   ],
   "source": [
    "X = torch.tensor([[1, 0],[0, 1]]) \n",
    "Y = torch.tensor([[2, 1],[1, 2]])\n",
    "X_plus_Y = X + Y\n",
    "\n",
    "print(\"The result of X + Y: \", X_plus_Y)"
   ]
  },
  {
   "cell_type": "code",
   "execution_count": 23,
   "id": "bfd9ac08",
   "metadata": {},
   "outputs": [
    {
     "name": "stdout",
     "output_type": "stream",
     "text": [
      "The result of 2Y:  tensor([[4, 2],\n",
      "        [2, 4]])\n"
     ]
    }
   ],
   "source": [
    "Y = torch.tensor([[2, 1], [1, 2]]) \n",
    "two_Y = 2 * Y\n",
    "\n",
    "print(\"The result of 2Y: \", two_Y)"
   ]
  },
  {
   "cell_type": "code",
   "execution_count": 24,
   "id": "aeba60f2",
   "metadata": {},
   "outputs": [
    {
     "name": "stdout",
     "output_type": "stream",
     "text": [
      "The result of X * Y:  tensor([[2, 0],\n",
      "        [0, 2]])\n"
     ]
    }
   ],
   "source": [
    "X = torch.tensor([[1, 0], [0, 1]])\n",
    "Y = torch.tensor([[2, 1], [1, 2]]) \n",
    "X_times_Y = X * Y\n",
    "\n",
    "print(\"The result of X * Y: \", X_times_Y)"
   ]
  },
  {
   "cell_type": "code",
   "execution_count": 25,
   "id": "af17ab71",
   "metadata": {},
   "outputs": [
    {
     "name": "stdout",
     "output_type": "stream",
     "text": [
      "The result of A * B:  tensor([[0, 2],\n",
      "        [0, 2]])\n"
     ]
    }
   ],
   "source": [
    "A = torch.tensor([[0, 1, 1], [1, 0, 1]])\n",
    "B = torch.tensor([[1, 1], [1, 1], [-1, 1]])\n",
    "A_times_B = torch.mm(A,B)\n",
    "\n",
    "print(\"The result of A * B: \", A_times_B)"
   ]
  }
 ],
 "metadata": {
  "kernelspec": {
   "display_name": "venv",
   "language": "python",
   "name": "python3"
  },
  "language_info": {
   "codemirror_mode": {
    "name": "ipython",
    "version": 3
   },
   "file_extension": ".py",
   "mimetype": "text/x-python",
   "name": "python",
   "nbconvert_exporter": "python",
   "pygments_lexer": "ipython3",
   "version": "3.13.2"
  }
 },
 "nbformat": 4,
 "nbformat_minor": 5
}
