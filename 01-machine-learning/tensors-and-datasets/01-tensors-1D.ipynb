{
 "cells": [
  {
   "cell_type": "markdown",
   "id": "aafb7c2f",
   "metadata": {},
   "source": [
    "# Torch Tensors in 1D"
   ]
  },
  {
   "cell_type": "code",
   "execution_count": 3,
   "id": "cf021d35",
   "metadata": {},
   "outputs": [
    {
     "data": {
      "text/plain": [
       "'2.9.0'"
      ]
     },
     "execution_count": 3,
     "metadata": {},
     "output_type": "execute_result"
    }
   ],
   "source": [
    "import numpy as np\n",
    "import pandas as pd\n",
    "import torch\n",
    "import matplotlib.pyplot as plt\n",
    "\n",
    "torch.__version__"
   ]
  },
  {
   "cell_type": "code",
   "execution_count": 4,
   "id": "2e5191c7",
   "metadata": {},
   "outputs": [],
   "source": [
    "# Function for plotting diagrams\n",
    "def plotVec(vectors):\n",
    "  ax = plt.axes()\n",
    "\n",
    "  for vec in vectors:\n",
    "    ax.arrow(0, 0, *vec['vector'], head_width=0.05, color=vec['color'], head_length=0.1)\n",
    "    plt.text(*(vec['vector'] + 0.1), vec['name'])\n",
    "\n",
    "  plt.ylim(-2, 2)\n",
    "  plt.xlim(-2, 2)"
   ]
  },
  {
   "cell_type": "markdown",
   "id": "1d797bbd",
   "metadata": {},
   "source": [
    "## Types and Shape"
   ]
  },
  {
   "cell_type": "code",
   "execution_count": 6,
   "id": "95e810a2",
   "metadata": {},
   "outputs": [
    {
     "name": "stdout",
     "output_type": "stream",
     "text": [
      "dtype:  torch.int64\n",
      "type:  torch.LongTensor\n"
     ]
    }
   ],
   "source": [
    "ints_to_tensor = torch.tensor([0, 1, 2, 3, 4])\n",
    "print(\"dtype: \", ints_to_tensor.dtype)\n",
    "print(\"type: \", ints_to_tensor.type())"
   ]
  },
  {
   "cell_type": "code",
   "execution_count": 7,
   "id": "8e1b1da2",
   "metadata": {},
   "outputs": [
    {
     "data": {
      "text/plain": [
       "torch.Tensor"
      ]
     },
     "execution_count": 7,
     "metadata": {},
     "output_type": "execute_result"
    }
   ],
   "source": [
    "type(ints_to_tensor)"
   ]
  },
  {
   "cell_type": "code",
   "execution_count": 8,
   "id": "a1204bd1",
   "metadata": {},
   "outputs": [
    {
     "name": "stdout",
     "output_type": "stream",
     "text": [
      "dtype:  torch.float32\n",
      "type:  torch.FloatTensor\n"
     ]
    }
   ],
   "source": [
    "floats_to_tensor = torch.tensor([0.0, 1.0, 2.0, 3.0, 4.0])\n",
    "print(\"dtype: \", floats_to_tensor.dtype)\n",
    "print(\"type: \", floats_to_tensor.type())"
   ]
  },
  {
   "cell_type": "code",
   "execution_count": 11,
   "id": "a24c578b",
   "metadata": {},
   "outputs": [
    {
     "name": "stdout",
     "output_type": "stream",
     "text": [
      "dtype:  torch.int64\n",
      "type:  torch.LongTensor\n"
     ]
    }
   ],
   "source": [
    "list_floats = [0.0, 1.0, 2.0, 3.0, 4.0]\n",
    "floats_int_tensor = torch.tensor(list_floats, dtype=torch.int64)\n",
    "print(\"dtype: \", floats_int_tensor.dtype)\n",
    "print(\"type: \", floats_int_tensor.type())\n"
   ]
  },
  {
   "cell_type": "code",
   "execution_count": 12,
   "id": "49b3b636",
   "metadata": {},
   "outputs": [
    {
     "name": "stdout",
     "output_type": "stream",
     "text": [
      "dtype:  torch.float32\n",
      "type:  torch.FloatTensor\n"
     ]
    }
   ],
   "source": [
    "new_float_tensor = torch.FloatTensor([0, 1, 2, 3, 4])\n",
    "print(\"dtype: \", new_float_tensor.dtype)\n",
    "print(\"type: \", new_float_tensor.type())"
   ]
  },
  {
   "cell_type": "code",
   "execution_count": 15,
   "id": "39f8b69a",
   "metadata": {},
   "outputs": [
    {
     "name": "stdout",
     "output_type": "stream",
     "text": [
      "type(before):  torch.LongTensor\n",
      "type(after):  torch.FloatTensor\n"
     ]
    }
   ],
   "source": [
    "old_int_tensor = torch.tensor([0, 1, 2, 3, 4])\n",
    "print(\"type(before): \", old_int_tensor.type())\n",
    "new_float_tensor = old_int_tensor.type(torch.FloatTensor)\n",
    "print(\"type(after): \", new_float_tensor.type())"
   ]
  },
  {
   "cell_type": "code",
   "execution_count": 16,
   "id": "edbec1cc",
   "metadata": {},
   "outputs": [
    {
     "name": "stdout",
     "output_type": "stream",
     "text": [
      "Size:  torch.Size([5])\n",
      "Dimension:  1\n"
     ]
    }
   ],
   "source": [
    "print(\"Size: \", new_float_tensor.size())\n",
    "print(\"Dimension: \", new_float_tensor.ndimension())"
   ]
  },
  {
   "cell_type": "code",
   "execution_count": 17,
   "id": "e521656b",
   "metadata": {},
   "outputs": [
    {
     "name": "stdout",
     "output_type": "stream",
     "text": [
      "Original size:  torch.Size([5])\n",
      "Size after view method:  torch.Size([5, 1])\n"
     ]
    }
   ],
   "source": [
    "twoD_float_tensor = new_float_tensor.view(5, 1)\n",
    "print(\"Original size: \", new_float_tensor.size())\n",
    "print(\"Size after view method: \", twoD_float_tensor.size())"
   ]
  },
  {
   "cell_type": "code",
   "execution_count": 19,
   "id": "90aa94b1",
   "metadata": {},
   "outputs": [
    {
     "name": "stdout",
     "output_type": "stream",
     "text": [
      "Original size:  torch.Size([5])\n",
      "Size after view method:  torch.Size([5, 1])\n"
     ]
    }
   ],
   "source": [
    "twoD_float_tensor = new_float_tensor.view(-1, 1)\n",
    "print(\"Original size: \", new_float_tensor.size())\n",
    "print(\"Size after view method: \", twoD_float_tensor.size())"
   ]
  },
  {
   "cell_type": "code",
   "execution_count": 20,
   "id": "4ad296e4",
   "metadata": {},
   "outputs": [
    {
     "name": "stdout",
     "output_type": "stream",
     "text": [
      "dtype:  torch.float64\n",
      "type:  torch.DoubleTensor\n"
     ]
    }
   ],
   "source": [
    "numpy_array = np.array([0.0, 1.0, 2.0, 3.0, 4.0])\n",
    "new_tensor = torch.from_numpy(numpy_array)\n",
    "\n",
    "print(\"dtype: \", new_tensor.dtype)\n",
    "print(\"type: \", new_tensor.type())"
   ]
  },
  {
   "cell_type": "code",
   "execution_count": 21,
   "id": "f756ceb0",
   "metadata": {},
   "outputs": [
    {
     "name": "stdout",
     "output_type": "stream",
     "text": [
      "The numpy array from tensor:  [0. 1. 2. 3. 4.]\n",
      "The dtype of numpy array:  float64\n"
     ]
    }
   ],
   "source": [
    "back_to_numpy = new_tensor.numpy()\n",
    "print(\"The numpy array from tensor: \", back_to_numpy)\n",
    "print(\"The dtype of numpy array: \", back_to_numpy.dtype)"
   ]
  },
  {
   "cell_type": "code",
   "execution_count": 22,
   "id": "085e7798",
   "metadata": {},
   "outputs": [
    {
     "name": "stdout",
     "output_type": "stream",
     "text": [
      "The new tensor points to numpy_array:  tensor([0., 0., 0., 0., 0.], dtype=torch.float64)\n",
      "and back to numpy array points to the tensor:  [0. 0. 0. 0. 0.]\n"
     ]
    }
   ],
   "source": [
    "numpy_array[:] = 0\n",
    "print(\"The new tensor points to numpy_array: \", new_tensor)\n",
    "print(\"and back to numpy array points to the tensor: \", back_to_numpy)"
   ]
  },
  {
   "cell_type": "code",
   "execution_count": 23,
   "id": "148fc26f",
   "metadata": {},
   "outputs": [
    {
     "name": "stdout",
     "output_type": "stream",
     "text": [
      "The new tensor from numpy array:  tensor([ 0.1000,  2.0000,  0.3000, 10.1000], dtype=torch.float64)\n",
      "The dtype of new tensor:  torch.float64\n",
      "The type of new tensor:  torch.DoubleTensor\n"
     ]
    }
   ],
   "source": [
    "pandas_series = pd.Series([0.1, 2, 0.3, 10.1])\n",
    "new_tensor = torch.from_numpy(pandas_series.values)\n",
    "print(\"The new tensor from numpy array: \", new_tensor)\n",
    "print(\"The dtype of new tensor: \", new_tensor.dtype)\n",
    "print(\"The type of new tensor: \", new_tensor.type())"
   ]
  },
  {
   "cell_type": "code",
   "execution_count": 27,
   "id": "5b43beff",
   "metadata": {},
   "outputs": [
    {
     "name": "stdout",
     "output_type": "stream",
     "text": [
      "First item: 0 , First item value:  tensor(0)\n",
      "Second item: 1 , Second item value:  tensor(1)\n",
      "Third item: 2 , Third item value:  tensor(2)\n"
     ]
    }
   ],
   "source": [
    "this_tensor = torch.tensor([0, 1, 2, 3])\n",
    "\n",
    "print(\"First item:\", this_tensor[0].item(), \", First item value: \", this_tensor[0])\n",
    "print(\"Second item:\", this_tensor[1].item(), \", Second item value: \", this_tensor[1])\n",
    "print(\"Third item:\", this_tensor[2].item(), \", Third item value: \", this_tensor[2])"
   ]
  },
  {
   "cell_type": "code",
   "execution_count": 28,
   "id": "05cdfd5d",
   "metadata": {},
   "outputs": [
    {
     "name": "stdout",
     "output_type": "stream",
     "text": [
      "tensor: tensor([0, 1, 2, 3]) \n",
      "list: [0, 1, 2, 3]\n"
     ]
    }
   ],
   "source": [
    "torch_to_list = this_tensor.tolist()\n",
    "\n",
    "print('tensor:', this_tensor,\"\\nlist:\", torch_to_list)"
   ]
  },
  {
   "cell_type": "markdown",
   "id": "e9447490",
   "metadata": {},
   "source": [
    "## Indexing and Slicing"
   ]
  },
  {
   "cell_type": "markdown",
   "id": "63fc9661",
   "metadata": {},
   "source": [
    "<img src=\"https://s3-api.us-geo.objectstorage.softlayer.net/cf-courses-data/CognitiveClass/DL0110EN/notebook_images%20/chapter%201/idex_1.png\" width=\"500\" alt=\"Python Index\">\n"
   ]
  },
  {
   "cell_type": "code",
   "execution_count": 29,
   "id": "f1d232d2",
   "metadata": {},
   "outputs": [
    {
     "name": "stdout",
     "output_type": "stream",
     "text": [
      "Value on idx 0: tensor(0)\n",
      "Value on idx 1: tensor(1)\n",
      "Value on idx 2: tensor(2)\n"
     ]
    }
   ],
   "source": [
    "index_tensor = torch.tensor([0, 1, 2, 3, 4])\n",
    "print(\"Value on idx 0:\", index_tensor[0])\n",
    "print(\"Value on idx 1:\", index_tensor[1])\n",
    "print(\"Value on idx 2:\", index_tensor[2])"
   ]
  },
  {
   "cell_type": "code",
   "execution_count": 32,
   "id": "47a6b8cf",
   "metadata": {},
   "outputs": [
    {
     "name": "stdout",
     "output_type": "stream",
     "text": [
      "Initial value on index 0: tensor(20)\n",
      "Modified tensor: tensor([100,   1,   2,   3,   4])\n"
     ]
    }
   ],
   "source": [
    "tensor_sample = torch.tensor([20, 1, 2, 3, 4])\n",
    "\n",
    "print(\"Initial value on index 0:\", tensor_sample[0])\n",
    "tensor_sample[0] = 100\n",
    "print(\"Modified tensor:\", tensor_sample)"
   ]
  },
  {
   "cell_type": "code",
   "execution_count": 33,
   "id": "542f79f7",
   "metadata": {},
   "outputs": [
    {
     "name": "stdout",
     "output_type": "stream",
     "text": [
      "Original: tensor([100,   1,   2,   3,   4])\n",
      "Subset: tensor([1, 2, 3])\n"
     ]
    }
   ],
   "source": [
    "subset_tensor_sample = tensor_sample[1:4]\n",
    "print(\"Original:\", tensor_sample)\n",
    "print(\"Subset:\", subset_tensor_sample)"
   ]
  },
  {
   "cell_type": "code",
   "execution_count": 36,
   "id": "f66be0a9",
   "metadata": {},
   "outputs": [
    {
     "name": "stdout",
     "output_type": "stream",
     "text": [
      "Initial value on index 3 and 4: tensor([300, 400])\n",
      "Modified: tensor([100,   1,   2, 300, 400])\n"
     ]
    }
   ],
   "source": [
    "print(\"Initial value on index 3 and 4:\", tensor_sample[3:5])\n",
    "tensor_sample[3:5] = torch.tensor([300.0, 400.0])\n",
    "print(\"Modified:\", tensor_sample)"
   ]
  },
  {
   "cell_type": "code",
   "execution_count": 37,
   "id": "f82f46d8",
   "metadata": {},
   "outputs": [
    {
     "name": "stdout",
     "output_type": "stream",
     "text": [
      "Initial: tensor([100,   1,   2, 300, 400])\n",
      "Subset: tensor([300, 400])\n"
     ]
    }
   ],
   "source": [
    "selected_indexes = [3, 4]\n",
    "subset_tensor_sample = tensor_sample[selected_indexes]\n",
    "print(\"Initial:\", tensor_sample)\n",
    "print(\"Subset:\", subset_tensor_sample)"
   ]
  },
  {
   "cell_type": "code",
   "execution_count": 38,
   "id": "8959b97b",
   "metadata": {},
   "outputs": [
    {
     "name": "stdout",
     "output_type": "stream",
     "text": [
      "Modified: tensor([  100,     1,     2, 10000, 10000])\n"
     ]
    }
   ],
   "source": [
    "tensor_sample[selected_indexes] = 10000\n",
    "print(\"Modified:\", tensor_sample)"
   ]
  },
  {
   "cell_type": "markdown",
   "id": "71e62986",
   "metadata": {},
   "source": [
    "## Tensor Functions"
   ]
  },
  {
   "cell_type": "code",
   "execution_count": 39,
   "id": "94f79190",
   "metadata": {},
   "outputs": [
    {
     "name": "stdout",
     "output_type": "stream",
     "text": [
      "Mean: tensor(0.)\n"
     ]
    }
   ],
   "source": [
    "math_tensor = torch.tensor([1.0, -1.0, 1, -1])\n",
    "mean = math_tensor.mean()\n",
    "print(\"Mean:\", mean)"
   ]
  },
  {
   "cell_type": "code",
   "execution_count": 41,
   "id": "76870f3e",
   "metadata": {},
   "outputs": [
    {
     "name": "stdout",
     "output_type": "stream",
     "text": [
      "Standard deviation: tensor(1.1547)\n"
     ]
    }
   ],
   "source": [
    "standard_deviation = math_tensor.std()\n",
    "print(\"Standard deviation:\", standard_deviation)"
   ]
  },
  {
   "cell_type": "code",
   "execution_count": 42,
   "id": "cc5ab535",
   "metadata": {},
   "outputs": [
    {
     "name": "stdout",
     "output_type": "stream",
     "text": [
      "Max number: tensor(5)\n",
      "Min number: tensor(1)\n"
     ]
    }
   ],
   "source": [
    "max_min_tensor = torch.tensor([1, 1, 3, 5, 5])\n",
    "max_val = max_min_tensor.max()\n",
    "min_val = max_min_tensor.min()\n",
    "\n",
    "print(\"Max number:\", max_val)\n",
    "print(\"Min number:\", min_val)"
   ]
  },
  {
   "cell_type": "code",
   "execution_count": 43,
   "id": "cf7eb82c",
   "metadata": {},
   "outputs": [
    {
     "name": "stdout",
     "output_type": "stream",
     "text": [
      "Sin: tensor([ 0.0000e+00,  1.0000e+00, -8.7423e-08])\n"
     ]
    }
   ],
   "source": [
    "pi_tensor = torch.tensor([0, np.pi/2, np.pi])\n",
    "sin = torch.sin(pi_tensor)\n",
    "print(\"Sin:\", sin)"
   ]
  },
  {
   "cell_type": "code",
   "execution_count": 45,
   "id": "c4e82b0b",
   "metadata": {},
   "outputs": [
    {
     "name": "stdout",
     "output_type": "stream",
     "text": [
      "Linspace of 5: tensor([-2., -1.,  0.,  1.,  2.])\n",
      "Linspace of 9: tensor([-2.0000, -1.5000, -1.0000, -0.5000,  0.0000,  0.5000,  1.0000,  1.5000,\n",
      "         2.0000])\n"
     ]
    }
   ],
   "source": [
    "print(\"Linspace of 5:\", torch.linspace(-2, 2, steps=5))\n",
    "print(\"Linspace of 9:\", torch.linspace(-2, 2, steps=9))"
   ]
  },
  {
   "cell_type": "code",
   "execution_count": 46,
   "id": "ce493652",
   "metadata": {},
   "outputs": [
    {
     "data": {
      "text/plain": [
       "[<matplotlib.lines.Line2D at 0x14557dbd0>]"
      ]
     },
     "execution_count": 46,
     "metadata": {},
     "output_type": "execute_result"
    },
    {
     "data": {
      "image/png": "[encoded data removed]",
      "text/plain": [
       "<Figure size 640x480 with 1 Axes>"
      ]
     },
     "metadata": {},
     "output_type": "display_data"
    }
   ],
   "source": [
    "pi_tensor = torch.linspace(0, 2*np.pi, 100)\n",
    "sin_result = torch.sin(pi_tensor)\n",
    "plt.plot(pi_tensor.numpy(), sin_result.numpy())"
   ]
  },
  {
   "cell_type": "markdown",
   "id": "112fb254",
   "metadata": {},
   "source": [
    "## Tensor Operations"
   ]
  },
  {
   "cell_type": "code",
   "execution_count": 47,
   "id": "6715ee8b",
   "metadata": {},
   "outputs": [
    {
     "name": "stdout",
     "output_type": "stream",
     "text": [
      "Result: tensor([1, 1])\n"
     ]
    }
   ],
   "source": [
    "u = torch.tensor([1, 0])\n",
    "v = torch.tensor([0, 1])\n",
    "\n",
    "w = u + v\n",
    "print(\"Result:\", w)"
   ]
  },
  {
   "cell_type": "code",
   "execution_count": 48,
   "id": "18068340",
   "metadata": {},
   "outputs": [
    {
     "data": {
      "image/png": "[encoded data removed]",
      "text/plain": [
       "<Figure size 640x480 with 1 Axes>"
      ]
     },
     "metadata": {},
     "output_type": "display_data"
    }
   ],
   "source": [
    "plotVec([\n",
    "    {\"vector\": u.numpy(), \"name\": 'u', \"color\": 'r'},\n",
    "    {\"vector\": v.numpy(), \"name\": 'v', \"color\": 'b'},\n",
    "    {\"vector\": w.numpy(), \"name\": 'w', \"color\": 'g'}\n",
    "])"
   ]
  },
  {
   "cell_type": "code",
   "execution_count": 49,
   "id": "6183a39d",
   "metadata": {},
   "outputs": [
    {
     "data": {
      "image/png": "[encoded data removed]",
      "text/plain": [
       "<Figure size 640x480 with 1 Axes>"
      ]
     },
     "metadata": {},
     "output_type": "display_data"
    }
   ],
   "source": [
    "u = torch.tensor([1, 0])\n",
    "v = torch.tensor([0, 1])\n",
    "w = u - v\n",
    "\n",
    "plotVec([\n",
    "    {\"vector\": u.numpy(), \"name\": 'u', \"color\": 'r'},\n",
    "    {\"vector\": v.numpy(), \"name\": 'v', \"color\": 'b'},\n",
    "    {\"vector\": w.numpy(), \"name\": 'w', \"color\": 'g'}\n",
    "])"
   ]
  },
  {
   "cell_type": "code",
   "execution_count": 50,
   "id": "bfc577c3",
   "metadata": {},
   "outputs": [
    {
     "name": "stdout",
     "output_type": "stream",
     "text": [
      "Addition result: tensor([2, 3, 4, 0])\n"
     ]
    }
   ],
   "source": [
    "u = torch.tensor([1, 2, 3, -1])\n",
    "v = u + 1\n",
    "print(\"Addition result:\", v)"
   ]
  },
  {
   "cell_type": "code",
   "execution_count": 51,
   "id": "96c9d5a3",
   "metadata": {},
   "outputs": [
    {
     "name": "stdout",
     "output_type": "stream",
     "text": [
      "Multiplication: tensor([2, 4])\n"
     ]
    }
   ],
   "source": [
    "u = torch.tensor([1, 2])\n",
    "v = 2 * u\n",
    "print(\"Multiplication:\", v)"
   ]
  },
  {
   "cell_type": "code",
   "execution_count": 52,
   "id": "677bc979",
   "metadata": {},
   "outputs": [
    {
     "name": "stdout",
     "output_type": "stream",
     "text": [
      "The result of u * v tensor([3, 4])\n"
     ]
    }
   ],
   "source": [
    "u = torch.tensor([1, 2])\n",
    "v = torch.tensor([3, 2])\n",
    "w = u * v\n",
    "\n",
    "print (\"The result of u * v\", w)"
   ]
  },
  {
   "cell_type": "code",
   "execution_count": 53,
   "id": "384a6983",
   "metadata": {},
   "outputs": [
    {
     "name": "stdout",
     "output_type": "stream",
     "text": [
      "Dot Product of u, v: tensor(7)\n"
     ]
    }
   ],
   "source": [
    "u = torch.tensor([1, 2])\n",
    "v = torch.tensor([3, 2])\n",
    "\n",
    "print(\"Dot Product of u, v:\", torch.dot(u,v))"
   ]
  },
  {
   "cell_type": "code",
   "execution_count": null,
   "id": "c87ed506",
   "metadata": {},
   "outputs": [],
   "source": []
  }
 ],
 "metadata": {
  "kernelspec": {
   "display_name": "venv",
   "language": "python",
   "name": "python3"
  },
  "language_info": {
   "codemirror_mode": {
    "name": "ipython",
    "version": 3
   },
   "file_extension": ".py",
   "mimetype": "text/x-python",
   "name": "python",
   "nbconvert_exporter": "python",
   "pygments_lexer": "ipython3",
   "version": "3.13.2"
  }
 },
 "nbformat": 4,
 "nbformat_minor": 5
}
