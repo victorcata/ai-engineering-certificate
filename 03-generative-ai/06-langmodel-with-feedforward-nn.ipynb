{
 "cells": [
  {
   "cell_type": "markdown",
   "id": "62e5debb",
   "metadata": {},
   "source": [
    "# Building and Training a Feedforward Neural Network for Language Modeling"
   ]
  },
  {
   "cell_type": "markdown",
   "id": "9082e606",
   "metadata": {},
   "source": [
    "This project explores the use of Feedforward Neural Networks (FNNs) in language modeling. The primary objective is to build a neural network that learns word relationships and generates meaningful text sequences. The implementation is done using PyTorch, covering key aspects of Natural Language Processing (NLP), such as:\n",
    "* Tokenization & Indexing: Converting text into numerical representations.\n",
    "* Embedding Layers: Mapping words to dense vector representations for efficient learning.\n",
    "* Context-Target Pair Generation (N-grams): Structuring training data for sequence prediction.\n",
    "* Multi-Class Neural Network: Designing a model to predict the next word in a sequence.\n",
    "\n",
    "The training process includes optimizing the model with loss functions and backpropagation techniques to improve accuracy and coherence in text generation. By the end of the project, you will have a working FNN-based language model capable of generating text sequences.\n",
    "\n",
    "\n",
    "FNNs, or Multi-Layer Perceptrons, serve as the foundational components for comprehending neural networks in natural language processing (NLP). In NLP tasks, FNNs process textual data by transforming it into numerical vectors known as embeddings. Subsequently, these embeddings are input to the network to predict language facets, such as the upcoming word in a sentence or the sentiment of a text.\n",
    "\n",
    "Let's consider the following song lyrics for our analysis.\n"
   ]
  },
  {
   "cell_type": "code",
   "execution_count": 20,
   "id": "cfae1983",
   "metadata": {},
   "outputs": [
    {
     "name": "stderr",
     "output_type": "stream",
     "text": [
      "[nltk_data] Downloading package punkt to\n",
      "[nltk_data]     /Users/victorcata/nltk_data...\n",
      "[nltk_data]   Package punkt is already up-to-date!\n",
      "[nltk_data] Downloading package punkt_tab to\n",
      "[nltk_data]     /Users/victorcata/nltk_data...\n",
      "[nltk_data]   Package punkt_tab is already up-to-date!\n"
     ]
    }
   ],
   "source": [
    "import warnings\n",
    "from tqdm import tqdm\n",
    "\n",
    "warnings.simplefilter('ignore')\n",
    "import time\n",
    "from collections import OrderedDict\n",
    "\n",
    "import re\n",
    "\n",
    "import numpy as np\n",
    "import matplotlib.pyplot as plt\n",
    "import pandas as pd\n",
    "import random\n",
    "\n",
    "import nltk\n",
    "nltk.download('punkt')\n",
    "nltk.download('punkt_tab')\n",
    "\n",
    "import torch\n",
    "import torch.nn as nn\n",
    "import torch.nn.functional as F\n",
    "import torch.optim as optim\n",
    "from torch.utils.data import DataLoader\n",
    "import string\n",
    "import time\n",
    "from torchtext.data.utils import get_tokenizer\n",
    "from torchtext.vocab import build_vocab_from_iterator\n",
    "from nltk.tokenize import word_tokenize\n",
    "\n",
    "from sklearn.manifold import TSNE\n",
    "\n",
    "def warn(*args, **kwargs):\n",
    "    pass\n",
    "import warnings\n",
    "warnings.warn = warn\n",
    "warnings.filterwarnings('ignore')"
   ]
  },
  {
   "cell_type": "markdown",
   "id": "e6316607",
   "metadata": {},
   "source": [
    "## Dataset"
   ]
  },
  {
   "cell_type": "code",
   "execution_count": 2,
   "id": "703bb1d8",
   "metadata": {},
   "outputs": [],
   "source": [
    "song= \"\"\"We are no strangers to love\n",
    "You know the rules and so do I\n",
    "A full commitments what Im thinking of\n",
    "You wouldnt get this from any other guy\n",
    "I just wanna tell you how Im feeling\n",
    "Gotta make you understand\n",
    "Never gonna give you up\n",
    "Never gonna let you down\n",
    "Never gonna run around and desert you\n",
    "Never gonna make you cry\n",
    "Never gonna say goodbye\n",
    "Never gonna tell a lie and hurt you\n",
    "Weve known each other for so long\n",
    "Your hearts been aching but youre too shy to say it\n",
    "Inside we both know whats been going on\n",
    "We know the game and were gonna play it\n",
    "And if you ask me how Im feeling\n",
    "Dont tell me youre too blind to see\n",
    "Never gonna give you up\n",
    "Never gonna let you down\n",
    "Never gonna run around and desert you\n",
    "Never gonna make you cry\n",
    "Never gonna say goodbye\n",
    "Never gonna tell a lie and hurt you\n",
    "Never gonna give you up\n",
    "Never gonna let you down\n",
    "Never gonna run around and desert you\n",
    "Never gonna make you cry\n",
    "Never gonna say goodbye\n",
    "Never gonna tell a lie and hurt you\n",
    "Weve known each other for so long\n",
    "Your hearts been aching but youre too shy to say it\n",
    "Inside we both know whats been going on\n",
    "We know the game and were gonna play it\n",
    "I just wanna tell you how Im feeling\n",
    "Gotta make you understand\n",
    "Never gonna give you up\n",
    "Never gonna let you down\n",
    "Never gonna run around and desert you\n",
    "Never gonna make you cry\n",
    "Never gonna say goodbye\n",
    "Never gonna tell a lie and hurt you\n",
    "Never gonna give you up\n",
    "Never gonna let you down\n",
    "Never gonna run around and desert you\n",
    "Never gonna make you cry\n",
    "Never gonna say goodbye\n",
    "Never gonna tell a lie and hurt you\n",
    "Never gonna give you up\n",
    "Never gonna let you down\n",
    "Never gonna run around and desert you\n",
    "Never gonna make you cry\n",
    "Never gonna say goodbye\n",
    "Never gonna tell a lie and hurt you\"\"\""
   ]
  },
  {
   "cell_type": "markdown",
   "id": "8c2d9efb",
   "metadata": {},
   "source": [
    "## Data preprocessing"
   ]
  },
  {
   "cell_type": "code",
   "execution_count": 3,
   "id": "fc245082",
   "metadata": {},
   "outputs": [],
   "source": [
    "def preprocess_string(s):\n",
    "  \"\"\"\n",
    "  Preprocesses a given string by performing the following steps:\n",
    "  \n",
    "  1. Removes all non-word characters (excluding letters and numbers).\n",
    "  2. Removes all whitespace characters.\n",
    "  3. Removes all numeric digits.\n",
    "\n",
    "  Parameters:\n",
    "  s (str): The input string to be cleaned.\n",
    "\n",
    "  Returns:\n",
    "  str: The processed string with only alphabetic characters, no spaces, and no digits.\n",
    "  \"\"\"\n",
    "\n",
    "  s = re.sub(r\"[^\\w\\s]\", '', s)\n",
    "  s = re.sub(r\"\\s+\", '', s)\n",
    "  s = re.sub(r\"\\d\", '', s)\n",
    "\n",
    "  return s"
   ]
  },
  {
   "cell_type": "code",
   "execution_count": 4,
   "id": "c7523b6d",
   "metadata": {},
   "outputs": [],
   "source": [
    "def preprocess(words):\n",
    "  \"\"\"\n",
    "  Preprocesses a given text by tokenizing it, cleaning individual words, and \n",
    "  converting them to lowercase while removing empty or punctuation tokens.\n",
    "\n",
    "  Steps:\n",
    "  1. Tokenization: Splits the input text into individual word tokens.\n",
    "  2. Cleaning: Applies `preprocess_string()` to remove non-word characters, \n",
    "      spaces, and digits from each token.\n",
    "  3. Normalization: Converts all tokens to lowercase.\n",
    "  4. Filtering: Removes empty strings and punctuation tokens.\n",
    "\n",
    "  Parameters:\n",
    "  words (str): The input text to be tokenized and preprocessed.\n",
    "\n",
    "  Returns:\n",
    "  list: A list of cleaned, lowercase tokens.\n",
    "  \"\"\"\n",
    "  tokens = word_tokenize(words)\n",
    "  tokens = [preprocess_string(w) for w in tokens]\n",
    "  return [w.lower() for w in tokens if len(w) != 0 and w not in string.punctuation]"
   ]
  },
  {
   "cell_type": "markdown",
   "id": "1c4afb6e",
   "metadata": {},
   "source": [
    "## Tokenization and Indexing"
   ]
  },
  {
   "cell_type": "code",
   "execution_count": 5,
   "id": "90e5d5e3",
   "metadata": {},
   "outputs": [],
   "source": [
    "tokenizer = get_tokenizer('basic_english')\n",
    "tokens = tokenizer(song)"
   ]
  },
  {
   "cell_type": "code",
   "execution_count": 6,
   "id": "ac49e5c6",
   "metadata": {},
   "outputs": [],
   "source": [
    "def tokenizetext(song):\n",
    "  \"\"\"\n",
    "  Tokenizes the input text (song) and builds a vocabulary from the tokens.\n",
    "\n",
    "  Steps:\n",
    "  1. Tokenization: The function splits the input text into words and applies \n",
    "      a tokenizer function to each word.\n",
    "  2. Vocabulary Building: Constructs a vocabulary from the tokenized words,\n",
    "      including a special \"<unk>\" token to handle out-of-vocabulary words.\n",
    "  3. Default Indexing: Sets the default index for unknown words, ensuring \n",
    "      that any unseen tokens are mapped to \"<unk>\".\n",
    "\n",
    "  Parameters:\n",
    "  song (str): The input text (song lyrics) to be tokenized and processed.\n",
    "\n",
    "  Returns:\n",
    "  vocab (Vocab): A vocabulary object mapping tokens to their corresponding indices.\n",
    "  \"\"\"\n",
    "  tokenized_song = map(tokenizer, song.split())\n",
    "  vocab = build_vocab_from_iterator(tokenized_song, specials=['<unk>'])\n",
    "  vocab.set_default_index(vocab['<unk>'])\n",
    "\n",
    "  return vocab\n",
    "\n"
   ]
  },
  {
   "cell_type": "code",
   "execution_count": 8,
   "id": "bd7c20f5",
   "metadata": {},
   "outputs": [
    {
     "name": "stdout",
     "output_type": "stream",
     "text": [
      "['we', 'are', 'no', 'strangers', 'to', 'love', 'you', 'know', 'the', 'rules']\n"
     ]
    },
    {
     "data": {
      "text/plain": [
       "[21, 58, 70, 74, 25, 69, 2, 20, 31, 72]"
      ]
     },
     "execution_count": 8,
     "metadata": {},
     "output_type": "execute_result"
    }
   ],
   "source": [
    "vocab = tokenizetext(song)\n",
    "print(tokens[0:10])\n",
    "vocab(tokens[0:10])"
   ]
  },
  {
   "cell_type": "code",
   "execution_count": 9,
   "id": "635c90c3",
   "metadata": {},
   "outputs": [
    {
     "data": {
      "text/plain": [
       "[21, 58, 70, 74, 25, 69, 2, 20, 31, 72]"
      ]
     },
     "execution_count": 9,
     "metadata": {},
     "output_type": "execute_result"
    }
   ],
   "source": [
    "text_pipeline = lambda x: vocab(tokenizer(x))\n",
    "text_pipeline(song)[0:10]"
   ]
  },
  {
   "cell_type": "code",
   "execution_count": 10,
   "id": "c83e5196",
   "metadata": {},
   "outputs": [
    {
     "data": {
      "text/plain": [
       "'are'"
      ]
     },
     "execution_count": 10,
     "metadata": {},
     "output_type": "execute_result"
    }
   ],
   "source": [
    "index_to_token = vocab.get_itos()\n",
    "index_to_token[58]"
   ]
  },
  {
   "cell_type": "markdown",
   "id": "c83c0b93",
   "metadata": {},
   "source": [
    "## Generating context-target pairs (n-grams)"
   ]
  },
  {
   "cell_type": "markdown",
   "id": "bb311bde",
   "metadata": {},
   "source": [
    "Organize words within a variable-size context using the following approach: Each word is denoted by 'i'. \n",
    "To establish the context, simply subtract 'j'. The size of the context is determined by the value of``CONTEXT_SIZE``."
   ]
  },
  {
   "cell_type": "code",
   "execution_count": 14,
   "id": "9cfacbcc",
   "metadata": {},
   "outputs": [],
   "source": [
    "CONTEXT_SIZE = 2\n",
    "\n",
    "def genngrams(tokens):\n",
    "  \"\"\"\n",
    "  Generates n-grams from a list of tokens, where each n-gram consists of a \n",
    "  context (previous words) and a target (next word).\n",
    "\n",
    "  The function constructs a list of tuples where:\n",
    "  - The first element is a list of `CONTEXT_SIZE` previous words.\n",
    "  - The second element is the target word that follows the context.\n",
    "\n",
    "  Parameters:\n",
    "  tokens (list): A list of preprocessed word tokens.\n",
    "\n",
    "  Returns:\n",
    "  list: A list of tuples representing n-grams.\n",
    "        Each tuple contains (context_words, target_word).\n",
    "  \"\"\"\n",
    "  ngrams = [\n",
    "    (\n",
    "      [tokens[i - j - 1] for j in range(CONTEXT_SIZE)],\n",
    "      tokens[i]\n",
    "    )\n",
    "    for i in range(CONTEXT_SIZE, len(tokens))\n",
    "  ]\n",
    "\n",
    "  return ngrams\n"
   ]
  },
  {
   "cell_type": "code",
   "execution_count": null,
   "id": "71a205f2",
   "metadata": {},
   "outputs": [
    {
     "name": "stdout",
     "output_type": "stream",
     "text": [
      "Context: ['are', 'we'], Target: no\n",
      "Context index [58, 21], Target index: [70]\n"
     ]
    }
   ],
   "source": [
    "ngrams = genngrams(tokens)\n",
    "context, target = ngrams[0]\n",
    "print(f\"Context: {context}, Target: {target}\")\n",
    "print(f\"Context index {vocab(context)}, Target index: {vocab([target])}\")"
   ]
  },
  {
   "cell_type": "markdown",
   "id": "9426d463",
   "metadata": {},
   "source": [
    "## Embedding layers"
   ]
  },
  {
   "cell_type": "markdown",
   "id": "c917ff62",
   "metadata": {},
   "source": [
    "An embedding layer is a crucial element in natural language processing (NLP) and neural networks designed for sequential data. It serves to convert categorical variables, like words or discrete indexes representing tokens, into continuous vectors. This transformation facilitates training and enables the network to learn meaningful relationships among words."
   ]
  },
  {
   "cell_type": "code",
   "execution_count": 11,
   "id": "96a7ace2",
   "metadata": {},
   "outputs": [],
   "source": [
    "def genembedding(vocab):\n",
    "  \"\"\"\n",
    "  Generates an embedding layer for the given vocabulary.\n",
    "\n",
    "  The embedding layer transforms words into dense vector representations, \n",
    "  allowing the model to learn semantic relationships between words.\n",
    "\n",
    "  Parameters:\n",
    "  vocab (Vocab): The vocabulary object containing unique words and their indices.\n",
    "\n",
    "  Returns:\n",
    "  nn.Embedding: A PyTorch embedding layer with a specified embedding dimension.\n",
    "  \"\"\"\n",
    "  embedding_dim = 20\n",
    "  vocab_size = len(vocab)\n",
    "  embeddings = nn.Embedding(vocab_size, embedding_dim)\n",
    "\n",
    "  return embeddings"
   ]
  },
  {
   "cell_type": "markdown",
   "id": "96717f04",
   "metadata": {},
   "source": [
    "Obtain the embedding for the first word with index 0 or 1. Don't forget that you have to convert the input into a tensor. The embeddings are initially initialized randomly, but as the model undergoes training, words with similar meanings gradually come to cluster closer together"
   ]
  },
  {
   "cell_type": "code",
   "execution_count": 13,
   "id": "8a06400e",
   "metadata": {},
   "outputs": [
    {
     "name": "stdout",
     "output_type": "stream",
     "text": [
      "Word: <unk>\n",
      "Index: 0\n",
      "Embedding: tensor([-0.6354, -0.2197,  0.8491,  0.1431, -2.2938, -1.8163,  0.1331,  0.0476,\n",
      "        -0.7577, -1.4908,  1.3110,  0.3879,  0.8222, -0.1266,  0.5712,  1.3758,\n",
      "         0.1485,  0.6107,  0.7573, -1.2085], grad_fn=<EmbeddingBackward0>)\n",
      "Embedding shape: torch.Size([20])\n",
      "Word: gonna\n",
      "Index: 1\n",
      "Embedding: tensor([-0.2112, -0.0594, -1.7269, -1.0018,  1.6897,  0.8871, -0.6761,  1.2268,\n",
      "         0.4421,  0.0943,  0.2007, -0.7764,  0.6807,  0.5567,  1.4730,  0.3976,\n",
      "        -2.1650,  0.6482,  0.4216,  1.1344], grad_fn=<EmbeddingBackward0>)\n",
      "Embedding shape: torch.Size([20])\n"
     ]
    }
   ],
   "source": [
    "embeddings = genembedding(vocab)\n",
    "for n in range(2):\n",
    "  embedding = embeddings(torch.tensor(n))\n",
    "  print(\"Word:\",index_to_token[n])\n",
    "  print(\"Index:\",n)\n",
    "  print( \"Embedding:\", embedding)\n",
    "  print(\"Embedding shape:\", embedding.shape)\n",
    "\n"
   ]
  },
  {
   "cell_type": "markdown",
   "id": "61229ed3",
   "metadata": {},
   "source": [
    "## Building the Context Vector"
   ]
  },
  {
   "cell_type": "code",
   "execution_count": 17,
   "id": "c10f3905",
   "metadata": {},
   "outputs": [
    {
     "data": {
      "text/plain": [
       "torch.Size([2, 20])"
      ]
     },
     "execution_count": 17,
     "metadata": {},
     "output_type": "execute_result"
    }
   ],
   "source": [
    "embedding_dim = 20\n",
    "linear = nn.Linear(embedding_dim * CONTEXT_SIZE, 128)\n",
    "\n",
    "embeddings = genembedding(vocab)\n",
    "my_embeddings = embeddings(torch.tensor(vocab(context)))\n",
    "my_embeddings.shape\n"
   ]
  },
  {
   "cell_type": "code",
   "execution_count": 18,
   "id": "53828d8b",
   "metadata": {},
   "outputs": [
    {
     "data": {
      "text/plain": [
       "torch.Size([1, 40])"
      ]
     },
     "execution_count": 18,
     "metadata": {},
     "output_type": "execute_result"
    }
   ],
   "source": [
    "my_embeddings = my_embeddings.reshape(1, -1)\n",
    "my_embeddings.shape"
   ]
  },
  {
   "cell_type": "code",
   "execution_count": 19,
   "id": "9928e679",
   "metadata": {},
   "outputs": [
    {
     "data": {
      "text/plain": [
       "tensor([[-4.8589e-02,  4.6554e-01,  4.4658e-02, -5.4018e-01,  4.9972e-01,\n",
       "          2.2336e-02,  1.0005e+00, -2.3656e-01, -7.8520e-01,  4.3643e-01,\n",
       "         -2.1531e-01,  4.5250e-01,  1.3677e-01, -2.4120e-01,  8.2444e-01,\n",
       "         -1.0938e-01,  4.1674e-01, -7.1123e-01, -3.4872e-01, -1.6817e-01,\n",
       "         -1.3821e+00, -7.1429e-01, -5.4796e-01,  8.2348e-01, -7.2317e-01,\n",
       "         -2.3837e-01,  7.1665e-01,  3.5728e-01,  2.9353e-01,  9.0465e-01,\n",
       "         -2.5045e-01,  2.6704e-01, -2.8450e-02, -2.7208e-01, -2.2629e-01,\n",
       "          2.8039e-02, -3.7449e-01,  3.3556e-01,  3.0679e-01, -1.0667e-01,\n",
       "         -8.8807e-02, -2.1987e-01, -2.9507e-02,  4.4298e-01, -6.1503e-01,\n",
       "          1.0806e-03, -5.1298e-03,  3.8995e-01, -9.6559e-01,  4.9574e-01,\n",
       "          4.8145e-01, -5.9496e-01, -1.6780e+00,  1.4674e+00,  1.7029e-01,\n",
       "          9.5823e-01, -9.0435e-01,  2.2929e-01, -7.2717e-01,  8.3934e-01,\n",
       "         -1.7391e-01,  5.4527e-01,  8.2080e-02, -9.9844e-01, -6.1184e-01,\n",
       "          1.3546e-01, -1.1739e-01, -2.6797e-01, -1.7212e-01, -5.2799e-01,\n",
       "         -3.2401e-01,  6.3421e-01, -3.5115e-01, -1.5144e+00, -8.2165e-01,\n",
       "         -3.4125e-01, -4.4665e-01, -1.0689e+00,  8.0070e-01,  8.1288e-02,\n",
       "         -8.6747e-01,  2.7795e-01, -2.4353e-01, -4.0597e-01,  5.7632e-01,\n",
       "          1.5434e-01, -4.3649e-01, -8.5000e-02, -1.8403e-02,  2.5084e-01,\n",
       "          6.8602e-01, -9.1298e-02,  8.2603e-03, -8.3777e-01, -8.5000e-01,\n",
       "          8.1552e-02, -1.5539e+00, -8.6841e-01,  5.9639e-01, -4.4060e-01,\n",
       "          1.7666e-01,  3.1594e-01, -4.1929e-01, -2.7909e-01, -7.8071e-01,\n",
       "         -5.4338e-01,  1.7571e+00, -2.8307e-01, -3.8811e-01, -1.0226e-01,\n",
       "          1.1514e+00, -4.7814e-01,  7.5594e-01,  8.6142e-01, -2.8229e-01,\n",
       "          3.4942e-01, -5.1450e-01,  1.5135e-01,  3.0290e-01, -2.7926e-01,\n",
       "         -2.8404e-02,  3.3402e-01, -7.0565e-02, -1.3020e+00, -5.3192e-01,\n",
       "         -1.2281e-01,  6.3784e-01,  4.3404e-01]], grad_fn=<AddmmBackward0>)"
      ]
     },
     "execution_count": 19,
     "metadata": {},
     "output_type": "execute_result"
    }
   ],
   "source": [
    "linear(my_embeddings)"
   ]
  },
  {
   "cell_type": "markdown",
   "id": "0f000f43",
   "metadata": {},
   "source": [
    "## Batch function and Data Loader"
   ]
  },
  {
   "cell_type": "markdown",
   "id": "4d49a292",
   "metadata": {},
   "source": [
    "Create a Batch function to interface with the data loader. Several adjustments are necessary to handle words that are part of a context in one batch and a predicted word in the following batch."
   ]
  },
  {
   "cell_type": "code",
   "execution_count": 22,
   "id": "ec590427",
   "metadata": {},
   "outputs": [],
   "source": [
    "device = torch.device('cuda' if torch.cuda.is_available() else 'cpu')\n",
    "\n",
    "CONTEXT_SIZE = 3\n",
    "BATCH_SIZE = 10\n",
    "EMBEDDING_DIM = 10\n",
    "\n",
    "def collate_fn(batch):\n",
    "  \"\"\"\n",
    "  Processes a batch of text data into input (context) and output (target) tensors\n",
    "  for training a language model.\n",
    "\n",
    "  The function extracts:\n",
    "  - `context`: A list of word indices representing the context words for each target word.\n",
    "  - `target`: A list of word indices representing the target word to predict.\n",
    "\n",
    "  Parameters:\n",
    "  batch (list): A list of tokenized words (strings).\n",
    "\n",
    "  Returns:\n",
    "  tuple: Two PyTorch tensors: (context_tensor, target_tensor)\n",
    "          - context_tensor: Tensor of shape (batch_size - CONTEXT_SIZE, CONTEXT_SIZE),\n",
    "            containing the word indices of context words.\n",
    "          - target_tensor: Tensor of shape (batch_size - CONTEXT_SIZE,),\n",
    "            containing the word indices of target words.\n",
    "  \"\"\"\n",
    "  batch_size = len(batch)\n",
    "  context, target = [], []\n",
    "\n",
    "  for i in range(CONTEXT_SIZE, batch_size):\n",
    "    target.append(vocab([batch[i]]))\n",
    "    context.append(vocab([batch[i - j - 1] for j in range(CONTEXT_SIZE)]))\n",
    "\n",
    "  return torch.tensor(context).to(device), torch.tensor(target).to(device).reshape(-1)"
   ]
  },
  {
   "cell_type": "markdown",
   "id": "a48b2714",
   "metadata": {},
   "source": [
    "Similarly, it's important to highlight that the size of the last batch could deviate from that of the earlier batches. To tackle this, the approach involves adjusting the final batch to conform to the specified batch size, ensuring it becomes a multiple of the predetermined size. When necessary, you'll employ padding techniques to achieve this harmonization. One approach you'll use is appending the beginning of the song to the end of the batch."
   ]
  },
  {
   "cell_type": "code",
   "execution_count": 23,
   "id": "6457f757",
   "metadata": {},
   "outputs": [],
   "source": [
    "padding = BATCH_SIZE - len(tokens) % BATCH_SIZE\n",
    "tokens_pad = tokens + tokens[0:padding]\n",
    "\n",
    "dataloader = DataLoader(\n",
    "  tokens_pad,\n",
    "  batch_size=BATCH_SIZE,\n",
    "  shuffle=False,\n",
    "  collate_fn=collate_fn\n",
    ")"
   ]
  },
  {
   "cell_type": "markdown",
   "id": "443374c6",
   "metadata": {},
   "source": [
    "## Multi-class neural network"
   ]
  },
  {
   "cell_type": "markdown",
   "id": "16236c02",
   "metadata": {},
   "source": [
    "The network's output is the probability of the next word within a given context. Therefore, the number of classes corresponds to the count of distinct words. The initial layer consists of embeddings, and in addition to the final layer, an extra hidden layer is incorporated."
   ]
  },
  {
   "cell_type": "code",
   "execution_count": 24,
   "id": "6f24fb24",
   "metadata": {},
   "outputs": [],
   "source": [
    "class NGramLanguageModeler(nn.Module):\n",
    "  \"\"\"\n",
    "  A neural network-based n-gram language model that predicts the next word \n",
    "  given a sequence of context words.\n",
    "\n",
    "  This model consists of:\n",
    "  - An embedding layer that converts word indices into dense vector representations.\n",
    "  - A fully connected hidden layer with ReLU activation.\n",
    "  - An output layer that predicts the probability distribution over the vocabulary.\n",
    "\n",
    "  Parameters:\n",
    "  vocab_size (int): The number of unique words in the vocabulary.\n",
    "  embedding_dim (int): The size of the word embeddings (vector representation of words).\n",
    "  context_size (int): The number of previous words used as context to predict the next word.\n",
    "  \"\"\"\n",
    "  def __init__(self, vocab_size, embedding_dim, context_size):\n",
    "    super(NGramLanguageModeler, self).__init__()\n",
    "\n",
    "    self.context_size = context_size\n",
    "    self.embedding_dim = embedding_dim\n",
    "\n",
    "    # Embedding layer: Maps word indices to dense vectors\n",
    "    self.embeddings = nn.Embedding(vocab_size, embedding_dim)\n",
    "\n",
    "    # Fully connected hidden layer: Maps the concatenated embeddings to a 128-dim space\n",
    "    self.linear1 = nn.Linear(context_size * embedding_dim, 128)\n",
    "\n",
    "    # Output layer: Maps the hidden layer output to vocabulary size (probability distribution over words)\n",
    "    self.linear2 = nn.Linear(128, vocab_size)\n",
    "\n",
    "  def forward(self, inputs):\n",
    "      \"\"\"\n",
    "      Forward pass of the model.\n",
    "\n",
    "      Parameters:\n",
    "      inputs (Tensor): A tensor of shape (batch_size, context_size) containing word indices.\n",
    "\n",
    "      Returns:\n",
    "      Tensor: A tensor of shape (batch_size, vocab_size) representing predicted probabilities for the next word.\n",
    "      \"\"\"\n",
    "      embeds = self.embeddings(inputs)\n",
    "      embeds = torch.reshape(embeds, (-1, self.context_size * self.embedding_dim))\n",
    "      out = F.relu(self.linear1(embeds))\n",
    "      out = self.linear2(out)\n",
    "\n",
    "      return out\n"
   ]
  },
  {
   "cell_type": "code",
   "execution_count": 33,
   "id": "b6db4b8d",
   "metadata": {},
   "outputs": [
    {
     "name": "stdout",
     "output_type": "stream",
     "text": [
      "tensor([[70, 58, 21],\n",
      "        [74, 70, 58],\n",
      "        [25, 74, 70],\n",
      "        [69, 25, 74],\n",
      "        [ 2, 69, 25],\n",
      "        [20,  2, 69],\n",
      "        [31, 20,  2]]) tensor([74, 25, 69,  2, 20, 31, 72])\n",
      "torch.Size([7, 79])\n"
     ]
    }
   ],
   "source": [
    "model = NGramLanguageModeler(len(vocab), EMBEDDING_DIM, CONTEXT_SIZE).to(device)\n",
    "\n",
    "context, target = next(iter(dataloader))\n",
    "print(context, target)\n",
    "out = model(context)\n",
    "print(out.shape)"
   ]
  },
  {
   "cell_type": "markdown",
   "id": "8b4e67da",
   "metadata": {},
   "source": [
    "While the model remains untrained, analyzing the output can provide us with a clearer understanding. In the output, the first dimension corresponds to the batch size, while the second dimension represents the probability associated with each class."
   ]
  },
  {
   "cell_type": "code",
   "execution_count": 35,
   "id": "ad4b6ca8",
   "metadata": {},
   "outputs": [
    {
     "name": "stdout",
     "output_type": "stream",
     "text": [
      "tensor([ 9, 31, 42, 72, 39, 63, 40])\n"
     ]
    },
    {
     "data": {
      "text/plain": [
       "['around', 'the', 'hearts', 'rules', 'game', 'dont', 'going']"
      ]
     },
     "execution_count": 35,
     "metadata": {},
     "output_type": "execute_result"
    }
   ],
   "source": [
    "predicted_index =torch.argmax(out,1)\n",
    "print(predicted_index)\n",
    "[index_to_token[i.item()] for i in  predicted_index]"
   ]
  },
  {
   "cell_type": "code",
   "execution_count": 37,
   "id": "220fa7a6",
   "metadata": {},
   "outputs": [],
   "source": [
    "def write_song(model, my_song, number_of_words=100):\n",
    "  \"\"\"\n",
    "  Generates text using a trained n-gram language model.\n",
    "\n",
    "  Given an initial text (`my_song`), the function generates additional words by \n",
    "  predicting the next word iteratively based on the trained model.\n",
    "\n",
    "  Parameters:\n",
    "  model (nn.Module): The trained n-gram language model.\n",
    "  my_song (str): The initial seed text to start generating words.\n",
    "  number_of_words (int): The number of words to generate (default: 100).\n",
    "\n",
    "  Returns:\n",
    "  str: The generated song lyrics as a string.\n",
    "  \"\"\"\n",
    "  index_to_token = vocab.get_itos()\n",
    "\n",
    "  for i in range(number_of_words):\n",
    "    with torch.no_grad():\n",
    "      # Prepare the input context by extracting the last CONTEXT_SIZE words from tokens\n",
    "      context = torch.tensor(\n",
    "          vocab([tokens[i - j - 1] for j in range(CONTEXT_SIZE)])\n",
    "      ).to(device)\n",
    "      \n",
    "      word_idx = torch.argmax(model(context))\n",
    "      \n",
    "      my_song += \" \" + index_to_token[word_idx.detach().item()]\n",
    "\n",
    "  return my_song"
   ]
  },
  {
   "cell_type": "code",
   "execution_count": 38,
   "id": "941638de",
   "metadata": {},
   "outputs": [],
   "source": [
    "def pickrandomline(song):\n",
    "  \"\"\"\n",
    "  Selects a random line from the given song text.\n",
    "  This function splits the song into separate lines and randomly picks one of them.\n",
    "  Parameters:\n",
    "  song (str): The song lyrics as a multi-line string.\n",
    "  Returns:\n",
    "  str: A randomly selected line from the song.\n",
    "  \"\"\"\n",
    "  # Split the song into individual lines\n",
    "  lines = song.split(\"\\n\")    \n",
    "  # Randomly select a line and remove leading/trailing whitespace\n",
    "  selected_line = random.choice(lines).strip()\n",
    "  \n",
    "  return selected_line"
   ]
  },
  {
   "cell_type": "code",
   "execution_count": 39,
   "id": "96808f8e",
   "metadata": {},
   "outputs": [
    {
     "name": "stdout",
     "output_type": "stream",
     "text": [
      "Never gonna make you cry around rules are around the hearts rules game dont going rules rules too shy dont if going rules gonna gonna the gonna around dont game rules gonna rules shy it the game never rules gonna dont lie the gonna gonna desert what shy give get game rules whats shy are make long know if make give do you around your shy it give rules what you dont what desert give me dont going make hearts around say shy going rules around get shy blind game gonna the im it going rules we rules thinking wanna do each too game rules\n"
     ]
    }
   ],
   "source": [
    "selected_line = pickrandomline(song)\n",
    "generated_song = write_song(model, selected_line)\n",
    "print(generated_song)"
   ]
  },
  {
   "cell_type": "markdown",
   "id": "bfb2b636",
   "metadata": {},
   "source": [
    "## Training"
   ]
  },
  {
   "cell_type": "markdown",
   "id": "259da6c8",
   "metadata": {},
   "source": [
    "Training a language model involves a multi-step process that leverages training and testing data to optimize model performance. In the realm of Natural Language Processing (NLP), this process often employs various metrics to gauge a model's accuracy, such as perplexity or accuracy on unseen data. However, in the context of your current exploration, you will embark on a slightly different journey. Instead of relying solely on conventional NLP metrics, the focus shifts to manual inspection of the results. "
   ]
  },
  {
   "cell_type": "code",
   "execution_count": 40,
   "id": "df25a9bc",
   "metadata": {},
   "outputs": [],
   "source": [
    "criterion = torch.nn.CrossEntropyLoss()"
   ]
  },
  {
   "cell_type": "code",
   "execution_count": 41,
   "id": "d54413ee",
   "metadata": {},
   "outputs": [],
   "source": [
    "def train(dataloader, model, song, number_of_epochs=100, show=10):\n",
    "  \"\"\"\n",
    "  Args:\n",
    "    dataloader (DataLoader): DataLoader containing training data.\n",
    "    model (nn.Module): Neural network model to be trained.\n",
    "    number_of_epochs (int, optional): Number of epochs for training. Default is 100.\n",
    "    show (int, optional): Interval for displaying progress. Default is 10.\n",
    "  Returns:\n",
    "    list: List containing loss values for each epoch.\n",
    "  \"\"\"\n",
    "  MY_LOSS = []  # List to store loss values for each epoch\n",
    "\n",
    "  \n",
    "  for epoch in tqdm(range(number_of_epochs)):\n",
    "    total_loss = 0 \n",
    "    my_song = \"\"\n",
    "\n",
    "    for context, target in dataloader:\n",
    "      model.zero_grad()\n",
    "      predicted = model(context)\n",
    "      loss = criterion(predicted, target.reshape(-1))\n",
    "      total_loss += loss.item()\n",
    "\n",
    "      loss.backward()\n",
    "      optimizer.step()\n",
    "\n",
    "    # Display progress and generate song at specified intervals\n",
    "    if epoch % show == 0:\n",
    "      selected_line = pickrandomline(song)\n",
    "      my_song += write_song(model, selected_line)\n",
    "\n",
    "      print(\"Generated Song:\")\n",
    "      print(\"\\n\")\n",
    "      print(my_song)\n",
    "\n",
    "    MY_LOSS.append(total_loss/len(dataloader)) \n",
    "\n",
    "  return MY_LOSS"
   ]
  },
  {
   "cell_type": "markdown",
   "id": "5f6e0ef6",
   "metadata": {},
   "source": [
    "### For a context of 2"
   ]
  },
  {
   "cell_type": "code",
   "execution_count": 42,
   "id": "a690f314",
   "metadata": {},
   "outputs": [
    {
     "name": "stderr",
     "output_type": "stream",
     "text": [
      " 15%|█▌        | 15/100 [00:00<00:01, 78.45it/s]"
     ]
    },
    {
     "name": "stdout",
     "output_type": "stream",
     "text": [
      "Generated Song:\n",
      "\n",
      "\n",
      "Never gonna let you down never hurt each give you you and never too never around you and commitments we around guy never and guy give around give around give for for around what and strangers around you around give for and never never hurt never hurt gonna never for never gonna gonna never we never commitments gonna never for and you give never gonna never for never gonna gonna never for give gonna never around it for around around never never for around never never and guy guy and guy around never you and for you get and thinking around hurt you you strangers\n",
      "Generated Song:\n",
      "\n",
      "\n",
      "Never gonna say goodbye never never gonna you you you you never never you you you you you you you you never you you you you never gonna you you and you never you you you gonna you never never you never never you never never gonna tell you never never gonna tell you never never gonna tell around and you you never gonna tell you never never gonna tell you never gonna tell you you you you you never never you you never never gonna and gonna you you you you never gonna you you never you and gonna gonna you you you\n",
      "Generated Song:\n",
      "\n",
      "\n",
      "Inside we both know whats been going on never never gonna you you you you never never you you hurt you tell you down you never you you you you never gonna and and and you and you you you gonna you you you and you never you never never gonna tell you up never gonna tell you you never gonna tell around and desert you never gonna tell you never never gonna tell you never gonna tell you lie and hurt you never never and you you never gonna and gonna been you you you never gonna you you never you we and gonna you you you\n"
     ]
    },
    {
     "name": "stderr",
     "output_type": "stream",
     "text": [
      " 48%|████▊     | 48/100 [00:00<00:00, 102.50it/s]"
     ]
    },
    {
     "name": "stdout",
     "output_type": "stream",
     "text": [
      "Generated Song:\n",
      "\n",
      "\n",
      "Never gonna make you cry never never gonna you you you you never never you you hurt you tell you down you never you you you you down gonna desert been and and and you to you tell you down you feeling never never you cry never gonna tell you up never gonna tell you down never gonna tell around and desert you never gonna tell you cry never gonna tell you never gonna tell a lie and hurt you never never and you hurt never and and gonna been you but you never gonna to you never you we both know you you never\n",
      "Generated Song:\n",
      "\n",
      "\n",
      "Never gonna make you cry never never no strangers to love you never never been you desert you tell you lie you never you you you you how gonna desert been and other and you to you tell you how im feeling never never you cry never gonna tell you up never gonna tell you down never gonna tell around and desert you never gonna tell you cry never gonna tell goodbye never gonna tell a lie and hurt you never never and you for never and and gonna been aching but you never gonna to you never you we both know you been going\n",
      "Generated Song:\n",
      "\n",
      "\n",
      "Never gonna give you up never never no strangers to love you never never game you desert you i you lie you never you you you you how and desert been and other how you to you tell you how im feeling gotta never you cry never gonna tell you up never gonna tell you down never gonna tell around and desert you never gonna tell you cry never gonna tell goodbye never gonna tell a lie and hurt you never never and other for you and and hearts been aching but you never gonna to love never you we both know whats been going\n"
     ]
    },
    {
     "name": "stderr",
     "output_type": "stream",
     "text": [
      " 81%|████████  | 81/100 [00:00<00:00, 94.20it/s] "
     ]
    },
    {
     "name": "stdout",
     "output_type": "stream",
     "text": [
      "Generated Song:\n",
      "\n",
      "\n",
      "Never gonna let you down never known no strangers to love you cry the game and desert you i a lie strangers never you you you you how and this been and other how you to to tell you how im feeling gotta make you cry never gonna tell you up never gonna tell you down never gonna tell around and desert you never gonna tell you cry never gonna tell goodbye never gonna tell a lie and hurt you never known each other for you and and hearts been aching but youre never shy to love never inside we both know whats been going\n",
      "Generated Song:\n",
      "\n",
      "\n",
      "Never gonna say goodbye never are no strangers to love you know the game and were you i a lie strangers never im feeling you you how and this been and other how you to to tell you how im feeling gotta make you cry never gonna tell you up never gonna tell you down never gonna tell around and desert you never gonna tell you cry never gonna tell goodbye never gonna tell a lie and hurt you never known each other for you and i hearts been aching but youre too shy to love never inside we both know whats been going\n",
      "Generated Song:\n",
      "\n",
      "\n",
      "Never gonna say goodbye never are no strangers to love you know the game and were you i a full strangers never im feeling the you how get this been and other how you to to tell you how im feeling gotta make you cry never gonna tell you up never gonna tell you down never gonna tell around and desert you never gonna tell you cry never gonna tell goodbye never gonna tell a lie and hurt you never known each other for you and i hearts been aching but youre too shy to love never inside we both know whats been going\n"
     ]
    },
    {
     "name": "stderr",
     "output_type": "stream",
     "text": [
      "100%|██████████| 100/100 [00:01<00:00, 92.71it/s]"
     ]
    },
    {
     "name": "stdout",
     "output_type": "stream",
     "text": [
      "Generated Song:\n",
      "\n",
      "\n",
      "Your hearts been aching but youre too shy to say it never are no strangers to love you know the game and were you i a full strangers never im feeling the you how get this from and other how you to to tell you how im feeling gotta make you cry never gonna tell you up never gonna tell you down never gonna tell around and desert you never gonna tell you cry never gonna tell goodbye never gonna tell a lie and hurt you never known each other for you and i hearts been aching but youre too shy to love never inside we both know whats been going\n"
     ]
    },
    {
     "name": "stderr",
     "output_type": "stream",
     "text": [
      "\n"
     ]
    }
   ],
   "source": [
    "my_loss_list = []\n",
    "CONTEXT_SIZE = 2\n",
    "\n",
    "model_2 = NGramLanguageModeler(len(vocab), EMBEDDING_DIM, CONTEXT_SIZE).to(device)\n",
    "optimizer = optim.SGD(model_2.parameters(), lr=0.01)\n",
    "scheduler = torch.optim.lr_scheduler.StepLR(optimizer, step_size=1.0, gamma=0.1)\n",
    "\n",
    "my_loss = train(dataloader, model_2, song)"
   ]
  },
  {
   "cell_type": "code",
   "execution_count": 43,
   "id": "92e355da",
   "metadata": {},
   "outputs": [],
   "source": [
    "save_path = 'models/2gram.pth'\n",
    "torch.save(model_2.state_dict(), save_path)\n",
    "my_loss_list.append(my_loss)"
   ]
  },
  {
   "cell_type": "markdown",
   "id": "1c3d2816",
   "metadata": {},
   "source": [
    "\n",
    "The code provided below shows word embeddings from the created model, reduces their dimensionality to 2D using t-SNE, and then plots them as a scatter plot. Additionally, it annotates the first 20 points in the visualization with their corresponding words. This is used to visualize how similar words cluster together in a lower-dimensional space, revealing the structure of the word embeddings. Embeddings allow the model to represent words in a continuous vector space, capturing semantic relationships and similarities between words."
   ]
  },
  {
   "cell_type": "code",
   "execution_count": null,
   "id": "843a359c",
   "metadata": {},
   "outputs": [
    {
     "data": {
      "image/png": "[encoded data removed]",
      "text/plain": [
       "<Figure size 640x480 with 1 Axes>"
      ]
     },
     "metadata": {},
     "output_type": "display_data"
    }
   ],
   "source": [
    "X = model_2.embeddings.weight.cpu().detach().numpy()\n",
    "tsne = TSNE(n_components=2, random_state=42)\n",
    "X_2d = tsne.fit_transform(X)\n",
    "\n",
    "labels = []\n",
    "\n",
    "for j in range(len(X_2d)):\n",
    "  if j < 20:\n",
    "    plt.scatter(X_2d[j, 0], X_2d[j, 1], label=index_to_token[j])\n",
    "    labels.append(index_to_token[j])\n",
    "    # Add words as annotations\n",
    "    plt.annotate(index_to_token[j],\n",
    "                  (X_2d[j, 0], X_2d[j, 1]),\n",
    "                  textcoords=\"offset points\",\n",
    "                  xytext=(0, 10),\n",
    "                  ha='center')\n",
    "  else:\n",
    "    plt.scatter(X_2d[j, 0], X_2d[j, 1])\n",
    "\n",
    "plt.legend(labels, loc='upper left', bbox_to_anchor=(1, 1))\n",
    "plt.show()"
   ]
  },
  {
   "cell_type": "markdown",
   "id": "49169412",
   "metadata": {},
   "source": [
    "### For a context of 4"
   ]
  },
  {
   "cell_type": "code",
   "execution_count": 45,
   "id": "bf8a391d",
   "metadata": {},
   "outputs": [
    {
     "name": "stderr",
     "output_type": "stream",
     "text": [
      " 21%|██        | 21/100 [00:00<00:00, 101.43it/s]"
     ]
    },
    {
     "name": "stdout",
     "output_type": "stream",
     "text": [
      "Generated Song:\n",
      "\n",
      "\n",
      "A full commitments what Im thinking of give never up you know up cry are know i are cry this for cry other never up you you but other never never never guy on never and other tell you any you up never up cry other are never up gonna up you hurt never gonna your you you never gonna up you run you you never gonna lie you up up gonna up other down your your you you never up you give never up gonna know other this other up cry are your up are are up up cry never up give cry gotta never up\n",
      "Generated Song:\n",
      "\n",
      "\n",
      "Inside we both know whats been going on never never gonna you gonna you you never never never you you you never gonna you never never you you gonna gonna never never gonna you never never never gonna gonna you you you you never gonna you you you never you gonna gonna you never never gonna let you you never gonna gonna you and you you never gonna make you never never gonna gonna you never gonna tell you you never never you never never gonna gonna never you gonna you you you you never gonna gonna you never never you never never you you never gonna gonna\n",
      "Generated Song:\n",
      "\n",
      "\n",
      "Inside we both know whats been going on never never gonna you and you you down never never you you you never a you never never you you never never you never gonna you make never and gonna gonna you you you you never feeling you make you never never gonna make you up never gonna let you down never gonna say around and desert you never gonna make you never never gonna say goodbye never gonna tell a you never hurt you never never gonna gonna for never make you never you you never gonna tell gonna make never you never and you know whats gonna never\n"
     ]
    },
    {
     "name": "stderr",
     "output_type": "stream",
     "text": [
      " 43%|████▎     | 43/100 [00:00<00:00, 103.72it/s]"
     ]
    },
    {
     "name": "stdout",
     "output_type": "stream",
     "text": [
      "Generated Song:\n",
      "\n",
      "\n",
      "Never gonna say goodbye never never gonna you to and you down never never and you desert never a you never never you you never never down never gonna let make never and gonna and you and you how im feeling gotta make you never never gonna say you up never gonna let you down never gonna say around and desert you never gonna make you up never gonna say goodbye never gonna tell a lie and hurt you never known each other for never make you you you aching but youre too shy to never you never and both know whats been going\n",
      "Generated Song:\n",
      "\n",
      "\n",
      "Your hearts been aching but youre too shy to say it never known gonna whats to love you know never never and you gonna never a you never never you you never never down never gonna let any never and i and you and a how im feeling gotta make you up never gonna say you up never gonna let you down never gonna say around and desert you never gonna make you cry never gonna say goodbye never gonna tell a lie and hurt you never known each other for never make you never been aching but youre too shy to and you never and both know whats been going\n",
      "Generated Song:\n",
      "\n",
      "\n",
      "Never gonna tell a lie and hurt you never are no strangers to love you know never never and were gonna never a full never what im you never never down never this from any other guy i and you and a how im feeling gotta make you up never gonna say you up never gonna let you down never gonna run around and desert you never gonna make you cry never gonna say goodbye never gonna tell a lie and hurt you never known each other for never make you never been aching but youre too shy to and you never and both know whats been going\n"
     ]
    },
    {
     "name": "stderr",
     "output_type": "stream",
     "text": [
      " 76%|███████▌  | 76/100 [00:00<00:00, 101.30it/s]"
     ]
    },
    {
     "name": "stdout",
     "output_type": "stream",
     "text": [
      "Generated Song:\n",
      "\n",
      "\n",
      "Never gonna tell a lie and hurt you never are no strangers to love you know never rules im were gonna never a full commitments what im you never never down never this from any other guy i tell you and a how im feeling gotta make you up never gonna say you up never gonna let you down never gonna run around and desert you never gonna make you cry never gonna say goodbye never gonna tell a lie and hurt you never known each other for so make you never been aching but youre too shy to and goodbye never we both know whats been going\n",
      "Generated Song:\n",
      "\n",
      "\n",
      "Never gonna say goodbye never are no strangers to love you know the rules im were gonna never a full commitments what im you cry never down never this from any other guy i tell and and a how im feeling gotta make you up never gonna say you up never gonna let you down never gonna run around and desert you never gonna make you cry never gonna say goodbye never gonna tell a lie and hurt you never known each other for so make you never been aching but youre too shy to see goodbye never we both know whats been going\n"
     ]
    },
    {
     "name": "stderr",
     "output_type": "stream",
     "text": [
      " 87%|████████▋ | 87/100 [00:00<00:00, 75.65it/s] "
     ]
    },
    {
     "name": "stdout",
     "output_type": "stream",
     "text": [
      "Generated Song:\n",
      "\n",
      "\n",
      "You know the rules and so do I never are no strangers to love you know the rules im were i play a full commitments what im thinking cry never down never this from any other guy i tell and play a how im feeling gotta make you up the gonna run you up never gonna let you down never gonna run around and desert you never gonna make you cry never gonna say goodbye never gonna tell a lie and hurt you never known each other for so make you never been aching but youre too shy to see goodbye never we both know whats been going\n",
      "Generated Song:\n",
      "\n",
      "\n",
      "Never gonna say goodbye never are no strangers to love you know the rules im were i play a full commitments what im thinking cry never know never this from any other guy i tell and play a how im feeling gotta make you cry the gonna run you up never gonna let you down never gonna run around and desert you never gonna make you cry never gonna say goodbye never gonna tell a lie and hurt you never known each other for so make you never been aching but youre too shy to see goodbye never we both know whats been going\n"
     ]
    },
    {
     "name": "stderr",
     "output_type": "stream",
     "text": [
      "100%|██████████| 100/100 [00:01<00:00, 87.04it/s]\n"
     ]
    }
   ],
   "source": [
    "CONTEXT_SIZE=4\n",
    "model_4 = NGramLanguageModeler(len(vocab), EMBEDDING_DIM, CONTEXT_SIZE).to(device)\n",
    "optimizer = optim.SGD(model_4.parameters(), lr=0.01)\n",
    "scheduler = torch.optim.lr_scheduler.StepLR(optimizer, 1.0, gamma=0.1)\n",
    "my_loss=train(dataloader,model_4,song)\n",
    "\n",
    "save_path = 'models/4gram.pth'\n",
    "torch.save(model_4.state_dict(), save_path)\n",
    "\n",
    "my_loss_list.append(my_loss)"
   ]
  },
  {
   "cell_type": "code",
   "execution_count": 47,
   "id": "3ea83905",
   "metadata": {},
   "outputs": [
    {
     "data": {
      "image/png": "[encoded data removed]",
      "text/plain": [
       "<Figure size 640x480 with 1 Axes>"
      ]
     },
     "metadata": {},
     "output_type": "display_data"
    }
   ],
   "source": [
    "X = model_4.embeddings.weight.cpu().detach().numpy()\n",
    "tsne = TSNE(n_components=2, random_state=42)\n",
    "X_2d = tsne.fit_transform(X)\n",
    "\n",
    "labels = []\n",
    "\n",
    "for j in range(len(X_2d)):\n",
    "  if j < 20:\n",
    "    plt.scatter(X_2d[j, 0], X_2d[j, 1], label=index_to_token[j])\n",
    "    labels.append(index_to_token[j])\n",
    "    # Add words as annotations\n",
    "    plt.annotate(index_to_token[j],\n",
    "                  (X_2d[j, 0], X_2d[j, 1]),\n",
    "                  textcoords=\"offset points\",\n",
    "                  xytext=(0, 10),\n",
    "                  ha='center')\n",
    "  else:\n",
    "    plt.scatter(X_2d[j, 0], X_2d[j, 1])\n",
    "\n",
    "plt.legend(labels, loc='upper left', bbox_to_anchor=(1, 1))\n",
    "plt.show()"
   ]
  },
  {
   "cell_type": "markdown",
   "id": "cb5dfd67",
   "metadata": {},
   "source": [
    "### For a context of 8"
   ]
  },
  {
   "cell_type": "code",
   "execution_count": 50,
   "id": "a9af389f",
   "metadata": {},
   "outputs": [
    {
     "name": "stderr",
     "output_type": "stream",
     "text": [
      " 10%|█         | 10/100 [00:00<00:01, 49.70it/s]"
     ]
    },
    {
     "name": "stdout",
     "output_type": "stream",
     "text": [
      "Generated Song:\n",
      "\n",
      "\n",
      "Never gonna say goodbye never do you me from been you cry tell a and down it tell you down love you im you around down do desert tell you ask long game you you you on never never you tell lie it you gotta but down never any down down down let you down long tell you you down see tell never gonna you you down down down tell you down down tell a tell been do you never love down so you down long give you too down weve the you it down you down never ask you you love down down\n",
      "Generated Song:\n",
      "\n",
      "\n",
      "Never gonna tell a lie and hurt you never never tell you for love you you the gonna you make you never you down never gonna im you you make you gonna tell you make you guy you you you you never never you make you make you never never gonna never you down gonna gonna let you down never gonna let around down never you never gonna make you down never gonna never around down gonna tell a lie never tell you never you gonna you for you gonna never make you you you never you shy never you gonna never make you you never you going\n"
     ]
    },
    {
     "name": "stderr",
     "output_type": "stream",
     "text": [
      " 37%|███▋      | 37/100 [00:00<00:00, 76.70it/s]"
     ]
    },
    {
     "name": "stdout",
     "output_type": "stream",
     "text": [
      "Generated Song:\n",
      "\n",
      "\n",
      "Never gonna give you up never never tell you for love you tell the rules other make you never you i never never im thinking you make you gonna rules you make you guy i you you you never never you make you make you never never gonna say make down never gonna let you down never gonna run around and never tell never gonna make you up never gonna say around down gonna tell a lie never hurt you never you gonna other for so gonna never make you going you tell too shy to you i never make you you never been going\n",
      "Generated Song:\n",
      "\n",
      "\n",
      "Never gonna tell a lie and hurt you never never rules other for love you tell the rules other make you never you i never never im thinking you make you the play you make you guy i you you you never never you make you make you never never gonna say make down never gonna let you down never gonna run around and never tell never gonna make you up never gonna say around and gonna tell a lie never hurt you never you gonna other for so gonna give make you going you tell too shy to it i never thinking you you love been going\n"
     ]
    },
    {
     "name": "stderr",
     "output_type": "stream",
     "text": [
      " 54%|█████▍    | 54/100 [00:00<00:00, 79.61it/s]"
     ]
    },
    {
     "name": "stdout",
     "output_type": "stream",
     "text": [
      "Generated Song:\n",
      "\n",
      "\n",
      "Never gonna run around and desert you never never rules other for love you tell the rules i make you never you i never never im thinking you make you the play you make you guy i i you you never never rules make you make you never never gonna say make down never gonna let you down never gonna run around and never tell never gonna make you up never gonna say around and gonna tell a lie never hurt you never you gonna other for so gonna give make you going you tell too shy to it i im thinking you you love been going\n",
      "Generated Song:\n",
      "\n",
      "\n",
      "Weve known each other for so long never never rules other for love you tell the rules i make you never you i never never im thinking you make you the play you make you guy i i you you never never rules make you make you never never gonna say make down never gonna let you down never gonna run around and never tell never gonna make you up never gonna say around and gonna tell a lie never hurt you never you gonna other for so gonna give make you going you tell too shy to it i im thinking make you to been going\n"
     ]
    },
    {
     "name": "stderr",
     "output_type": "stream",
     "text": [
      " 72%|███████▏  | 72/100 [00:00<00:00, 83.36it/s]"
     ]
    },
    {
     "name": "stdout",
     "output_type": "stream",
     "text": [
      "Generated Song:\n",
      "\n",
      "\n",
      "Never gonna tell a lie and hurt you never never rules other for love you tell the rules i make you never you i never never im thinking you make you the play you make you guy i i you you never never rules make you make you never never gonna say make down never gonna let you down never gonna run around and never tell never gonna make you up never gonna say around and gonna tell a lie never hurt you never you rules other for so gonna give make you going you tell too shy to it i im thinking make you to been going\n",
      "Generated Song:\n",
      "\n",
      "\n",
      "Never gonna let you down never im rules other for love you tell the rules i make you never you i never never im thinking you make you the play on make you guy i i you you never never rules make you make you never never gonna say make down never gonna let you down never gonna run around and never tell never gonna make you up never gonna say around and gonna tell a lie never hurt you never you rules other for so gonna give make say going you tell too shy to it i im thinking make you to been going\n"
     ]
    },
    {
     "name": "stderr",
     "output_type": "stream",
     "text": [
      " 91%|█████████ | 91/100 [00:01<00:00, 87.16it/s]"
     ]
    },
    {
     "name": "stdout",
     "output_type": "stream",
     "text": [
      "Generated Song:\n",
      "\n",
      "\n",
      "Inside we both know whats been going on never im rules other for love you tell the rules i make you never you i never never im thinking you make you the play on make you guy i i you you never never rules make you make you never tell gonna say make down never gonna let you down never gonna run around and never tell never gonna make you up never gonna say around and gonna tell a lie never hurt you never you rules other for so gonna give make say going you tell too shy to it i im thinking make you to been going\n",
      "Generated Song:\n",
      "\n",
      "\n",
      "Never gonna give you up never im rules other for love you tell the rules i make you never you i never never im thinking you make you the play on make you guy i i you you never never rules make you make you never tell gonna say make down never gonna let you down never gonna run around and never tell never gonna make you up never gonna say around and gonna tell a lie never hurt you never you rules other for so gonna give make say going you tell too shy to it i im thinking make you to been going\n"
     ]
    },
    {
     "name": "stderr",
     "output_type": "stream",
     "text": [
      "100%|██████████| 100/100 [00:01<00:00, 78.09it/s]\n"
     ]
    }
   ],
   "source": [
    "CONTEXT_SIZE=8\n",
    "model_8 = NGramLanguageModeler(len(vocab), EMBEDDING_DIM, CONTEXT_SIZE).to(device)\n",
    "optimizer = optim.SGD(model_8.parameters(), lr=0.01)\n",
    "\n",
    "scheduler = torch.optim.lr_scheduler.StepLR(optimizer, 1.0, gamma=0.1)\n",
    "my_loss=train(dataloader,model_8,song)\n",
    "\n",
    "save_path = 'models/8gram.pth'\n",
    "torch.save(model_8.state_dict(), save_path)\n",
    "\n",
    "my_loss_list.append(my_loss)"
   ]
  },
  {
   "cell_type": "code",
   "execution_count": 49,
   "id": "53009ca6",
   "metadata": {},
   "outputs": [
    {
     "data": {
      "image/png": "[encoded data removed]",
      "text/plain": [
       "<Figure size 640x480 with 1 Axes>"
      ]
     },
     "metadata": {},
     "output_type": "display_data"
    }
   ],
   "source": [
    "X = model_8.embeddings.weight.cpu().detach().numpy()\n",
    "tsne = TSNE(n_components=2, random_state=42)\n",
    "X_2d = tsne.fit_transform(X)\n",
    "\n",
    "labels = []\n",
    "\n",
    "for j in range(len(X_2d)):\n",
    "  if j < 20:\n",
    "    plt.scatter(X_2d[j, 0], X_2d[j, 1], label=index_to_token[j])\n",
    "    labels.append(index_to_token[j])\n",
    "    # Add words as annotations\n",
    "    plt.annotate(index_to_token[j],\n",
    "                  (X_2d[j, 0], X_2d[j, 1]),\n",
    "                  textcoords=\"offset points\",\n",
    "                  xytext=(0, 10),\n",
    "                  ha='center')\n",
    "  else:\n",
    "    plt.scatter(X_2d[j, 0], X_2d[j, 1])\n",
    "\n",
    "plt.legend(labels, loc='upper left', bbox_to_anchor=(1, 1))\n",
    "plt.show()"
   ]
  },
  {
   "cell_type": "markdown",
   "id": "3314d97a",
   "metadata": {},
   "source": [
    "### Loss analysis"
   ]
  },
  {
   "cell_type": "markdown",
   "id": "a6c1f653",
   "metadata": {},
   "source": [
    "When considering the plotted loss for each model, a discernible trend emerges: an increase in context size correlates with a reduction in loss. While this specific approach lacks the inclusion of model validation or the utilization of conventional NLP evaluation metrics, the visual evidence substantiates its superior performance."
   ]
  },
  {
   "cell_type": "code",
   "execution_count": 51,
   "id": "4f3e734a",
   "metadata": {},
   "outputs": [
    {
     "data": {
      "image/png": "[encoded data removed]",
      "text/plain": [
       "<Figure size 640x480 with 1 Axes>"
      ]
     },
     "metadata": {},
     "output_type": "display_data"
    }
   ],
   "source": [
    "for (my_loss, model_name)in zip(my_loss_list,[\"models/2-gram\",\"models/4-gram\",\"models/8-gram\"]):\n",
    "  plt.plot(my_loss,label=\"Cross-entropy Loss - {}\".format(model_name))\n",
    "  plt.legend()"
   ]
  },
  {
   "cell_type": "markdown",
   "id": "35d1a13d",
   "metadata": {},
   "source": [
    "## Perplexity"
   ]
  },
  {
   "cell_type": "markdown",
   "id": "f70acdb3",
   "metadata": {},
   "source": [
    "Perplexity is a measurement used to evaluate the effectiveness of language models or probability models. It provides an indication of how well a model predicts a sample of data or the likelihood of an unseen event. Perplexity is commonly used in natural language processing tasks, such as machine translation, speech recognition, and language generation.\n",
    "\n",
    "Perplexity is derived from the concept of cross-entropy loss, which measures the dissimilarity between predicted probabilities and actual probabilities. \n",
    "\n",
    "$$\\text{Cross-Entropy Loss} = -\\sum_{i=1}^{N} y_i \\ln(p_i)$$\n",
    "The cross-entropy loss is calculated by taking the negative sum of the products of the true labels $y_i$ and the logarithm of the predicted probabilities $p_i$ over $N$ classes.\n",
    "\n",
    "Taking the exponential of the mean cross-entropy loss gives us the perplexity value.\n",
    "\n",
    "$$\\text{Perplexity} = e^{\\frac{1}{N} \\text{Cross-Entropy Loss}}$$\n",
    "\n",
    "\n",
    "A lower perplexity value indicates that the model is more confident and accurate in predicting the data. Conversely, a higher perplexity suggests that the model is less certain and less accurate in its predictions.\n",
    "\n",
    "Perplexity can be seen as an estimate of the average number of choices the model has for the next word or event in a sequence. A lower perplexity means that the model is more certain about the next word, while a higher perplexity means that there are more possible choices.\n"
   ]
  },
  {
   "cell_type": "code",
   "execution_count": 52,
   "id": "18f11658",
   "metadata": {},
   "outputs": [
    {
     "data": {
      "image/png": "[encoded data removed]",
      "text/plain": [
       "<Figure size 640x480 with 1 Axes>"
      ]
     },
     "metadata": {},
     "output_type": "display_data"
    }
   ],
   "source": [
    "for (my_loss, model_name)in zip(my_loss_list,[\"models/2-gram\",\"models/4-gram\",\"models/8-gram\"]):\n",
    "    # Calculate perplexity using the loss\n",
    "  perplexity = np.exp(my_loss)\n",
    "  plt.plot(perplexity,label=\"Perplexity - {}\".format(model_name))\n",
    "  plt.legend()"
   ]
  },
  {
   "cell_type": "markdown",
   "id": "e50031b4",
   "metadata": {},
   "source": [
    "## Exercise 1"
   ]
  },
  {
   "cell_type": "markdown",
   "id": "ca3c5975",
   "metadata": {},
   "source": [
    "Source a collection of nursery rhymes and compile them into a single text variable."
   ]
  },
  {
   "cell_type": "code",
   "execution_count": 54,
   "id": "5f67ad3b",
   "metadata": {},
   "outputs": [],
   "source": [
    "nursery_rhymes = \"\"\"\n",
    "Little Miss Muffet\n",
    "Sat on a tuffet,\n",
    "Eating her curds and whey;\n",
    "Along came a spider\n",
    "Who sat down beside her\n",
    "And frightened Miss Muffet away.\n",
    "\n",
    "Twinkle, twinkle, little star,\n",
    "How I wonder what you are!\n",
    "Up above the world so high,\n",
    "Like a diamond in the sky.\n",
    "\n",
    "Baa, baa, black sheep,\n",
    "Have you any wool?\n",
    "Yes sir, yes sir,\n",
    "Three bags full.\n",
    "\n",
    "Jack and Jill went up the hill\n",
    "To fetch a pail of water.\n",
    "Jack fell down and broke his crown,\n",
    "And Jill came tumbling after.\n",
    "\n",
    "Hickory dickory dock,\n",
    "The mouse ran up the clock.\n",
    "The clock struck one,\n",
    "The mouse ran down,\n",
    "Hickory dickory dock.\n",
    "\n",
    "Humpty Dumpty sat on a wall,\n",
    "Humpty Dumpty had a great fall.\n",
    "All the king's horses and all the king's men\n",
    "Couldn't put Humpty together again.\n",
    "\n",
    "Mary had a little lamb,\n",
    "Its fleece was white as snow;\n",
    "And everywhere that Mary went,\n",
    "The lamb was sure to go.\n",
    "\n",
    "Old MacDonald had a farm,\n",
    "E-I-E-I-O,\n",
    "And on his farm he had a cow,\n",
    "E-I-E-I-O.\n",
    "\n",
    "Itsy Bitsy Spider climbed up the waterspout.\n",
    "Down came the rain and washed the spider out.\n",
    "Out came the sun and dried up all the rain,\n",
    "And the Itsy Bitsy Spider climbed up the spout again.\n",
    "\n",
    "The wheels on the bus go round and round,\n",
    "Round and round,\n",
    "Round and round.\n",
    "The wheels on the bus go round and round,\n",
    "All through the town.\n",
    "\"\"\""
   ]
  },
  {
   "cell_type": "markdown",
   "id": "eadbdf1c",
   "metadata": {},
   "source": [
    "## Exercise 2"
   ]
  },
  {
   "cell_type": "markdown",
   "id": "139e55f2",
   "metadata": {},
   "source": [
    "Preprocess the text data to tokenize and create n-grams"
   ]
  },
  {
   "cell_type": "code",
   "execution_count": 56,
   "id": "fdf79a9d",
   "metadata": {},
   "outputs": [
    {
     "name": "stdout",
     "output_type": "stream",
     "text": [
      "['eating', 'tuffet', 'a', 'on', 'sat', 'muffet', 'miss', 'little'] her\n"
     ]
    }
   ],
   "source": [
    "N = 2\n",
    "tokens = preprocess(nursery_rhymes)\n",
    "ngrams = genngrams(tokens)\n",
    "context, target = ngrams[0]\n",
    "print(context, target)"
   ]
  },
  {
   "cell_type": "markdown",
   "id": "53cc511d",
   "metadata": {},
   "source": [
    "## Exercise 3"
   ]
  },
  {
   "cell_type": "markdown",
   "id": "2faaa86d",
   "metadata": {},
   "source": [
    "Convert Context Words into Embeddings and Pass Them Through a Linear Layer"
   ]
  },
  {
   "cell_type": "code",
   "execution_count": 57,
   "id": "458b8afd",
   "metadata": {},
   "outputs": [
    {
     "name": "stdout",
     "output_type": "stream",
     "text": [
      "Output shape: torch.Size([1, 128])\n"
     ]
    }
   ],
   "source": [
    "embedding_dim = 20  # Each word will be represented as a 20-dimensional vector\n",
    "\n",
    "vocab = tokenizetext(nursery_rhymes)  \n",
    "linear = nn.Linear(embedding_dim * CONTEXT_SIZE, 128)  \n",
    "\n",
    "embeddings = genembedding(vocab)  \n",
    "my_embeddings = embeddings(torch.tensor(vocab(context)))\n",
    "my_embeddings = my_embeddings.reshape(1, -1)  \n",
    "\n",
    "output = linear(my_embeddings)  \n",
    "print(\"Output shape:\", output.shape)  "
   ]
  },
  {
   "cell_type": "markdown",
   "id": "8aaa7f8d",
   "metadata": {},
   "source": [
    "## Exercise 4"
   ]
  },
  {
   "cell_type": "markdown",
   "id": "cd44dfa3",
   "metadata": {},
   "source": [
    "Implement Batch Processing with Padding for Language Modeling"
   ]
  },
  {
   "cell_type": "code",
   "execution_count": 58,
   "id": "100ab887",
   "metadata": {},
   "outputs": [
    {
     "name": "stdout",
     "output_type": "stream",
     "text": [
      "Total tokens (after padding): 240\n"
     ]
    }
   ],
   "source": [
    "CONTEXT_SIZE = 3\n",
    "BATCH_SIZE = 10\n",
    "EMBEDDING_DIM = 10\n",
    "\n",
    "padding = BATCH_SIZE - len(tokens) % BATCH_SIZE  \n",
    "tokens_pad = tokens + tokens[0:padding]  \n",
    "\n",
    "dataloader = DataLoader(\n",
    "    tokens_pad, batch_size=BATCH_SIZE, shuffle=False, collate_fn=collate_fn\n",
    ")  \n",
    "\n",
    "print(f\"Total tokens (after padding): {len(tokens_pad)}\")\n"
   ]
  },
  {
   "cell_type": "markdown",
   "id": "9d187b8d",
   "metadata": {},
   "source": [
    "## Exercise 5"
   ]
  },
  {
   "cell_type": "markdown",
   "id": "386f047f",
   "metadata": {},
   "source": [
    "Train an N-gram language model using the provided code structure"
   ]
  },
  {
   "cell_type": "code",
   "execution_count": 59,
   "id": "cee31197",
   "metadata": {},
   "outputs": [
    {
     "name": "stderr",
     "output_type": "stream",
     "text": [
      " 25%|██▌       | 25/100 [00:00<00:00, 120.99it/s]"
     ]
    },
    {
     "name": "stdout",
     "output_type": "stream",
     "text": [
      "Generated Song:\n",
      "\n",
      "\n",
      "Along came a spider mary had white white white full i black t macdonald of mouse and struck ran the wheels wheels together to frightened white old of bags white white wonder had her dumpty mouse black had struck horses was old horses sat to of macdonald had spout black sat mouse of had macdonald three white of mouse of horses black had the had had dumpty spout bags horses white spout was wonder t wonder together a and who white mary her of humpty went horses to horses white a the went wonder the had mouse dumpty are went wonder of mouse of\n",
      "Generated Song:\n",
      "\n",
      "\n",
      "Humpty Dumpty sat on a wall, the the the the and the the the the the the the the the the the the and the the the the the the the the and the and the the the the the the the the the the the the the the the the the the the the the the the the the the the the the the the the the the the the the the the the the the the the the the the the the the and the the the and the the the the the the the the the the the the the the the the\n",
      "Generated Song:\n",
      "\n",
      "\n",
      "And everywhere that Mary went, the the the the and a the the and the the the the the the the the and the and the the the the the the and and and and and the the the and the the the the the the and the the the the the a the the the the and the the the the the and the and the the the the the the the the the the and and the the the and the the and the the the and the the the the the the the the the the the the the the the the\n"
     ]
    },
    {
     "name": "stderr",
     "output_type": "stream",
     "text": [
      " 52%|█████▏    | 52/100 [00:00<00:00, 128.47it/s]"
     ]
    },
    {
     "name": "stdout",
     "output_type": "stream",
     "text": [
      "Generated Song:\n",
      "\n",
      "\n",
      "The lamb was sure to go. and the the the and a the the and the and the the and the the the and the and and the the the the the and and and and and the the the and the the the the the the and the a the the the a the the the and and and the the the and and and and the the the the the the the the the the and and the the the and and the and the the the and the the the the the the the the the the the the the the the the\n",
      "Generated Song:\n",
      "\n",
      "\n",
      " and the on the and a the the and round a the the and the the the and a and bitsy the the the the the and and and miss and the the the and the the the the the the and round a the the the a the the the and and and the the the and and and and up the the the round the the the the the and and the the the and and round and the the the and round the the the the the the humpty mouse the the the the the the the\n",
      "Generated Song:\n",
      "\n",
      "\n",
      " up miss on the and a up the and down a the the came the the <unk> sat down a bitsy down the the the the and and and miss and spider up the humpty the the the the the the and round a the the the a the spider spider spider and and the the the <unk> and and and up the the the round the the the the the and a the the the and a round and the the the and round the the the the the the humpty mouse the down the the the mouse the\n"
     ]
    },
    {
     "name": "stderr",
     "output_type": "stream",
     "text": [
      " 78%|███████▊  | 78/100 [00:00<00:00, 125.30it/s]"
     ]
    },
    {
     "name": "stdout",
     "output_type": "stream",
     "text": [
      "Generated Song:\n",
      "\n",
      "\n",
      "Down came the rain and washed the spider out. on miss on the and a bus the and down a the the came the the <unk> sat down a bitsy down the the muffet the and and and miss on spider wonder the humpty are the the the mouse on and round a the the the bus miss spider spider spider and and the the the <unk> and a and up the the the round the the the the the and a a the the and a round and the the the and round the the the the the the humpty mouse ran down the the the clock the\n",
      "Generated Song:\n",
      "\n",
      "\n",
      " on miss muffet the and a bus the and down a the the came the the <unk> sat down a bitsy down all came muffet the twinkle and and star on spider wonder the you are up the the mouse on and like a the <unk> the bus miss dickory mouse spider have you the up the <unk> and down and up humpty jack the round the the the clock the and a a the the jack all round and the the the and round the the the the humpty dumpty humpty mouse ran down the clock the clock the\n",
      "Generated Song:\n",
      "\n",
      "\n",
      " little miss muffet the and a bus the and down a the the came the the <unk> sat down a bitsy down all came muffet the twinkle and and star on spider wonder the you are up the the mouse on and like a the <unk> the bus baa dickory baa spider have you any up the <unk> and sir and up full jack the round the the the clock the and a pail <unk> water jack all round and the the the and jill the the the the dickory dumpty humpty mouse ran down the clock the clock the\n"
     ]
    },
    {
     "name": "stderr",
     "output_type": "stream",
     "text": [
      "100%|██████████| 100/100 [00:00<00:00, 124.73it/s]"
     ]
    },
    {
     "name": "stdout",
     "output_type": "stream",
     "text": [
      "Generated Song:\n",
      "\n",
      "\n",
      "And everywhere that Mary went, little miss muffet the and a wall eating her curds a the the came the spider <unk> sat down beside bitsy down all came muffet the twinkle twinkle and star on like wonder what you are up the the mouse on and like a diamond in the bus baa baa baa was have you any up the <unk> and sir and up full jack and round the the the clock and and a pail of water jack all round and round the the and jill the the the hickory dickory dumpty humpty mouse ran down the clock the clock the\n",
      "Training started with 127 words in vocabulary.\n",
      "Optimizer: SGD (\n",
      "Parameter Group 0\n",
      "    dampening: 0\n",
      "    differentiable: False\n",
      "    foreach: None\n",
      "    fused: None\n",
      "    initial_lr: 0.01\n",
      "    lr: 0.01\n",
      "    maximize: False\n",
      "    momentum: 0\n",
      "    nesterov: False\n",
      "    weight_decay: 0\n",
      ")\n",
      "Learning rate scheduler: <torch.optim.lr_scheduler.StepLR object at 0x13ca69050>\n"
     ]
    },
    {
     "name": "stderr",
     "output_type": "stream",
     "text": [
      "\n"
     ]
    }
   ],
   "source": [
    "CONTEXT_SIZE = 2\n",
    "\n",
    "criterion = torch.nn.CrossEntropyLoss()  \n",
    "model3 = NGramLanguageModeler(len(vocab), EMBEDDING_DIM, CONTEXT_SIZE).to(device)  \n",
    "optimizer = optim.SGD(model3.parameters(), lr=0.01)  \n",
    "scheduler = torch.optim.lr_scheduler.StepLR(optimizer, step_size=1, gamma=0.1)  \n",
    "loss_history = train(dataloader, model3, nursery_rhymes)  \n",
    "\n",
    "print(f\"Training started with {len(vocab)} words in vocabulary.\")\n",
    "print(f\"Optimizer: {optimizer}\")\n",
    "print(f\"Learning rate scheduler: {scheduler}\")"
   ]
  },
  {
   "cell_type": "markdown",
   "id": "6ef2592d",
   "metadata": {},
   "source": [
    "## Exercise 6"
   ]
  },
  {
   "cell_type": "markdown",
   "id": "7080df6c",
   "metadata": {},
   "source": [
    "After training, use the model to generate a new nursery rhyme and then print it."
   ]
  },
  {
   "cell_type": "code",
   "execution_count": 60,
   "id": "ea4ed167",
   "metadata": {},
   "outputs": [
    {
     "name": "stdout",
     "output_type": "stream",
     "text": [
      "Couldn't put Humpty together again. little miss muffet away and a wall eating her curds a on along came the spider <unk> sat down beside bitsy down all came muffet away twinkle twinkle little star muffet like wonder what you are up the the world on and like a diamond in the bus baa baa baa was have you any up the <unk> and sir and up full jack and round came the the clock and and a pail of water jack all round and jill the the and jill came the the hickory dickory dock humpty mouse ran down the clock the clock the\n"
     ]
    }
   ],
   "source": [
    "selected_line = pickrandomline(nursery_rhymes)  \n",
    "generated_rhyme = write_song(model3, selected_line)  \n",
    "print(generated_rhyme)"
   ]
  },
  {
   "cell_type": "markdown",
   "id": "9ab1cfcd",
   "metadata": {},
   "source": []
  }
 ],
 "metadata": {
  "kernelspec": {
   "display_name": "venv3.11",
   "language": "python",
   "name": "python3"
  },
  "language_info": {
   "codemirror_mode": {
    "name": "ipython",
    "version": 3
   },
   "file_extension": ".py",
   "mimetype": "text/x-python",
   "name": "python",
   "nbconvert_exporter": "python",
   "pygments_lexer": "ipython3",
   "version": "3.11.11"
  }
 },
 "nbformat": 4,
 "nbformat_minor": 5
}
