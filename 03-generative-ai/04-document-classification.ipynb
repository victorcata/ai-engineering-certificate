{
 "cells": [
  {
   "cell_type": "markdown",
   "id": "f545189b",
   "metadata": {},
   "source": [
    "# Classifying Document"
   ]
  },
  {
   "cell_type": "code",
   "execution_count": null,
   "id": "2b3b1ff9",
   "metadata": {},
   "outputs": [],
   "source": [
    "import warnings\n",
    "from tqdm import tqdm\n",
    "import numpy as np\n",
    "import pandas as pd\n",
    "from itertools import accumulate\n",
    "from IPython.display import Markdown as md\n",
    "import plotly.graph_objs as go\n",
    "import matplotlib.pyplot as plt\n",
    "\n",
    "from sklearn.manifold import TSNE\n",
    "from sklearn.model_selection import train_test_split\n",
    "\n",
    "import torch\n",
    "import torch.nn as nn\n",
    "\n",
    "from torch.utils.data import DataLoader\n",
    "from torchtext.datasets import AG_NEWS\n",
    "from torch.utils.data.dataset import random_split\n",
    "from torchtext.data.utils import get_tokenizer\n",
    "from torchtext.vocab import build_vocab_from_iterator\n",
    "from torchtext.data.functional import to_map_style_dataset\n",
    "\n",
    "def warn(*args, **kwargs):\n",
    "  pass\n",
    "\n",
    "warnings.warn = warn\n",
    "warnings.filterwarnings('ignore')"
   ]
  },
  {
   "cell_type": "markdown",
   "id": "c4f5a6da",
   "metadata": {},
   "source": [
    "## Helper functions"
   ]
  },
  {
   "cell_type": "code",
   "execution_count": 6,
   "id": "c5d54f9f",
   "metadata": {},
   "outputs": [],
   "source": [
    "def plot(COST, ACC):\n",
    "  fig, ax1 = plt.subplots()\n",
    "  color = 'tab:red'\n",
    "  ax1.plot(COST, color=color)\n",
    "  ax1.set_xlabel('epoch', color=color)\n",
    "  ax1.set_ylabel('total loss', color=color)\n",
    "  ax1.tick_params(axis='y', color=color)\n",
    "\n",
    "  ax2 = ax1.twinx()\n",
    "  color = 'tab:blue'\n",
    "  ax2.set_ylabel('accuracy', color=color)\n",
    "  ax2.plot(ACC, color=color)\n",
    "  ax2.tick_params(axis='y', color=color)\n",
    "  fig.tight_layout()\n",
    "\n",
    "  plt.show()"
   ]
  },
  {
   "cell_type": "markdown",
   "id": "1d1e7444",
   "metadata": {},
   "source": [
    "## Import bank dataset"
   ]
  },
  {
   "cell_type": "code",
   "execution_count": 13,
   "id": "981564ba",
   "metadata": {},
   "outputs": [
    {
     "name": "stdout",
     "output_type": "stream",
     "text": [
      "Text: Wall St. Bears Claw Back Into the Black (Reuters) Reuters - Short-sellers, Wall Street's dwindling\\band of ultra-cynics, are seeing green again.\n",
      "Label: 3, Business\n",
      "4\n"
     ]
    }
   ],
   "source": [
    "train_iter = iter(AG_NEWS(split='train'))\n",
    "\n",
    "y, text = next((train_iter))\n",
    "print(f'Text: {text}')\n",
    "\n",
    "ag_news_label = {1: 'World', 2: 'Sports', 3: 'Business', 4: 'Sci/Tec'}\n",
    "print(f'Label: {y}, {ag_news_label[y]}')\n",
    "\n",
    "num_class = len(set([label for (label, text) in train_iter]))\n",
    "print(num_class)"
   ]
  },
  {
   "cell_type": "markdown",
   "id": "04364b7b",
   "metadata": {},
   "source": [
    "## Dataset"
   ]
  },
  {
   "cell_type": "markdown",
   "id": "d3b58a51",
   "metadata": {},
   "source": [
    "You can convert the dataset into map-style datasets and then perform a random split to create separate training and validation datasets. The training dataset will contain 95% of the samples, while the validation dataset will contain the remaining 5%. These datasets can be used for training and evaluating a machine learning model for text classification on the AG_NEWS dataset.\n"
   ]
  },
  {
   "cell_type": "code",
   "execution_count": 21,
   "id": "5350b1a9",
   "metadata": {},
   "outputs": [],
   "source": [
    "train_iter, test_iter = AG_NEWS()\n",
    "\n",
    "train_dataset = to_map_style_dataset(train_iter)\n",
    "test_dataset = to_map_style_dataset(test_iter)\n",
    "\n",
    "num_train = int(len(train_dataset) * 0.95)\n",
    "\n",
    "# Randomly split the training dataset into training and validation datasets\n",
    "# The training dataset will contain 95% of the samples, and validation the remaining 5%.\n",
    "split_train_, split_valid_ = random_split(train_dataset, [num_train, len(train_dataset) - num_train])"
   ]
  },
  {
   "cell_type": "markdown",
   "id": "aa8c67c8",
   "metadata": {},
   "source": [
    "If a GPU is available, it assigns the device variable to \"cuda\". If a GPU is not available, it assigns the device variable to \"cpu\" (which means the code will run on the CPU instead)."
   ]
  },
  {
   "cell_type": "code",
   "execution_count": 22,
   "id": "709002ae",
   "metadata": {},
   "outputs": [
    {
     "data": {
      "text/plain": [
       "device(type='cpu')"
      ]
     },
     "execution_count": 22,
     "metadata": {},
     "output_type": "execute_result"
    }
   ],
   "source": [
    "device = torch.device('cuda' if torch.cuda.is_available() else 'cpu')\n",
    "device"
   ]
  },
  {
   "cell_type": "markdown",
   "id": "a4199f2a",
   "metadata": {},
   "source": [
    "## Tokenize and build the vocabulary"
   ]
  },
  {
   "cell_type": "code",
   "execution_count": 15,
   "id": "e307d9e5",
   "metadata": {},
   "outputs": [
    {
     "name": "stdout",
     "output_type": "stream",
     "text": [
      "Vocabulary size: 95811\n",
      "Sample tokens: ['zyprexa', 'zwiki', 'zurab', 'zuhua', 'zubrin', 'zovko', 'zotinca', 'zos', 'zoology', 'zoner']\n"
     ]
    }
   ],
   "source": [
    "train_iter = AG_NEWS(split='train')\n",
    "\n",
    "tokenizer = get_tokenizer('basic_english')\n",
    "\n",
    "def yield_tokens(data_iter):\n",
    "  for _, text in data_iter:\n",
    "    yield tokenizer(text.lower())\n",
    "\n",
    "vocab = build_vocab_from_iterator(yield_tokens(train_iter), specials=['<unk>'])\n",
    "vocab.set_default_index(vocab['<unk>'])\n",
    "\n",
    "print(f\"Vocabulary size: {len(vocab)}\")\n",
    "print(f\"Sample tokens: {list(vocab.get_stoi().keys())[:10]}\")"
   ]
  },
  {
   "cell_type": "code",
   "execution_count": 16,
   "id": "97e2aa52",
   "metadata": {},
   "outputs": [
    {
     "data": {
      "text/plain": [
       "[2120, 12544]"
      ]
     },
     "execution_count": 16,
     "metadata": {},
     "output_type": "execute_result"
    }
   ],
   "source": [
    "vocab([\"age\", \"hello\"])"
   ]
  },
  {
   "cell_type": "markdown",
   "id": "0dc4e508",
   "metadata": {},
   "source": [
    "## Data Loader"
   ]
  },
  {
   "cell_type": "code",
   "execution_count": 30,
   "id": "27c64df9",
   "metadata": {},
   "outputs": [],
   "source": [
    "# Get the token indices from the input text\n",
    "def text_pipeline(x):\n",
    "  return vocab(tokenizer(x))\n",
    "\n",
    "# Ensure that the labels start at zero.\n",
    "def label_pipeline(x):\n",
    "  return int(x) - 1\n",
    "\n",
    "def collate_batch(batch):\n",
    "  label_list, text_list, offsets = [], [], [0]\n",
    "  for _label, _text in batch:\n",
    "    label_list.append(label_pipeline(_label))\n",
    "    processed_text = torch.tensor(text_pipeline(_text), dtype=torch.int64)\n",
    "    text_list.append(processed_text)\n",
    "    offsets.append(processed_text.size(0))\n",
    "  label_list = torch.tensor(label_list, dtype=torch.int64)\n",
    "  offsets = torch.tensor(offsets[:-1]).cumsum(dim=0)\n",
    "  text_list = torch.cat(text_list)\n",
    "  return label_list.to(device), text_list.to(device), offsets.to(device)\n",
    "\n",
    "BATCH_SIZE = 64\n",
    "\n",
    "train_dataloader = DataLoader(\n",
    "  split_train_,\n",
    "  batch_size=BATCH_SIZE,\n",
    "  shuffle=True,\n",
    "  collate_fn=collate_batch\n",
    ")\n",
    "\n",
    "valid_dataloader = DataLoader(\n",
    "  split_valid_,\n",
    "  batch_size=BATCH_SIZE,\n",
    "  shuffle=True,\n",
    "  collate_fn=collate_batch\n",
    ")\n",
    "\n",
    "test_dataloader = DataLoader(\n",
    "  test_dataset,\n",
    "  batch_size=BATCH_SIZE,\n",
    "  shuffle=True,\n",
    "  collate_fn=collate_batch\n",
    ")"
   ]
  },
  {
   "cell_type": "code",
   "execution_count": 29,
   "id": "580210b0",
   "metadata": {},
   "outputs": [
    {
     "data": {
      "text/plain": [
       "(tensor([0, 1, 3, 1, 3, 2, 2, 3, 0, 3, 1, 1, 0, 1, 0, 3, 2, 3, 1, 2, 1, 0, 3, 2,\n",
       "         0, 2, 0, 0, 2, 3, 0, 1, 2, 2, 3, 1, 3, 3, 2, 2, 1, 0, 2, 0, 2, 2, 1, 2,\n",
       "         1, 0, 2, 2, 0, 0, 1, 2, 2, 1, 1, 3, 1, 3, 3, 2]),\n",
       " tensor([79699,   720,    46,  ...,  2711,   880,     1]),\n",
       " tensor([   0,   67,  123,  160,  201,  239,  283,  326,  351,  397,  445,  484,\n",
       "          525,  556,  594,  648,  705,  743,  773,  838,  889,  983, 1042, 1067,\n",
       "         1133, 1183, 1220, 1256, 1297, 1340, 1388, 1432, 1480, 1522, 1568, 1602,\n",
       "         1640, 1683, 1715, 1768, 1804, 1858, 1899, 1942, 1980, 2022, 2059, 2098,\n",
       "         2144, 2191, 2234, 2274, 2306, 2331, 2392, 2445, 2495, 2566, 2613, 2674,\n",
       "         2716, 2756, 2802, 2863]))"
      ]
     },
     "execution_count": 29,
     "metadata": {},
     "output_type": "execute_result"
    }
   ],
   "source": [
    "label, text, offsets = next(iter(valid_dataloader))\n",
    "label, text, offsets"
   ]
  },
  {
   "cell_type": "markdown",
   "id": "92a3def8",
   "metadata": {},
   "source": [
    "## Neural Network"
   ]
  },
  {
   "cell_type": "code",
   "execution_count": 34,
   "id": "2261f317",
   "metadata": {},
   "outputs": [
    {
     "data": {
      "text/plain": [
       "TextClassificationModel(\n",
       "  (embedding): EmbeddingBag(95811, 64, mode='mean')\n",
       "  (fc): Linear(in_features=64, out_features=4, bias=True)\n",
       ")"
      ]
     },
     "execution_count": 34,
     "metadata": {},
     "output_type": "execute_result"
    }
   ],
   "source": [
    "class TextClassificationModel(nn.Module):\n",
    "  def __init__(self, vocab_size, embed_dim, num_class):\n",
    "    super(TextClassificationModel, self).__init__()\n",
    "    self.embedding = nn.EmbeddingBag(vocab_size, embed_dim, sparse=False)\n",
    "    self.fc = nn.Linear(embed_dim, num_class)\n",
    "    self.init_weights()\n",
    "\n",
    "  def init_weights(self):\n",
    "    initrange = 0.5\n",
    "    self.embedding.weight.data.uniform_(-initrange, initrange)\n",
    "    self.fc.weight.data.uniform_(-initrange, initrange)\n",
    "    self.fc.bias.data.zero_()\n",
    "\n",
    "  def forward(self, text, offsets):\n",
    "    embedded = self.embedding(text, offsets)\n",
    "    return self.fc(embedded)\n",
    "\n",
    "emsize = 64\n",
    "vocab_size = len(vocab)\n",
    "\n",
    "model = TextClassificationModel(vocab_size, emsize, num_class).to(device)\n",
    "model"
   ]
  },
  {
   "cell_type": "code",
   "execution_count": 35,
   "id": "4928bd81",
   "metadata": {},
   "outputs": [
    {
     "data": {
      "text/plain": [
       "'Sci/Tec'"
      ]
     },
     "execution_count": 35,
     "metadata": {},
     "output_type": "execute_result"
    }
   ],
   "source": [
    "def predict(text, text_pipeline):\n",
    "  with torch.no_grad():\n",
    "    text = torch.tensor(text_pipeline(text))\n",
    "    output = model(text, torch.tensor([0]))\n",
    "    return ag_news_label[output.argmax(1).item() + 1]\n",
    "\n",
    "predict(\"I like sports\", text_pipeline)"
   ]
  },
  {
   "cell_type": "code",
   "execution_count": 36,
   "id": "678ca1ff",
   "metadata": {},
   "outputs": [
    {
     "data": {
      "text/plain": [
       "0.22723684210526315"
      ]
     },
     "execution_count": 36,
     "metadata": {},
     "output_type": "execute_result"
    }
   ],
   "source": [
    "def evaluate(dataloader):\n",
    "  model.eval()\n",
    "  total_acc, total_count = 0, 0\n",
    "  with torch.no_grad():\n",
    "    for idx, (label, text, offsets) in enumerate(dataloader):\n",
    "      predicted_label = model(text, offsets)\n",
    "      total_acc += (predicted_label.argmax(1) == label).sum().item()\n",
    "      total_count += label.size(0)\n",
    "  \n",
    "  return total_acc / total_count\n",
    "\n",
    "evaluate(test_dataloader)"
   ]
  },
  {
   "cell_type": "markdown",
   "id": "bf363cb2",
   "metadata": {},
   "source": [
    "## Train the model"
   ]
  },
  {
   "cell_type": "markdown",
   "id": "2a11d0d5",
   "metadata": {},
   "source": [
    "Set the learning rate (LR) to 0.1, which determines the step size at which the optimizer updates the model's parameters during training. The CrossEntropyLoss criterion is used to calculate the loss between the model's predicted outputs and the ground truth labels. This loss function is commonly employed for multi-class classification tasks.\n",
    "\n",
    "The chosen optimizer is Stochastic Gradient Descent (SGD), which optimizes the model's parameters based on the computed gradients with respect to the loss function. The SGD optimizer uses the specified learning rate to control the size of the weight updates.\n",
    "\n",
    "Additionally, a learning rate scheduler is defined using StepLR. This scheduler adjusts the learning rate during training, reducing it by a factor (gamma) of 0.1 after every epoch (step) to improve convergence and fine-tune the model's performance. These components together form the essential setup for training a neural network using the specified learning rate, loss criterion, optimizer, and learning rate scheduler.\n"
   ]
  },
  {
   "cell_type": "code",
   "execution_count": 39,
   "id": "bacc45d6",
   "metadata": {},
   "outputs": [
    {
     "name": "stderr",
     "output_type": "stream",
     "text": [
      "100%|██████████| 10/10 [01:40<00:00, 10.09s/it]\n"
     ]
    }
   ],
   "source": [
    "LR = 0.1\n",
    "EPOCHS = 10\n",
    "cum_loss_list = []\n",
    "acc_epoch = []\n",
    "acc_old = 0\n",
    "\n",
    "criterion = torch.nn.CrossEntropyLoss()\n",
    "optimizer = torch.optim.SGD(model.parameters(), lr=LR)\n",
    "scheduler = torch.optim.lr_scheduler.StepLR(optimizer, 1.0, gamma=0.1)\n",
    "\n",
    "for epoch in tqdm(range(1, EPOCHS + 1)):\n",
    "  model.train()\n",
    "  cum_loss=0\n",
    "  for idx, (label, text, offsets) in enumerate(train_dataloader):\n",
    "    optimizer.zero_grad()\n",
    "    predicted_label = model(text, offsets)\n",
    "    loss = criterion(predicted_label, label)\n",
    "    loss.backward()\n",
    "    torch.nn.utils.clip_grad_norm_(model.parameters(), 0.1)\n",
    "    optimizer.step()\n",
    "    cum_loss += loss.item()\n",
    "\n",
    "  cum_loss_list.append(cum_loss)\n",
    "  accu_val = evaluate(valid_dataloader)\n",
    "  acc_epoch.append(accu_val)\n",
    "\n",
    "  if accu_val > acc_old:\n",
    "    acc_old = accu_val\n",
    "    torch.save(model.state_dict(), 'classifier_document_model.pth')\n",
    "    \n"
   ]
  },
  {
   "cell_type": "code",
   "execution_count": 40,
   "id": "b8fc7810",
   "metadata": {},
   "outputs": [
    {
     "data": {
      "image/png": "[encoded data removed]",
      "text/plain": [
       "<Figure size 640x480 with 2 Axes>"
      ]
     },
     "metadata": {},
     "output_type": "display_data"
    }
   ],
   "source": [
    "plot(cum_loss_list, acc_epoch)"
   ]
  },
  {
   "cell_type": "code",
   "execution_count": 41,
   "id": "352137cb",
   "metadata": {},
   "outputs": [
    {
     "data": {
      "text/plain": [
       "0.8210526315789474"
      ]
     },
     "execution_count": 41,
     "metadata": {},
     "output_type": "execute_result"
    }
   ],
   "source": [
    "evaluate(test_dataloader)"
   ]
  },
  {
   "cell_type": "markdown",
   "id": "5d68e4c2",
   "metadata": {},
   "source": [
    "\n",
    "This code snippet provides a summary for generating a 3D t-SNE visualization of embeddings using Plotly. It demonstrates how words that are similar to each other are positioned closer together."
   ]
  },
  {
   "cell_type": "code",
   "execution_count": null,
   "id": "02f0bc44",
   "metadata": {},
   "outputs": [],
   "source": [
    "import plotly.io as pio\n",
    "pio.renderers.default = \"browser\"\n",
    "\n",
    "# Get the first batch from the validation data\n",
    "batch = next(iter(valid_dataloader))\n",
    "\n",
    "# Extract the text and offsets from the batch\n",
    "label, text, offsets = batch\n",
    "\n",
    "# Send the data to the device (GPU if available)\n",
    "text = text.to(device)\n",
    "offsets = offsets.to(device)\n",
    "\n",
    "# Get the embeddings bag output for the batch\n",
    "embedded = model.embedding(text, offsets)\n",
    "\n",
    "# Convert the embeddings tensor to a numpy array\n",
    "embeddings_numpy = embedded.detach().cpu().numpy()\n",
    "\n",
    "# Perform t-SNE on the embeddings to reduce their dimensionality to 3D.\n",
    "X_embedded_3d = TSNE(n_components=3).fit_transform(embeddings_numpy)\n",
    "\n",
    "# Create a 3D scatter plot using Plotly\n",
    "trace = go.Scatter3d(\n",
    "    x=X_embedded_3d[:, 0],\n",
    "    y=X_embedded_3d[:, 1],\n",
    "    z=X_embedded_3d[:, 2],\n",
    "    mode='markers',\n",
    "    marker=dict(\n",
    "        size=5,\n",
    "        color=label.numpy(),  # Use label information for color\n",
    "        colorscale='Viridis',  # Choose a colorscale\n",
    "        opacity=0.8\n",
    "    )\n",
    ")\n",
    "\n",
    "layout = go.Layout(title=\"3D t-SNE Visualization of Embeddings\",\n",
    "                   scene=dict(xaxis_title='Dimension 1',\n",
    "                              yaxis_title='Dimension 2',\n",
    "                              zaxis_title='Dimension 3'))\n",
    "\n",
    "fig = go.Figure(data=[trace], layout=layout)\n",
    "fig.show()"
   ]
  },
  {
   "cell_type": "code",
   "execution_count": 48,
   "id": "da7e85c8",
   "metadata": {},
   "outputs": [
    {
     "data": {
      "text/markdown": [
       "\n",
       "<div style=\"background-color: black; padding: 10px;\">\n",
       "    <p>Canada navigated a stiff test against the Republic of Ireland on a rain soaked evening in Perth, coming from behind to claim a vital 2-1 victory at the Women’s World Cup.\n",
       "Katie McCabe opened the scoring with an incredible Olimpico goal – scoring straight from a corner kick – as her corner flew straight over the despairing Canada goalkeeper Kailen Sheridan at Perth Rectangular Stadium in Australia.\n",
       "Just when Ireland thought it had safely navigated itself to half time with a lead, Megan Connolly failed to get a clean connection on a clearance with the resulting contact squirming into her own net to level the score.\n",
       "Minutes into the second half, Adriana Leon completed the turnaround for the Olympic champion, slotting home from the edge of the area to seal the three points.</p>\n",
       "    <strong>The category of the news article: Sports</strong>\n",
       "</div>\n"
      ],
      "text/plain": [
       "<IPython.core.display.Markdown object>"
      ]
     },
     "execution_count": 48,
     "metadata": {},
     "output_type": "execute_result"
    }
   ],
   "source": [
    "article=\"\"\"Canada navigated a stiff test against the Republic of Ireland on a rain soaked evening in Perth, coming from behind to claim a vital 2-1 victory at the Women’s World Cup.\n",
    "Katie McCabe opened the scoring with an incredible Olimpico goal – scoring straight from a corner kick – as her corner flew straight over the despairing Canada goalkeeper Kailen Sheridan at Perth Rectangular Stadium in Australia.\n",
    "Just when Ireland thought it had safely navigated itself to half time with a lead, Megan Connolly failed to get a clean connection on a clearance with the resulting contact squirming into her own net to level the score.\n",
    "Minutes into the second half, Adriana Leon completed the turnaround for the Olympic champion, slotting home from the edge of the area to seal the three points.\"\"\"\n",
    "\n",
    "result = predict(article, text_pipeline)\n",
    "\n",
    "markdown_content = f'''\n",
    "<div style=\"background-color: black; padding: 10px;\">\n",
    "    <p>{article}</p>\n",
    "    <strong>The category of the news article: {result}</strong>\n",
    "</div>\n",
    "'''\n",
    "\n",
    "md(markdown_content)"
   ]
  },
  {
   "cell_type": "markdown",
   "id": "50f0e553",
   "metadata": {},
   "source": [
    "## Exercise 1"
   ]
  },
  {
   "cell_type": "markdown",
   "id": "0d376c78",
   "metadata": {},
   "source": [
    "Load the pre-trained model (path = 'my_model.pth')."
   ]
  },
  {
   "cell_type": "code",
   "execution_count": 49,
   "id": "a380fdd6",
   "metadata": {},
   "outputs": [
    {
     "data": {
      "text/plain": [
       "TextClassificationModel(\n",
       "  (embedding): EmbeddingBag(95811, 64, mode='mean')\n",
       "  (fc): Linear(in_features=64, out_features=4, bias=True)\n",
       ")"
      ]
     },
     "execution_count": 49,
     "metadata": {},
     "output_type": "execute_result"
    }
   ],
   "source": [
    "model.load_state_dict(torch.load('classifier_document_model.pth'))\n",
    "model.eval()"
   ]
  },
  {
   "cell_type": "markdown",
   "id": "c867ac5d",
   "metadata": {},
   "source": [
    "## Exercise 2"
   ]
  },
  {
   "cell_type": "markdown",
   "id": "18357337",
   "metadata": {},
   "source": [
    "Define the list of new articles for classification"
   ]
  },
  {
   "cell_type": "code",
   "execution_count": 50,
   "id": "3f36b6fe",
   "metadata": {},
   "outputs": [],
   "source": [
    "new_articles = [\n",
    "    \"International talks have made significant headway with the signing of a climate accord that commits countries to reduce emissions by 40% over the next two decades. World leaders expressed optimism at the conclusion of the summit.\",\n",
    "    \"In a stunning upset, the underdog team won the national title, beating the favorites in a match that featured an incredible comeback and a last-minute goal that sealed their victory in front of a record crowd.\",\n",
    "    \"Market analysts are optimistic as the tech startup's stock prices soared after the announcement of their latest product, which promises to revolutionize how we interact with smart devices.\",\n",
    "    \"A recent study published in a leading scientific journal suggests that a new drug has shown promise in the treatment of Alzheimer's disease, outperforming current leading medications in early clinical trials.\",\n",
    "    \"Diplomatic relations have taken a positive turn with the recent peace talks that aim to end decades of conflict. The ceasefire agreement has been welcomed by the international community.\",\n",
    "    \"Economic indicators show a sharp rebound in manufacturing, with the automobile industry leading the charge. Analysts predict this surge will result in significant job creation over the next year.\",\n",
    "    \"Researchers at the university's astrophysics department have discovered a potentially habitable exoplanet. The planet, which lies in a nearby star system, has conditions that could support liquid water and, possibly, life.\",\n",
    "    \"The sports world is in shock as a legendary player announces their retirement. Over an illustrious 20-year career, the athlete has amassed numerous records and is regarded as one of the greatest to ever play the game.\",\n",
    "    \"A multinational corporation has announced a major investment in renewable energy. The initiative includes the construction of new wind farms and solar panels that will power hundreds of thousands of homes.\",\n",
    "    \"Climate scientists warn that the melting of the polar ice caps has been accelerating at an alarming rate, raising sea levels and threatening coastal cities worldwide with increased flooding risks.\"\n",
    "]"
   ]
  },
  {
   "cell_type": "markdown",
   "id": "07327d70",
   "metadata": {},
   "source": [
    "## Exercise 3"
   ]
  },
  {
   "cell_type": "markdown",
   "id": "54a19655",
   "metadata": {},
   "source": [
    "Classify each article and display the results."
   ]
  },
  {
   "cell_type": "code",
   "execution_count": 51,
   "id": "d5edfe3a",
   "metadata": {},
   "outputs": [
    {
     "name": "stdout",
     "output_type": "stream",
     "text": [
      "Article 1 is classified as: World\n",
      "\n",
      "Article 2 is classified as: Sports\n",
      "\n",
      "Article 3 is classified as: Business\n",
      "\n",
      "Article 4 is classified as: Sci/Tec\n",
      "\n",
      "Article 5 is classified as: World\n",
      "\n",
      "Article 6 is classified as: Business\n",
      "\n",
      "Article 7 is classified as: Sci/Tec\n",
      "\n",
      "Article 8 is classified as: Sports\n",
      "\n",
      "Article 9 is classified as: Sci/Tec\n",
      "\n",
      "Article 10 is classified as: Sci/Tec\n",
      "\n"
     ]
    }
   ],
   "source": [
    "for i, article in enumerate(new_articles, start=1):\n",
    "  prediction = predict(article, text_pipeline)\n",
    "  print(f\"Article {i} is classified as: {prediction}\\n\")"
   ]
  }
 ],
 "metadata": {
  "kernelspec": {
   "display_name": "venv3.11",
   "language": "python",
   "name": "python3"
  },
  "language_info": {
   "codemirror_mode": {
    "name": "ipython",
    "version": 3
   },
   "file_extension": ".py",
   "mimetype": "text/x-python",
   "name": "python",
   "nbconvert_exporter": "python",
   "pygments_lexer": "ipython3",
   "version": "3.11.11"
  }
 },
 "nbformat": 4,
 "nbformat_minor": 5
}
