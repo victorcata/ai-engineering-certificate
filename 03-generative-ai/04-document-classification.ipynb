{
 "cells": [
  {
   "cell_type": "markdown",
   "id": "f545189b",
   "metadata": {},
   "source": [
    "# Classifying Document"
   ]
  },
  {
   "cell_type": "code",
   "execution_count": 5,
   "id": "2b3b1ff9",
   "metadata": {},
   "outputs": [],
   "source": [
    "import warnings\n",
    "from tqdm import tqdm\n",
    "import numpy as np\n",
    "import pandas as pd\n",
    "from itertools import accumulate\n",
    "from IPython.display import Markdown as md\n",
    "import plotly.graph_objs as go\n",
    "import matplotlib.pyplot as plt\n",
    "\n",
    "from sklearn.manifold import TSNE\n",
    "from sklearn.model_selection import train_test_split\n",
    "\n",
    "import torch\n",
    "import torch.nn as nn\n",
    "\n",
    "from torch.utils.data import DataLoader\n",
    "from torchtext.datasets import AG_NEWS\n",
    "from torch.utils.data.dataset import random_split\n",
    "from torchtext.data.utils import get_tokenizer\n",
    "from torchtext.vocab import build_vocab_from_iterator\n",
    "from torchtext.data.functional import to_map_style_dataset\n",
    "\n",
    "def warn(*args, **kwargs):\n",
    "  pass\n",
    "\n",
    "warnings.warn = warn\n",
    "warnings.filterwarnings('ignore')"
   ]
  },
  {
   "cell_type": "markdown",
   "id": "c4f5a6da",
   "metadata": {},
   "source": [
    "## Helper functions"
   ]
  },
  {
   "cell_type": "code",
   "execution_count": 6,
   "id": "c5d54f9f",
   "metadata": {},
   "outputs": [],
   "source": [
    "def plot(COST, ACC):\n",
    "  fig, ax1 = plt.subplots()\n",
    "  color = 'tab:red'\n",
    "  ax1.plot(COST, color=color)\n",
    "  ax1.set_xlabel('epoch', color=color)\n",
    "  ax1.set_ylabel('total loss', color=color)\n",
    "  ax1.tick_params(axis='y', color=color)\n",
    "\n",
    "  ax2 = ax1.twinx()\n",
    "  color = 'tab:blue'\n",
    "  ax2.set_ylabel('accuracy', color=color)\n",
    "  ax2.plot(ACC, color=color)\n",
    "  ax2.tick_params(axis='y', color=color)\n",
    "  fig.tight_layout()\n",
    "\n",
    "  plt.show()"
   ]
  },
  {
   "cell_type": "markdown",
   "id": "1d1e7444",
   "metadata": {},
   "source": [
    "## Import bank dataset"
   ]
  },
  {
   "cell_type": "code",
   "execution_count": 13,
   "id": "981564ba",
   "metadata": {},
   "outputs": [
    {
     "name": "stdout",
     "output_type": "stream",
     "text": [
      "Text: Wall St. Bears Claw Back Into the Black (Reuters) Reuters - Short-sellers, Wall Street's dwindling\\band of ultra-cynics, are seeing green again.\n",
      "Label: 3, Business\n",
      "4\n"
     ]
    }
   ],
   "source": [
    "train_iter = iter(AG_NEWS(split='train'))\n",
    "\n",
    "y, text = next((train_iter))\n",
    "print(f'Text: {text}')\n",
    "\n",
    "ag_news_label = {1: 'World', 2: 'Sports', 3: 'Business', 4: 'Sci/Tec'}\n",
    "print(f'Label: {y}, {ag_news_label[y]}')\n",
    "\n",
    "num_class = len(set([label for (label, text) in train_iter]))\n",
    "print(num_class)"
   ]
  },
  {
   "cell_type": "code",
   "execution_count": null,
   "id": "e307d9e5",
   "metadata": {},
   "outputs": [],
   "source": []
  }
 ],
 "metadata": {
  "kernelspec": {
   "display_name": "venv3.11",
   "language": "python",
   "name": "python3"
  },
  "language_info": {
   "codemirror_mode": {
    "name": "ipython",
    "version": 3
   },
   "file_extension": ".py",
   "mimetype": "text/x-python",
   "name": "python",
   "nbconvert_exporter": "python",
   "pygments_lexer": "ipython3",
   "version": "3.11.11"
  }
 },
 "nbformat": 4,
 "nbformat_minor": 5
}
