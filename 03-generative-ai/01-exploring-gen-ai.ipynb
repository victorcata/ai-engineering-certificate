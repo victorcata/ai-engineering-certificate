{
 "cells": [
  {
   "cell_type": "markdown",
   "id": "f5d0f377",
   "metadata": {},
   "source": [
    "# Exploring Generative AI Libraries"
   ]
  },
  {
   "cell_type": "markdown",
   "id": "0df6e0e9",
   "metadata": {},
   "source": [
    "## What is generative AI?\n",
    "Imagine presenting a computer with a vast array of paintings. After analyzing them, it tries to craft a unique painting of its own. This capability is termed generative AI. Essentially, the computer derives inspiration from the provided content and uses it to create something new.\n",
    "\n",
    "## Real-world impact of generative AI\n",
    "Generative AI is transforming multiple industries. Its applications span:\n",
    "\n",
    "### 1. Art and creativity\n",
    "- Generative art: Artists employing generative AI algorithms can create stunning artworks by learning from existing masterpieces and producing unique pieces inspired by them. These AI-generated artworks have gained recognition in the art world.\n",
    "- Music Composition: Projects in the realm of generative AI have been employed to compose music. They learn from a vast data set of musical compositions and can generate original pieces in various styles, from classical to jazz, revolutionizing the music industry.\n",
    "\n",
    "### 2. Natural language processing (NLP)\n",
    "- Content generation: Tools like generative pre-trained transformer (GPT) have demonstrated their ability to generate coherent and context-aware text. They can assist content creators by generating articles, stories, or marketing copy, making them valuable tools in content creation.\n",
    "- Chatbots and virtual assistants: Generative AI powers many of today's chatbots and virtual assistants. These AI-driven conversational agents understand and generate human-like responses, enhancing user experiences.\n",
    "- Code Writing: Generative AI models can also produce code snippets based on descriptions or requirements, streamlining software development.\n",
    "\n",
    "### 3. Computer vision\n",
    "- Image synthesis: Models like data analysis learning with language model for generation and exploration, frequencly known as DALL-E, can generate images from textual descriptions. This technology finds applications in graphic design, advertising, and creating visual content for marketing.\n",
    "- Deepfake detection: With the advancement in generative AI techniques, the generation of deep fake content is also on the rise. Consequently, generative AI now plays a role in developing tools and techniques to detect and combat the spread of misinformation through manipulated videos.\n",
    "\n",
    "### 4. Virtual avatars\n",
    "- Entertainment: Generative AI is utilized to craft virtual avatars for gaming and entertainment. These avatars mimic human expressions and emotions, bolstering user engagement in virtual environments.\n",
    "- Marketing: Virtual influencers, propelled by generative AI, are on the rise in digital marketing. Brands are harnessing these virtual personas to endorse their products and services.\n",
    "\n",
    "## Neural structures behind generative AI\n",
    "Before we had the powerful transformers, which are like super-fast readers and understand lots of words at once, there were other methods used for making computers generate text. These methods were like the building blocks that led to the amazing capabilities we have today.\n",
    "\n",
    "## Large language models (LLMs)\n",
    "Large language models are like supercharged brains. They are massive computer programs with lots of \"neurons\" that learn from huge amounts of text. These models are trained to do tasks like understanding and generating text, and they're used in many applications. However, there's a limitation: these models are not very good at understanding the bigger context or the meaning of words. They work well for simple predictions but struggle with more complex text.\n",
    "\n",
    "## Text generation before transformers\n",
    "\n",
    "### 1. N-gram language models\n",
    "N-gram models are like language detectives. They predict what words come next in a sentence based on the words that came before. For example, if you say \"The sky is,\" these models guess that the next word might be \"blue.\"\n",
    "\n",
    "### 2. Recurrent neural networks (RNN)\n",
    "Recurrent neural networks (RNNs) are specially designed to handle sequential data, making them a powerful tool for applications like language modeling and time series forecasting. The essence of their design lies in maintaining a 'memory' or 'hidden state' throughout the sequence by employing loops. This enables RNNs to recognize and capture the temporal dependencies inherent in sequential data.\n",
    "- Hidden state: Often referred to as the network's 'memory', the hidden state is a dynamic storage of information about previous sequence inputs. With each new input, this hidden state is updated, factoring in both the new input and its previous value.\n",
    "- Temporal dependency: Loops in RNNs enable information transfer across sequence steps.\n",
    "\n",
    "<img src=\"https://cf-courses-data.s3.us.cloud-object-storage.appdomain.cloud/IBMSkillsNetwork-GPXX0J87EN/%E9%80%92%E5%BD%92%E7%A5%9E%E7%BB%8F%E7%BD%91%E7%BB%9C%E5%9B%BE.png\" width=\"60%\" height=\"60%\"> \n",
    "\n",
    "<div style=\"text-align:center\"><a href=\"https://commons.wikimedia.org/wiki/File:%E9%80%92%E5%BD%92%E7%A5%9E%E7%BB%8F%E7%BD%91%E7%BB%9C%E5%9B%BE.png\">Image Source</a></div>\n",
    "\n",
    "Illustration of RNN's operation: Consider a simple sequence, such as the sentence: \"I love RNNs\". The RNN interprets this sentence word by word. Beginning with the word \"I\", the RNN ingests it, generates an output, and updates its hidden state. Moving on to \"love\", the RNN processes it alongside the updated hidden state which already holds insights about the word \"I\". The hidden state is updated again post this. This pattern of processing and updating continues until the last word. By the end of the sequence, the hidden state ideally encapsulates insights from the entire sentence.\n",
    "                                                                                                       \n",
    "### 3. Long short-term memory (LSTM) and gated recurrent units (GRUs)\n",
    "Long short-term memory (LSTM) and gated recurrent units (GRUs) are advanced variations of recurrent neural networks (RNNs), designed to address the limitations of traditional RNNs and enhance their ability to model sequential data effectively. They processed sequences one element at a time and maintained an internal state to remember past elements. While they were effective for a variety of tasks, they struggled with long sequences and long-term dependencies.\n",
    "\n",
    "### 4. Seq2seq models with attention\n",
    "- Sequence-to-sequence (seq2seq) models, often built with RNNs or LSTMs, were designed to handle tasks like translation where an input sequence is transformed into an output sequence.\n",
    "- The attention mechanism was introduced to allow the model to \"focus\" on relevant parts of the input sequence when generating the output, significantly improving performance on tasks like machine translation.\n",
    "\n",
    "While these methods provided significant advancements in text generation tasks, the introduction of transformers led to a paradigm shift. Transformers, with their self-attention mechanism, proved to be highly efficient at capturing contextual information across long sequences, setting new benchmarks in various NLP tasks.\n",
    "\n",
    "## Transformers\n",
    "Proposed in a paper titled \"Attention Is All You Need\" by Vaswani et al. in 2017, the transformer architecture replaced sequential processing with parallel processing. The key component behind its success? The attention mechanism, more precisely, self-attention.\n",
    "\n",
    "Key steps include:\n",
    "- Tokenization: The first step is breaking down a sentence into tokens (words or subwords).\n",
    "- Embedding: Each token is represented as a vector, capturing its meaning.\n",
    "- Self-attention: The model computes scores determining the importance of every other word for a particular word in the sequence. These scores are used to weight the input tokens and produce a new representation of the sequence. For instance, in the sentence \"He gave her a gift because she'd helped him\", understanding who \"her\" refers to requires the model to pay attention to other words in the sentence. The transformer does this for every word, considering the entire context, which is particularly powerful for understanding meaning.\n",
    "- Feed-forward neural networks: After attention, each position is passed through a feed-forward network separately.\n",
    "- Output sequence: The model produces an output sequence, which can be used for various tasks, like classification, translation, or text generation.\n",
    "- Layering: Importantly, transformers are deep models with multiple layers of attention and feed-forward networks, allowing them to learn complex patterns.\n",
    "\n",
    "The architecture's flexibility has allowed transformers to be used beyond NLP, finding applications in image and video processing too. In NLP, transformer-based models like BERT, GPT, and their variants have set state-of-the-art results in various tasks, from text classification to translation.\n"
   ]
  },
  {
   "cell_type": "markdown",
   "id": "9977b630",
   "metadata": {},
   "source": [
    "\n",
    "# Implementation: Building a simple chatbot with transformers\n",
    "\n",
    "Now, you will build a simple chatbot using `transformers` library from Hugging Face, which is an open-source natural language processing (NLP) toolkit with many useful features.\n"
   ]
  },
  {
   "cell_type": "markdown",
   "id": "85083478",
   "metadata": {},
   "source": [
    "In the upcoming script, you initiate variables using two invaluable classes from the transformers library:\n",
    "- `model` is an instance of the class `AutoModelForSeq2SeqLM`. This class lets you interact with your chosen language model.\n",
    "- `tokenizer` is an instance of the class `AutoTokenizer`. This class streamlines your input and presents it to the language model in the most efficient manner. It achieves this by converting your text input into \"tokens\", which is the model's preferred way of interpreting text.\n",
    "You choose \"facebook/blenderbot-400M-distill\" for this example model because it is freely available under an open-source license and operates at a relatively brisk pace. For a diverse range of models and their capabilities, you can explore the Hugging Face website: [Hugging Face Models](https://huggingface.co/models)."
   ]
  },
  {
   "cell_type": "code",
   "execution_count": 13,
   "id": "bc2a813b",
   "metadata": {},
   "outputs": [],
   "source": [
    "import sentencepiece\n",
    "from transformers import AutoTokenizer, AutoModelForSeq2SeqLM, AutoModel"
   ]
  },
  {
   "cell_type": "code",
   "execution_count": 1,
   "id": "0ca01e3d",
   "metadata": {},
   "outputs": [
    {
     "name": "stderr",
     "output_type": "stream",
     "text": [
      "/Users/victorcata/Documents/repos/ai-engineering-certificate/venv/lib/python3.13/site-packages/tqdm/auto.py:21: TqdmWarning: IProgress not found. Please update jupyter and ipywidgets. See https://ipywidgets.readthedocs.io/en/stable/user_install.html\n",
      "  from .autonotebook import tqdm as notebook_tqdm\n"
     ]
    }
   ],
   "source": [
    "model_name = 'facebook/blenderbot-400M-distill'\n",
    "\n",
    "model = AutoModelForSeq2SeqLM.from_pretrained(model_name)\n",
    "tokenizer = AutoTokenizer.from_pretrained(model_name)"
   ]
  },
  {
   "cell_type": "markdown",
   "id": "34975972",
   "metadata": {},
   "source": [
    "Following the initialization, let's set up the chat function to enable real-time interaction with the chatbot."
   ]
  },
  {
   "cell_type": "code",
   "execution_count": 6,
   "id": "f7d8743c",
   "metadata": {},
   "outputs": [
    {
     "name": "stdout",
     "output_type": "stream",
     "text": [
      "Inputs: tensor([[4424,    2]]) - Outpus: tensor([[   1, 4424,    8,  855,  366,  304,   38,  281,  404,  660,  665,  482,\n",
      "         3568,  395, 1784,   21,  946,  304,  360,  463,  286, 1272,   38,    2]])\n",
      "Chatbot:  Hi! How are you? I just got back from walking my dog. Do you have any pets?\n",
      "Chatbot: Goodbye!\n"
     ]
    }
   ],
   "source": [
    "def chat_with_bot():\n",
    "  while True:\n",
    "    input_text = input(\"You: \")\n",
    "\n",
    "    if input_text.lower() in ['quit', 'exit', 'bye']:\n",
    "      print('Chatbot: Goodbye!')\n",
    "      break\n",
    "      \n",
    "    # Tokenize input and generate reponse\n",
    "    inputs = tokenizer.encode(input_text, return_tensors='pt')\n",
    "    outputs = model.generate(inputs, max_new_tokens=150)\n",
    "    response = tokenizer.decode(outputs[0], skip_special_tokens=True).strip()\n",
    "    print(f'Inputs: {inputs} - Outpus: {outputs}')\n",
    "\n",
    "    print(\"Chatbot: \", response)\n",
    "\n",
    "chat_with_bot()"
   ]
  },
  {
   "cell_type": "code",
   "execution_count": null,
   "id": "8f193ff0",
   "metadata": {},
   "outputs": [],
   "source": [
    "model_name = 'google/flan-t5-base'\n",
    "tokenizer = AutoTokenizer.from_pretrained(model_name)\n",
    "model = AutoModelForSeq2SeqLM.from_pretrained(model_name)"
   ]
  },
  {
   "cell_type": "code",
   "execution_count": 11,
   "id": "f4cdbdff",
   "metadata": {},
   "outputs": [
    {
     "name": "stdout",
     "output_type": "stream",
     "text": [
      "Chatbot: Hi, I'm a new user here. I'm a new user here. I'm a new user here. I'm a new user here. I'm a new user here. I'm a new user here. I'm a new user here. I'm a new user here. I'm a new user here. I'm a new user here. I'm a new user here. I'm a new user here. I'm a new user here. I'm a new user here. I'm a new user here. I'm a new user here. I'm\n",
      "Chatbot: You are repeating yourself.\n",
      "Chatbot: Goodbye!\n"
     ]
    }
   ],
   "source": [
    "def chat_with_another_bot():\n",
    "  while True:\n",
    "    input_text = input('You:')\n",
    "\n",
    "    if input_text.lower() in ['quit', 'exit', 'bye']:\n",
    "      print('Chatbot: Goodbye!')\n",
    "      break\n",
    "\n",
    "    inputs = tokenizer.encode(input_text, return_tensors='pt')\n",
    "    outputs = model.generate(inputs, max_new_tokens=150)\n",
    "    response = tokenizer.decode(outputs[0], skip_special_tokens=True).strip()\n",
    "\n",
    "    print('Chatbot:', response)\n",
    "    \n",
    "chat_with_another_bot()"
   ]
  },
  {
   "cell_type": "markdown",
   "id": "dd2ad6c2",
   "metadata": {},
   "source": [
    "## Exercise"
   ]
  },
  {
   "cell_type": "markdown",
   "id": "66513532",
   "metadata": {},
   "source": [
    "Create a simple chatbot using the transformers library from Hugging Face(https://huggingface.co/models). Run the code using the following models and compare the output. The models are \"[google/flan-t5-small](https://huggingface.co/google/flan-t5-small)\", \"[facebook/bart-base](https://huggingface.co/facebook/bart-base)\". \n",
    "(Note: Based on the selected model, you may notice differences in the chatbot output. Multiple factors, such as model training and fine-tuning, influence the output.)\n"
   ]
  },
  {
   "cell_type": "code",
   "execution_count": 16,
   "id": "947a5a5b",
   "metadata": {},
   "outputs": [
    {
     "name": "stdout",
     "output_type": "stream",
     "text": [
      "Chatbot Flan T5-small: Hi, I'm a little worried about your health. I'm a big fan of your health. I'm a big fan of your health. I'm a big fan of your health. I'm a big fan of your health. I'm a big fan of your health. I'm a big fan of your health. I'm a big fan of your health. I'm a big fan of your health. I'm a big fan of your health. I'm a big fan of your health. I'm a big fan of your health. I'm a big fan of your health. I'm a\n",
      "Chatbot Bart-base: crezut\n",
      "Chatbot Flan T5-small: i love you\n",
      "Chatbot Bart-base: matches was oneo52\n",
      "Chatbot Flan T5-small: thanks, but you guys make no sense\n",
      "Chatbot Bart-base: ,ing was firm du; fire\n",
      "Chatbot: Goodbye!\n"
     ]
    }
   ],
   "source": [
    "model_t5 = 'google/flan-t5-small'\n",
    "model_bart = 'facebook/bart-base'\n",
    "\n",
    "tokenizer_t5 = AutoTokenizer.from_pretrained(model_t5)\n",
    "model_t5 = AutoModelForSeq2SeqLM.from_pretrained(model_t5)\n",
    "\n",
    "tokenizer_bart = AutoTokenizer.from_pretrained(model_bart)\n",
    "model_bart = AutoModelForSeq2SeqLM.from_pretrained(model_bart)\n",
    "\n",
    "def chatbot():\n",
    "  while True:\n",
    "    input_text = input('You:')\n",
    "\n",
    "    if input_text.lower() in ['quit', 'exit', 'bye']:\n",
    "      print('Chatbot: Goodbye!')\n",
    "      break\n",
    "\n",
    "    inputs_t5 = tokenizer_t5.encode(input_text, return_tensors='pt')\n",
    "    outputs_t5 = model_t5.generate(inputs_t5, max_new_tokens=150)\n",
    "    response_t5 = tokenizer.decode(outputs_t5[0], skip_special_tokens=True).strip()\n",
    "\n",
    "    inputs_bart = tokenizer_bart.encode(input_text, return_tensors='pt')\n",
    "    outputs_bart = model_bart.generate(inputs_bart, max_new_tokens=150)\n",
    "    response_bart = tokenizer.decode(outputs_bart[0], skip_special_tokens=True).strip()\n",
    "\n",
    "    print('Chatbot Flan T5-small:', response_t5)\n",
    "    print('Chatbot Bart-base:', response_bart)\n",
    "    \n",
    "chatbot()"
   ]
  }
 ],
 "metadata": {
  "kernelspec": {
   "display_name": "venv",
   "language": "python",
   "name": "python3"
  },
  "language_info": {
   "codemirror_mode": {
    "name": "ipython",
    "version": 3
   },
   "file_extension": ".py",
   "mimetype": "text/x-python",
   "name": "python",
   "nbconvert_exporter": "python",
   "pygments_lexer": "ipython3",
   "version": "3.13.2"
  }
 },
 "nbformat": 4,
 "nbformat_minor": 5
}
