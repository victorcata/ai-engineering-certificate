{
 "cells": [
  {
   "cell_type": "markdown",
   "id": "a0b797d8",
   "metadata": {},
   "source": [
    "# Convolutional Neural Networks with Keras"
   ]
  },
  {
   "cell_type": "code",
   "execution_count": 1,
   "id": "1c49bc78",
   "metadata": {},
   "outputs": [],
   "source": [
    "import os\n",
    "os.environ['TF_ENABLE_ONEDNN_OPTS'] = '0'\n",
    "os.environ['TF_CPP_MIN_LOG_LEVEL'] = '2'"
   ]
  },
  {
   "cell_type": "code",
   "execution_count": 3,
   "id": "6b77cc31",
   "metadata": {},
   "outputs": [],
   "source": [
    "import keras\n",
    "from keras.models import Sequential\n",
    "from keras.layers import Dense\n",
    "from keras.layers import Input\n",
    "from keras.utils import to_categorical\n",
    "\n",
    "from keras.layers import Conv2D\n",
    "from keras.layers import MaxPooling2D\n",
    "from keras.layers import Flatten"
   ]
  },
  {
   "cell_type": "code",
   "execution_count": 4,
   "id": "ce7d274e",
   "metadata": {},
   "outputs": [],
   "source": [
    "import ssl\n",
    "import certifi\n",
    "import urllib.request\n",
    "\n",
    "opener = urllib.request.build_opener(\n",
    "    urllib.request.HTTPSHandler(context=ssl.create_default_context(cafile=certifi.where()))\n",
    ")\n",
    "urllib.request.install_opener(opener)"
   ]
  },
  {
   "cell_type": "markdown",
   "id": "c7423a99",
   "metadata": {},
   "source": [
    "## Dataset"
   ]
  },
  {
   "cell_type": "code",
   "execution_count": 18,
   "id": "6f80b6fa",
   "metadata": {},
   "outputs": [],
   "source": [
    "# import data\n",
    "from keras.datasets import mnist\n",
    "\n",
    "# load data\n",
    "(X_train, y_train), (X_test, y_test) = mnist.load_data()\n",
    "\n",
    "# reshape to be [samples][pixels][width][height]\n",
    "X_train = X_train.reshape(X_train.shape[0], 28, 28, 1).astype('float32')\n",
    "X_test = X_test.reshape(X_test.shape[0], 28, 28, 1).astype('float32')"
   ]
  },
  {
   "cell_type": "code",
   "execution_count": 20,
   "id": "02a90dca",
   "metadata": {},
   "outputs": [],
   "source": [
    "# Normalize the pixel values to be between 0 and 1\n",
    "X_train = X_train / 255 # normalize training data\n",
    "X_test = X_test / 255 # normalize test data"
   ]
  },
  {
   "cell_type": "code",
   "execution_count": 21,
   "id": "40d72566",
   "metadata": {},
   "outputs": [],
   "source": [
    "# Convert target variable into binary categories\n",
    "y_train = to_categorical(y_train)\n",
    "y_test = to_categorical(y_test)\n",
    "\n",
    "num_classes = y_test.shape[1]"
   ]
  },
  {
   "cell_type": "markdown",
   "id": "dfb02844",
   "metadata": {},
   "source": [
    "## CNN with one set of convolutional and pooling layers"
   ]
  },
  {
   "cell_type": "code",
   "execution_count": 22,
   "id": "03c652c4",
   "metadata": {},
   "outputs": [],
   "source": [
    "def convolutional_model():\n",
    "  model = Sequential()\n",
    "  model.add(Input(shape=(28, 28, 1)))\n",
    "  model.add(Conv2D(16, (5, 5), strides=(1, 1), activation='relu'))\n",
    "  model.add(MaxPooling2D(pool_size=(2, 2), strides=(2, 2)))\n",
    "\n",
    "  model.add(Flatten())\n",
    "  model.add(Dense(100, activation='relu'))\n",
    "  model.add(Dense(num_classes, activation='softmax'))\n",
    "\n",
    "  model.compile(optimizer='adam', loss='categorical_crossentropy', metrics=['accuracy'])\n",
    "  return model"
   ]
  },
  {
   "cell_type": "code",
   "execution_count": 23,
   "id": "175f05cc",
   "metadata": {},
   "outputs": [
    {
     "name": "stdout",
     "output_type": "stream",
     "text": [
      "Epoch 1/10\n",
      "300/300 - 3s - 10ms/step - accuracy: 0.9231 - loss: 0.2841 - val_accuracy: 0.9714 - val_loss: 0.0945\n",
      "Epoch 2/10\n",
      "300/300 - 3s - 9ms/step - accuracy: 0.9756 - loss: 0.0848 - val_accuracy: 0.9801 - val_loss: 0.0662\n",
      "Epoch 3/10\n",
      "300/300 - 3s - 9ms/step - accuracy: 0.9822 - loss: 0.0588 - val_accuracy: 0.9816 - val_loss: 0.0536\n",
      "Epoch 4/10\n",
      "300/300 - 3s - 9ms/step - accuracy: 0.9863 - loss: 0.0445 - val_accuracy: 0.9846 - val_loss: 0.0456\n",
      "Epoch 5/10\n",
      "300/300 - 3s - 9ms/step - accuracy: 0.9887 - loss: 0.0358 - val_accuracy: 0.9854 - val_loss: 0.0453\n",
      "Epoch 6/10\n",
      "300/300 - 3s - 8ms/step - accuracy: 0.9911 - loss: 0.0290 - val_accuracy: 0.9866 - val_loss: 0.0436\n",
      "Epoch 7/10\n",
      "300/300 - 3s - 9ms/step - accuracy: 0.9928 - loss: 0.0229 - val_accuracy: 0.9866 - val_loss: 0.0403\n",
      "Epoch 8/10\n",
      "300/300 - 3s - 9ms/step - accuracy: 0.9944 - loss: 0.0192 - val_accuracy: 0.9868 - val_loss: 0.0426\n",
      "Epoch 9/10\n",
      "300/300 - 3s - 9ms/step - accuracy: 0.9948 - loss: 0.0168 - val_accuracy: 0.9866 - val_loss: 0.0446\n",
      "Epoch 10/10\n",
      "300/300 - 3s - 9ms/step - accuracy: 0.9958 - loss: 0.0138 - val_accuracy: 0.9860 - val_loss: 0.0423\n",
      "\n",
      "Accuracy: 0.9860000014305115 \n",
      " Error: 1.3999998569488525\n"
     ]
    }
   ],
   "source": [
    "model = convolutional_model()\n",
    "model.fit(X_train, y_train, validation_data=(X_test, y_test), epochs=10, batch_size=200, verbose=2)\n",
    "\n",
    "scores = model.evaluate(X_test, y_test, verbose=0)\n",
    "print('\\nAccuracy: {} \\n Error: {}'.format(scores[1], 100-scores[1]*100))"
   ]
  },
  {
   "cell_type": "markdown",
   "id": "56aeadaf",
   "metadata": {},
   "source": [
    "## CNN with two sets of convolutional and pooling layers"
   ]
  },
  {
   "cell_type": "code",
   "execution_count": 16,
   "id": "67260536",
   "metadata": {},
   "outputs": [],
   "source": [
    "def convolutional_model():\n",
    "  model = Sequential()\n",
    "  model.add(Input(shape=(28, 28, 1)))\n",
    "  model.add(Conv2D(16, (5, 5), activation='relu'))\n",
    "  model.add(MaxPooling2D(pool_size=(2, 2), strides=(2, 2)))\n",
    "\n",
    "  model.add(Conv2D(8, (2, 2), activation='relu'))\n",
    "  model.add(MaxPooling2D(pool_size=(2, 2), strides=(2, 2)))\n",
    "\n",
    "  model.add(Flatten())\n",
    "  model.add(Dense(100, activation='relu'))\n",
    "  model.add(Dense(num_classes, activation='softmax'))\n",
    "\n",
    "  model.compile(optimizer='adam', loss='categorical_crossentropy',  metrics=['accuracy'])\n",
    "  return model"
   ]
  },
  {
   "cell_type": "code",
   "execution_count": 24,
   "id": "af75a5c1",
   "metadata": {},
   "outputs": [
    {
     "name": "stdout",
     "output_type": "stream",
     "text": [
      "Epoch 1/10\n",
      "300/300 - 3s - 11ms/step - accuracy: 0.9191 - loss: 0.2904 - val_accuracy: 0.9737 - val_loss: 0.0939\n",
      "Epoch 2/10\n",
      "300/300 - 3s - 9ms/step - accuracy: 0.9755 - loss: 0.0826 - val_accuracy: 0.9805 - val_loss: 0.0644\n",
      "Epoch 3/10\n",
      "300/300 - 3s - 9ms/step - accuracy: 0.9836 - loss: 0.0560 - val_accuracy: 0.9838 - val_loss: 0.0532\n",
      "Epoch 4/10\n",
      "300/300 - 3s - 9ms/step - accuracy: 0.9870 - loss: 0.0439 - val_accuracy: 0.9866 - val_loss: 0.0409\n",
      "Epoch 5/10\n",
      "300/300 - 3s - 9ms/step - accuracy: 0.9896 - loss: 0.0348 - val_accuracy: 0.9853 - val_loss: 0.0422\n",
      "Epoch 6/10\n",
      "300/300 - 3s - 11ms/step - accuracy: 0.9913 - loss: 0.0288 - val_accuracy: 0.9873 - val_loss: 0.0416\n",
      "Epoch 7/10\n",
      "300/300 - 3s - 8ms/step - accuracy: 0.9924 - loss: 0.0245 - val_accuracy: 0.9871 - val_loss: 0.0397\n",
      "Epoch 8/10\n",
      "300/300 - 3s - 9ms/step - accuracy: 0.9938 - loss: 0.0204 - val_accuracy: 0.9874 - val_loss: 0.0401\n",
      "Epoch 9/10\n",
      "300/300 - 3s - 8ms/step - accuracy: 0.9950 - loss: 0.0165 - val_accuracy: 0.9872 - val_loss: 0.0450\n",
      "Epoch 10/10\n",
      "300/300 - 3s - 9ms/step - accuracy: 0.9956 - loss: 0.0145 - val_accuracy: 0.9876 - val_loss: 0.0401\n",
      "Accuracy: 0.9876000285148621 \n",
      " Error: 1.239997148513794\n"
     ]
    }
   ],
   "source": [
    "model = convolutional_model()\n",
    "\n",
    "model.fit(X_train, y_train, validation_data=(X_test, y_test), epochs=10, batch_size=200, verbose=2)\n",
    "\n",
    "scores = model.evaluate(X_test, y_test, verbose=0)\n",
    "print(\"Accuracy: {} \\n Error: {}\".format(scores[1], 100-scores[1]*100))"
   ]
  },
  {
   "cell_type": "markdown",
   "id": "4b317f88",
   "metadata": {},
   "source": [
    "## Exercise 1"
   ]
  },
  {
   "cell_type": "markdown",
   "id": "902f6c86",
   "metadata": {},
   "source": [
    "\n",
    "Let's see how batch size affects the time required and accuracy of the model training. For this, you can try to change batch_size to 1024 and check it's effect on accuracy"
   ]
  },
  {
   "cell_type": "code",
   "execution_count": 25,
   "id": "cff14337",
   "metadata": {},
   "outputs": [
    {
     "name": "stdout",
     "output_type": "stream",
     "text": [
      "Epoch 1/10\n",
      "59/59 - 2s - 42ms/step - accuracy: 0.8357 - loss: 0.6491 - val_accuracy: 0.9348 - val_loss: 0.2287\n",
      "Epoch 2/10\n",
      "59/59 - 2s - 33ms/step - accuracy: 0.9480 - loss: 0.1802 - val_accuracy: 0.9623 - val_loss: 0.1304\n",
      "Epoch 3/10\n",
      "59/59 - 2s - 33ms/step - accuracy: 0.9668 - loss: 0.1157 - val_accuracy: 0.9727 - val_loss: 0.0899\n",
      "Epoch 4/10\n",
      "59/59 - 2s - 33ms/step - accuracy: 0.9760 - loss: 0.0854 - val_accuracy: 0.9779 - val_loss: 0.0738\n",
      "Epoch 5/10\n",
      "59/59 - 2s - 35ms/step - accuracy: 0.9803 - loss: 0.0690 - val_accuracy: 0.9797 - val_loss: 0.0625\n",
      "Epoch 6/10\n",
      "59/59 - 2s - 34ms/step - accuracy: 0.9833 - loss: 0.0586 - val_accuracy: 0.9843 - val_loss: 0.0514\n",
      "Epoch 7/10\n",
      "59/59 - 2s - 33ms/step - accuracy: 0.9849 - loss: 0.0523 - val_accuracy: 0.9836 - val_loss: 0.0523\n",
      "Epoch 8/10\n",
      "59/59 - 2s - 33ms/step - accuracy: 0.9876 - loss: 0.0447 - val_accuracy: 0.9835 - val_loss: 0.0499\n",
      "Epoch 9/10\n",
      "59/59 - 2s - 33ms/step - accuracy: 0.9886 - loss: 0.0404 - val_accuracy: 0.9854 - val_loss: 0.0417\n",
      "Epoch 10/10\n",
      "59/59 - 2s - 33ms/step - accuracy: 0.9896 - loss: 0.0363 - val_accuracy: 0.9855 - val_loss: 0.0427\n",
      "Accuracy: 0.9854999780654907 \n",
      " Error: 1.4500021934509277\n"
     ]
    }
   ],
   "source": [
    "model = convolutional_model()\n",
    "\n",
    "model.fit(X_train, y_train, validation_data=(X_test, y_test), epochs=10, batch_size=1024, verbose=2)\n",
    "\n",
    "scores = model.evaluate(X_test, y_test, verbose=0)\n",
    "print(\"Accuracy: {} \\n Error: {}\".format(scores[1], 100-scores[1]*100))"
   ]
  },
  {
   "cell_type": "markdown",
   "id": "13e9a9eb",
   "metadata": {},
   "source": [
    "## Exercise 2"
   ]
  },
  {
   "cell_type": "markdown",
   "id": "eb5a2a7e",
   "metadata": {},
   "source": [
    "Now, let's see how number of epochs affect the time required and accuracy of the model training. For this, you can keep the batch_size=1024 and epochs=25 and check it's effect on accuracy"
   ]
  },
  {
   "cell_type": "code",
   "execution_count": 26,
   "id": "d8c445cd",
   "metadata": {},
   "outputs": [
    {
     "name": "stdout",
     "output_type": "stream",
     "text": [
      "Epoch 1/25\n",
      "59/59 - 2s - 42ms/step - accuracy: 0.8386 - loss: 0.6395 - val_accuracy: 0.9335 - val_loss: 0.2373\n",
      "Epoch 2/25\n",
      "59/59 - 2s - 36ms/step - accuracy: 0.9435 - loss: 0.1970 - val_accuracy: 0.9579 - val_loss: 0.1469\n",
      "Epoch 3/25\n",
      "59/59 - 2s - 33ms/step - accuracy: 0.9640 - loss: 0.1279 - val_accuracy: 0.9705 - val_loss: 0.1010\n",
      "Epoch 4/25\n",
      "59/59 - 2s - 35ms/step - accuracy: 0.9739 - loss: 0.0943 - val_accuracy: 0.9759 - val_loss: 0.0812\n",
      "Epoch 5/25\n",
      "59/59 - 2s - 34ms/step - accuracy: 0.9789 - loss: 0.0748 - val_accuracy: 0.9785 - val_loss: 0.0686\n",
      "Epoch 6/25\n",
      "59/59 - 2s - 34ms/step - accuracy: 0.9823 - loss: 0.0624 - val_accuracy: 0.9803 - val_loss: 0.0591\n",
      "Epoch 7/25\n",
      "59/59 - 2s - 33ms/step - accuracy: 0.9844 - loss: 0.0539 - val_accuracy: 0.9827 - val_loss: 0.0541\n",
      "Epoch 8/25\n",
      "59/59 - 2s - 33ms/step - accuracy: 0.9865 - loss: 0.0474 - val_accuracy: 0.9839 - val_loss: 0.0494\n",
      "Epoch 9/25\n",
      "59/59 - 2s - 32ms/step - accuracy: 0.9882 - loss: 0.0417 - val_accuracy: 0.9841 - val_loss: 0.0483\n",
      "Epoch 10/25\n",
      "59/59 - 2s - 34ms/step - accuracy: 0.9892 - loss: 0.0378 - val_accuracy: 0.9856 - val_loss: 0.0429\n",
      "Epoch 11/25\n",
      "59/59 - 2s - 35ms/step - accuracy: 0.9906 - loss: 0.0340 - val_accuracy: 0.9857 - val_loss: 0.0427\n",
      "Epoch 12/25\n",
      "59/59 - 2s - 32ms/step - accuracy: 0.9912 - loss: 0.0316 - val_accuracy: 0.9868 - val_loss: 0.0411\n",
      "Epoch 13/25\n",
      "59/59 - 2s - 33ms/step - accuracy: 0.9919 - loss: 0.0282 - val_accuracy: 0.9862 - val_loss: 0.0398\n",
      "Epoch 14/25\n",
      "59/59 - 2s - 32ms/step - accuracy: 0.9924 - loss: 0.0266 - val_accuracy: 0.9877 - val_loss: 0.0384\n",
      "Epoch 15/25\n",
      "59/59 - 2s - 32ms/step - accuracy: 0.9934 - loss: 0.0237 - val_accuracy: 0.9870 - val_loss: 0.0388\n",
      "Epoch 16/25\n",
      "59/59 - 2s - 32ms/step - accuracy: 0.9938 - loss: 0.0220 - val_accuracy: 0.9864 - val_loss: 0.0420\n",
      "Epoch 17/25\n",
      "59/59 - 2s - 32ms/step - accuracy: 0.9945 - loss: 0.0199 - val_accuracy: 0.9877 - val_loss: 0.0392\n",
      "Epoch 18/25\n",
      "59/59 - 2s - 33ms/step - accuracy: 0.9945 - loss: 0.0195 - val_accuracy: 0.9889 - val_loss: 0.0374\n",
      "Epoch 19/25\n",
      "59/59 - 2s - 33ms/step - accuracy: 0.9952 - loss: 0.0176 - val_accuracy: 0.9878 - val_loss: 0.0380\n",
      "Epoch 20/25\n",
      "59/59 - 2s - 36ms/step - accuracy: 0.9959 - loss: 0.0160 - val_accuracy: 0.9884 - val_loss: 0.0367\n",
      "Epoch 21/25\n",
      "59/59 - 2s - 35ms/step - accuracy: 0.9963 - loss: 0.0144 - val_accuracy: 0.9884 - val_loss: 0.0374\n",
      "Epoch 22/25\n",
      "59/59 - 2s - 34ms/step - accuracy: 0.9968 - loss: 0.0129 - val_accuracy: 0.9885 - val_loss: 0.0370\n",
      "Epoch 23/25\n",
      "59/59 - 2s - 33ms/step - accuracy: 0.9970 - loss: 0.0122 - val_accuracy: 0.9881 - val_loss: 0.0367\n",
      "Epoch 24/25\n",
      "59/59 - 2s - 32ms/step - accuracy: 0.9969 - loss: 0.0118 - val_accuracy: 0.9880 - val_loss: 0.0385\n",
      "Epoch 25/25\n",
      "59/59 - 2s - 31ms/step - accuracy: 0.9976 - loss: 0.0101 - val_accuracy: 0.9869 - val_loss: 0.0409\n",
      "Accuracy: 0.9868999719619751 \n",
      " Error: 1.3100028038024902\n"
     ]
    }
   ],
   "source": [
    "model = convolutional_model()\n",
    "model.fit(X_train, y_train, validation_data=(X_test, y_test), epochs=25, batch_size=1024, verbose=2)\n",
    "\n",
    "scores = model.evaluate(X_test, y_test, verbose=0)\n",
    "print(\"Accuracy: {} \\n Error: {}\".format(scores[1], 100-scores[1]*100))"
   ]
  }
 ],
 "metadata": {
  "kernelspec": {
   "display_name": "venv",
   "language": "python",
   "name": "python3"
  },
  "language_info": {
   "codemirror_mode": {
    "name": "ipython",
    "version": 3
   },
   "file_extension": ".py",
   "mimetype": "text/x-python",
   "name": "python",
   "nbconvert_exporter": "python",
   "pygments_lexer": "ipython3",
   "version": "3.13.2"
  }
 },
 "nbformat": 4,
 "nbformat_minor": 5
}
