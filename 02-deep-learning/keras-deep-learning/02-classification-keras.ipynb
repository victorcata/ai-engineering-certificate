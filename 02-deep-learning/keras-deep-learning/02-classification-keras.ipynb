{
 "cells": [
  {
   "cell_type": "markdown",
   "id": "77e1756e",
   "metadata": {},
   "source": [
    "# Classification Models with Keras"
   ]
  },
  {
   "cell_type": "code",
   "execution_count": 1,
   "id": "0c1c4370",
   "metadata": {},
   "outputs": [],
   "source": [
    "# To suppress the warning messages due to use of CPU architechture for tensoflow.\n",
    "import os\n",
    "os.environ['TF_ENABLE_ONEDNN_OPTS'] = '0'\n",
    "os.environ['TF_CPP_MIN_LOG_LEVEL'] = '2'"
   ]
  },
  {
   "cell_type": "code",
   "execution_count": 3,
   "id": "460f1324",
   "metadata": {},
   "outputs": [],
   "source": [
    "import keras\n",
    "from keras.models import Sequential\n",
    "from keras.layers import Dense\n",
    "from keras.layers import Input\n",
    "from keras.utils import to_categorical\n",
    "\n",
    "import matplotlib.pyplot as plt"
   ]
  },
  {
   "cell_type": "markdown",
   "id": "1c59517e",
   "metadata": {},
   "source": [
    "## Dataset"
   ]
  },
  {
   "cell_type": "markdown",
   "id": "613151ed",
   "metadata": {},
   "source": [
    "The Keras library conveniently includes the MNIST dataset as part of its API. The dataset is readily divided into a training set and a test set."
   ]
  },
  {
   "cell_type": "code",
   "execution_count": null,
   "id": "634b14ce",
   "metadata": {},
   "outputs": [],
   "source": [
    "import ssl\n",
    "import certifi\n",
    "import urllib.request\n",
    "\n",
    "opener = urllib.request.build_opener(\n",
    "    urllib.request.HTTPSHandler(context=ssl.create_default_context(cafile=certifi.where()))\n",
    ")\n",
    "urllib.request.install_opener(opener)"
   ]
  },
  {
   "cell_type": "code",
   "execution_count": 25,
   "id": "75da5a1a",
   "metadata": {},
   "outputs": [],
   "source": [
    "from keras.datasets import mnist\n",
    "\n",
    "(X_train, y_train), (X_test, y_test) = mnist.load_data()"
   ]
  },
  {
   "cell_type": "code",
   "execution_count": 26,
   "id": "58914e02",
   "metadata": {},
   "outputs": [
    {
     "data": {
      "text/plain": [
       "(60000, 28, 28)"
      ]
     },
     "execution_count": 26,
     "metadata": {},
     "output_type": "execute_result"
    }
   ],
   "source": [
    "X_train.shape"
   ]
  },
  {
   "cell_type": "markdown",
   "id": "9332425a",
   "metadata": {},
   "source": [
    "The first number in the output tuple is the number of images, and the other two numbers are the size of the images in datset. So, each image is 28 pixels by 28 pixels."
   ]
  },
  {
   "cell_type": "code",
   "execution_count": 27,
   "id": "c2ae1e7f",
   "metadata": {},
   "outputs": [
    {
     "data": {
      "text/plain": [
       "<matplotlib.image.AxesImage at 0x17c3f02d0>"
      ]
     },
     "execution_count": 27,
     "metadata": {},
     "output_type": "execute_result"
    },
    {
     "data": {
      "image/png": "[encoded data removed]",
      "text/plain": [
       "<Figure size 640x480 with 1 Axes>"
      ]
     },
     "metadata": {},
     "output_type": "display_data"
    }
   ],
   "source": [
    "plt.imshow(X_train[0])"
   ]
  },
  {
   "cell_type": "markdown",
   "id": "a64f99d9",
   "metadata": {},
   "source": [
    "\n",
    "With conventional neural networks, we cannot feed in the image as input as is. So we need to flatten the images into one-dimensional vectors, each of size 1 x (28 x 28) = 1 x 784."
   ]
  },
  {
   "cell_type": "code",
   "execution_count": 28,
   "id": "d4c2fa08",
   "metadata": {},
   "outputs": [],
   "source": [
    "num_pixels = X_train.shape[1] * X_train.shape[2]\n",
    "\n",
    "X_train = X_train.reshape(X_train.shape[0], num_pixels).astype('float32')\n",
    "X_test = X_test.reshape(X_test.shape[0], num_pixels).astype('float32')"
   ]
  },
  {
   "cell_type": "markdown",
   "id": "0b4c6d96",
   "metadata": {},
   "source": [
    "Since pixel values can range from 0 to 255, let's normalize the vectors to be between 0 and 1."
   ]
  },
  {
   "cell_type": "code",
   "execution_count": 29,
   "id": "f1fe3fb9",
   "metadata": {},
   "outputs": [],
   "source": [
    "# normalize inputs from 0-255 to 0-1\n",
    "X_train = X_train / 255\n",
    "X_test = X_test / 255"
   ]
  },
  {
   "cell_type": "markdown",
   "id": "4fa92e09",
   "metadata": {},
   "source": [
    "Finally, before we start building our model, remember that for classification we need to divide our target variable into categories. We use the to_categorical function from the Keras Utilities package.\n"
   ]
  },
  {
   "cell_type": "code",
   "execution_count": 30,
   "id": "20ab70bf",
   "metadata": {},
   "outputs": [
    {
     "name": "stdout",
     "output_type": "stream",
     "text": [
      "10\n"
     ]
    }
   ],
   "source": [
    "# one hot encode outputs\n",
    "y_train = to_categorical(y_train)\n",
    "y_test = to_categorical(y_test)\n",
    "\n",
    "num_classes = y_test.shape[1]\n",
    "print(num_classes)"
   ]
  },
  {
   "cell_type": "markdown",
   "id": "86fb6a9d",
   "metadata": {},
   "source": [
    "## Build a Neural Network"
   ]
  },
  {
   "cell_type": "code",
   "execution_count": 31,
   "id": "93b3eb83",
   "metadata": {},
   "outputs": [],
   "source": [
    "def classification_model():\n",
    "    model = Sequential()\n",
    "    model.add(Input(shape=(num_pixels,)))\n",
    "    model.add(Dense(num_pixels, activation='relu'))\n",
    "    model.add(Dense(100, activation='relu'))\n",
    "    model.add(Dense(num_classes, activation='softmax'))\n",
    "    \n",
    "    \n",
    "    # compile model\n",
    "    model.compile(optimizer='adam', loss='categorical_crossentropy', metrics=['accuracy'])\n",
    "    return model\n"
   ]
  },
  {
   "cell_type": "markdown",
   "id": "22dc67c8",
   "metadata": {},
   "source": [
    "## Train and Test the Network"
   ]
  },
  {
   "cell_type": "code",
   "execution_count": null,
   "id": "2dcb9452",
   "metadata": {},
   "outputs": [
    {
     "name": "stdout",
     "output_type": "stream",
     "text": [
      "Epoch 1/10\n",
      "1875/1875 - 6s - 3ms/step - accuracy: 0.9440 - loss: 0.1825 - val_accuracy: 0.9659 - val_loss: 0.1098\n",
      "Epoch 2/10\n",
      "1875/1875 - 5s - 3ms/step - accuracy: 0.9759 - loss: 0.0783 - val_accuracy: 0.9775 - val_loss: 0.0769\n",
      "Epoch 3/10\n",
      "1875/1875 - 5s - 3ms/step - accuracy: 0.9832 - loss: 0.0523 - val_accuracy: 0.9685 - val_loss: 0.1018\n",
      "Epoch 4/10\n",
      "1875/1875 - 5s - 3ms/step - accuracy: 0.9871 - loss: 0.0408 - val_accuracy: 0.9775 - val_loss: 0.0693\n",
      "Epoch 5/10\n",
      "1875/1875 - 5s - 3ms/step - accuracy: 0.9897 - loss: 0.0318 - val_accuracy: 0.9802 - val_loss: 0.0711\n",
      "Epoch 6/10\n",
      "1875/1875 - 5s - 3ms/step - accuracy: 0.9917 - loss: 0.0259 - val_accuracy: 0.9824 - val_loss: 0.0763\n",
      "Epoch 7/10\n",
      "1875/1875 - 5s - 3ms/step - accuracy: 0.9919 - loss: 0.0240 - val_accuracy: 0.9766 - val_loss: 0.0997\n",
      "Epoch 8/10\n",
      "1875/1875 - 5s - 3ms/step - accuracy: 0.9936 - loss: 0.0193 - val_accuracy: 0.9785 - val_loss: 0.0962\n",
      "Epoch 9/10\n",
      "1875/1875 - 5s - 3ms/step - accuracy: 0.9941 - loss: 0.0188 - val_accuracy: 0.9806 - val_loss: 0.0943\n",
      "Epoch 10/10\n",
      "1875/1875 - 5s - 3ms/step - accuracy: 0.9953 - loss: 0.0148 - val_accuracy: 0.9771 - val_loss: 0.1091\n"
     ]
    }
   ],
   "source": [
    "model = classification_model()\n",
    "model.fit(X_train, y_train, validation_data=(X_test, y_test), epochs=10, verbose=2)\n",
    "scores = model.evaluate(X_test, y_test, verbose=0)"
   ]
  },
  {
   "cell_type": "code",
   "execution_count": 34,
   "id": "b0066fac",
   "metadata": {},
   "outputs": [
    {
     "name": "stdout",
     "output_type": "stream",
     "text": [
      "Accuracy: 0.9771000146865845% \n",
      " Error: 0.022899985313415527\n"
     ]
    }
   ],
   "source": [
    "print('Accuracy: {}% \\n Error: {}'.format(scores[1], 1 - scores[1]))"
   ]
  },
  {
   "cell_type": "markdown",
   "id": "21e70008",
   "metadata": {},
   "source": [
    "Sometimes, you cannot afford to retrain your model everytime you want to use it, especially if you are limited on computational resources and training your model can take a long time. Therefore, with the Keras library, you can save your model after training. To do that, we use the save method.\n"
   ]
  },
  {
   "cell_type": "code",
   "execution_count": null,
   "id": "d5de62af",
   "metadata": {},
   "outputs": [],
   "source": [
    "model.save('classification_model.keras')"
   ]
  },
  {
   "cell_type": "markdown",
   "id": "04e4af5f",
   "metadata": {},
   "source": [
    "Since our model contains multidimensional arrays of data, then models are usually saved as .keras files.\n",
    "\n",
    "When you are ready to use your model again, you use the load_model function from keras.saving.\n"
   ]
  },
  {
   "cell_type": "code",
   "execution_count": 39,
   "id": "f4972c35",
   "metadata": {},
   "outputs": [],
   "source": [
    "pretrained_model = keras.saving.load_model('classification_model.keras')"
   ]
  },
  {
   "cell_type": "markdown",
   "id": "4c509225",
   "metadata": {},
   "source": [
    "## Exercise 1"
   ]
  },
  {
   "cell_type": "markdown",
   "id": "758d0e93",
   "metadata": {},
   "source": [
    "Create a neural network model with 6 dense layers and compare its accuracy"
   ]
  },
  {
   "cell_type": "code",
   "execution_count": 37,
   "id": "28603e52",
   "metadata": {},
   "outputs": [
    {
     "name": "stdout",
     "output_type": "stream",
     "text": [
      "Epoch 1/10\n",
      "1875/1875 - 7s - 4ms/step - accuracy: 0.9321 - loss: 0.2236 - val_accuracy: 0.9656 - val_loss: 0.1116\n",
      "Epoch 2/10\n",
      "1875/1875 - 6s - 3ms/step - accuracy: 0.9699 - loss: 0.1024 - val_accuracy: 0.9745 - val_loss: 0.0834\n",
      "Epoch 3/10\n",
      "1875/1875 - 6s - 3ms/step - accuracy: 0.9790 - loss: 0.0710 - val_accuracy: 0.9723 - val_loss: 0.0973\n",
      "Epoch 4/10\n",
      "1875/1875 - 6s - 3ms/step - accuracy: 0.9836 - loss: 0.0571 - val_accuracy: 0.9806 - val_loss: 0.0718\n",
      "Epoch 5/10\n",
      "1875/1875 - 6s - 3ms/step - accuracy: 0.9860 - loss: 0.0464 - val_accuracy: 0.9782 - val_loss: 0.0806\n",
      "Epoch 6/10\n",
      "1875/1875 - 6s - 3ms/step - accuracy: 0.9886 - loss: 0.0403 - val_accuracy: 0.9802 - val_loss: 0.0775\n",
      "Epoch 7/10\n",
      "1875/1875 - 6s - 3ms/step - accuracy: 0.9898 - loss: 0.0352 - val_accuracy: 0.9839 - val_loss: 0.0650\n",
      "Epoch 8/10\n",
      "1875/1875 - 6s - 3ms/step - accuracy: 0.9912 - loss: 0.0308 - val_accuracy: 0.9775 - val_loss: 0.1024\n",
      "Epoch 9/10\n",
      "1875/1875 - 6s - 3ms/step - accuracy: 0.9926 - loss: 0.0278 - val_accuracy: 0.9821 - val_loss: 0.0766\n",
      "Epoch 10/10\n",
      "1875/1875 - 6s - 3ms/step - accuracy: 0.9932 - loss: 0.0234 - val_accuracy: 0.9833 - val_loss: 0.0753\n",
      "Accuracy 6-layers: 0.983299970626831% \n",
      " Error: 0.016700029373168945\n"
     ]
    }
   ],
   "source": [
    "model_ex1 = Sequential()\n",
    "model_ex1.add(Input(shape=(num_pixels,)))\n",
    "model_ex1.add(Dense(num_pixels, activation='relu'))\n",
    "model_ex1.add(Dense(100, activation='relu'))\n",
    "model_ex1.add(Dense(100, activation='relu'))\n",
    "model_ex1.add(Dense(100, activation='relu'))\n",
    "model_ex1.add(Dense(100, activation='relu'))\n",
    "model_ex1.add(Dense(num_classes, activation='softmax'))\n",
    "model_ex1.compile(optimizer='adam', loss='categorical_crossentropy', metrics=['accuracy'])\n",
    "\n",
    "model_ex1.fit(X_train, y_train, validation_data=(X_test, y_test), epochs=10, verbose=2)\n",
    "scores_ex1 = model_ex1.evaluate(X_test, y_test, verbose=0)\n",
    "\n",
    "print('Accuracy 6-layers: {}% \\n Error: {}'.format(scores_ex1[1], 1 - scores_ex1[1]))"
   ]
  },
  {
   "cell_type": "markdown",
   "id": "41762a58",
   "metadata": {},
   "source": [
    "## Exercise 2"
   ]
  },
  {
   "cell_type": "markdown",
   "id": "2180f192",
   "metadata": {},
   "source": [
    "Now, load the the earlier saved model, train it further for 10 more epochs and check the accuracy"
   ]
  },
  {
   "cell_type": "code",
   "execution_count": 41,
   "id": "70938ed8",
   "metadata": {},
   "outputs": [
    {
     "name": "stdout",
     "output_type": "stream",
     "text": [
      "Epoch 1/20\n",
      "1875/1875 - 5s - 3ms/step - accuracy: 0.9957 - loss: 0.0138 - val_accuracy: 0.9838 - val_loss: 0.0797\n",
      "Epoch 2/20\n",
      "1875/1875 - 5s - 3ms/step - accuracy: 0.9954 - loss: 0.0147 - val_accuracy: 0.9834 - val_loss: 0.1010\n",
      "Epoch 3/20\n",
      "1875/1875 - 5s - 3ms/step - accuracy: 0.9958 - loss: 0.0135 - val_accuracy: 0.9777 - val_loss: 0.1083\n",
      "Epoch 4/20\n",
      "1875/1875 - 5s - 3ms/step - accuracy: 0.9964 - loss: 0.0116 - val_accuracy: 0.9832 - val_loss: 0.0941\n",
      "Epoch 5/20\n",
      "1875/1875 - 5s - 3ms/step - accuracy: 0.9967 - loss: 0.0111 - val_accuracy: 0.9836 - val_loss: 0.0961\n",
      "Epoch 6/20\n",
      "1875/1875 - 5s - 3ms/step - accuracy: 0.9965 - loss: 0.0124 - val_accuracy: 0.9819 - val_loss: 0.1095\n",
      "Epoch 7/20\n",
      "1875/1875 - 5s - 3ms/step - accuracy: 0.9966 - loss: 0.0123 - val_accuracy: 0.9815 - val_loss: 0.1193\n",
      "Epoch 8/20\n",
      "1875/1875 - 5s - 3ms/step - accuracy: 0.9973 - loss: 0.0091 - val_accuracy: 0.9830 - val_loss: 0.1099\n",
      "Epoch 9/20\n",
      "1875/1875 - 5s - 3ms/step - accuracy: 0.9973 - loss: 0.0099 - val_accuracy: 0.9823 - val_loss: 0.1086\n",
      "Epoch 10/20\n",
      "1875/1875 - 5s - 3ms/step - accuracy: 0.9977 - loss: 0.0081 - val_accuracy: 0.9828 - val_loss: 0.1214\n",
      "Epoch 11/20\n",
      "1875/1875 - 5s - 3ms/step - accuracy: 0.9970 - loss: 0.0113 - val_accuracy: 0.9825 - val_loss: 0.1205\n",
      "Epoch 12/20\n",
      "1875/1875 - 5s - 3ms/step - accuracy: 0.9974 - loss: 0.0094 - val_accuracy: 0.9799 - val_loss: 0.1323\n",
      "Epoch 13/20\n",
      "1875/1875 - 5s - 3ms/step - accuracy: 0.9974 - loss: 0.0089 - val_accuracy: 0.9839 - val_loss: 0.1123\n",
      "Epoch 14/20\n",
      "1875/1875 - 5s - 3ms/step - accuracy: 0.9977 - loss: 0.0090 - val_accuracy: 0.9833 - val_loss: 0.1211\n",
      "Epoch 15/20\n",
      "1875/1875 - 5s - 3ms/step - accuracy: 0.9981 - loss: 0.0075 - val_accuracy: 0.9792 - val_loss: 0.1749\n",
      "Epoch 16/20\n",
      "1875/1875 - 5s - 3ms/step - accuracy: 0.9972 - loss: 0.0118 - val_accuracy: 0.9827 - val_loss: 0.1251\n",
      "Epoch 17/20\n",
      "1875/1875 - 5s - 3ms/step - accuracy: 0.9984 - loss: 0.0054 - val_accuracy: 0.9828 - val_loss: 0.1534\n",
      "Epoch 18/20\n",
      "1875/1875 - 5s - 3ms/step - accuracy: 0.9975 - loss: 0.0102 - val_accuracy: 0.9817 - val_loss: 0.1519\n",
      "Epoch 19/20\n",
      "1875/1875 - 5s - 3ms/step - accuracy: 0.9980 - loss: 0.0087 - val_accuracy: 0.9800 - val_loss: 0.1553\n",
      "Epoch 20/20\n",
      "1875/1875 - 5s - 3ms/step - accuracy: 0.9979 - loss: 0.0085 - val_accuracy: 0.9829 - val_loss: 0.1493\n",
      "Accuracy_10_epochs: 0.9771000146865845% \n",
      " Accuracy_20_epochs: 0.9829000234603882\n"
     ]
    }
   ],
   "source": [
    "pretrained_model = keras.saving.load_model('classification_model.keras')\n",
    "pretrained_model.fit(X_train, y_train, validation_data=(X_test, y_test), epochs=20, verbose=2)\n",
    "\n",
    "scores_20_epochs = pretrained_model.evaluate(X_test, y_test, verbose=0)\n",
    "\n",
    "print('Accuracy_10_epochs: {}% \\n Accuracy_20_epochs: {}'.format(scores[1], scores_20_epochs[1]))  "
   ]
  }
 ],
 "metadata": {
  "kernelspec": {
   "display_name": "venv",
   "language": "python",
   "name": "python3"
  },
  "language_info": {
   "codemirror_mode": {
    "name": "ipython",
    "version": 3
   },
   "file_extension": ".py",
   "mimetype": "text/x-python",
   "name": "python",
   "nbconvert_exporter": "python",
   "pygments_lexer": "ipython3",
   "version": "3.13.2"
  }
 },
 "nbformat": 4,
 "nbformat_minor": 5
}
