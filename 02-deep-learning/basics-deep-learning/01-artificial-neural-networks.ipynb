{
 "cells": [
  {
   "cell_type": "markdown",
   "id": "f1def889",
   "metadata": {},
   "source": [
    "# Forward Propagation"
   ]
  },
  {
   "cell_type": "markdown",
   "id": "7a0239ce",
   "metadata": {},
   "source": [
    "Here is a neural network that takes two inputs, has one hidden layer with two nodes, and an output layer with one node."
   ]
  },
  {
   "cell_type": "markdown",
   "id": "cd34fa19",
   "metadata": {},
   "source": [
    "<img src=\"http://cocl.us/neural_network_example\" alt=\"Neural Network Example\" width=\"600px\">"
   ]
  },
  {
   "cell_type": "code",
   "execution_count": 2,
   "id": "cf48544b",
   "metadata": {},
   "outputs": [
    {
     "name": "stdout",
     "output_type": "stream",
     "text": [
      "[0.65 0.85 0.84 0.97 0.98 0.65]\n",
      "[0.34 0.63 0.88]\n"
     ]
    }
   ],
   "source": [
    "import numpy as np\n",
    "\n",
    "weights = np.around(np.random.uniform(size=6), decimals=2)\n",
    "biases = np.around(np.random.uniform(size=3), decimals=2)\n",
    "\n",
    "print(weights)\n",
    "print(biases)"
   ]
  },
  {
   "cell_type": "markdown",
   "id": "0f4a5411",
   "metadata": {},
   "source": [
    "Now that we have the weights and the biases defined for the network, let's compute the output for a given input, $x_1$ and $x_2$."
   ]
  },
  {
   "cell_type": "code",
   "execution_count": 4,
   "id": "4212a3ed",
   "metadata": {},
   "outputs": [
    {
     "name": "stdout",
     "output_type": "stream",
     "text": [
      "x1 is 0.5 amd x2 is 0.85\n"
     ]
    }
   ],
   "source": [
    "x_1 = 0.5\n",
    "x_2 = 0.85\n",
    "\n",
    "print('x1 is {} amd x2 is {}'.format(x_1, x_2))"
   ]
  },
  {
   "cell_type": "markdown",
   "id": "09c649d1",
   "metadata": {},
   "source": [
    "Let's start by computing the weighted sum of the inputs, $z_{1, 1}$, at the first node of the hidden layer.\n"
   ]
  },
  {
   "cell_type": "code",
   "execution_count": 6,
   "id": "f509dad1",
   "metadata": {},
   "outputs": [
    {
     "name": "stdout",
     "output_type": "stream",
     "text": [
      "The weighted sum of the inputs at the first node in the hidden layer is 1.3875\n"
     ]
    }
   ],
   "source": [
    "z_11 = x_1 * weights[0] + x_2 * weights[1] + biases[0]\n",
    "\n",
    "print('The weighted sum of the inputs at the first node in the hidden layer is {}'.format(z_11))"
   ]
  },
  {
   "cell_type": "code",
   "execution_count": 7,
   "id": "07f4ac05",
   "metadata": {},
   "outputs": [
    {
     "name": "stdout",
     "output_type": "stream",
     "text": [
      "The weighted sum of the inputs at the second node in the hidden layer is 1.8744999999999998\n"
     ]
    }
   ],
   "source": [
    "z_12 = x_1 * weights[2] + x_2 * weights[3] + biases[1]\n",
    "\n",
    "print('The weighted sum of the inputs at the second node in the hidden layer is {}'.format(z_12))"
   ]
  },
  {
   "cell_type": "markdown",
   "id": "b86648e4",
   "metadata": {},
   "source": [
    "Next, assuming a sigmoid activation function, let's compute the activation of the nodes \n",
    "in the hidden layer.\n"
   ]
  },
  {
   "cell_type": "code",
   "execution_count": 9,
   "id": "11171ae4",
   "metadata": {},
   "outputs": [
    {
     "name": "stdout",
     "output_type": "stream",
     "text": [
      "The activation of the first node in the hidden layer is 0.8002\n",
      "The activation of the second node in the hidden layer is 0.867\n"
     ]
    }
   ],
   "source": [
    "a_11 = 1.0 / (1.0 + np.exp(-z_11))\n",
    "a_12 = 1.0 / (1.0 + np.exp(-z_12))\n",
    "\n",
    "print('The activation of the first node in the hidden layer is {}'.format(np.around(a_11, decimals=4)))\n",
    "print('The activation of the second node in the hidden layer is {}'.format(np.around(a_12, decimals=4)))"
   ]
  },
  {
   "cell_type": "code",
   "execution_count": 11,
   "id": "0dbef4b3",
   "metadata": {},
   "outputs": [
    {
     "name": "stdout",
     "output_type": "stream",
     "text": [
      "The weighted sum of the inputs at the node in the output layer is 2.2277\n"
     ]
    }
   ],
   "source": [
    "z_2 = a_11 * weights[4] + a_12 * weights[5] + biases[2]\n",
    "\n",
    "print('The weighted sum of the inputs at the node in the output layer is {}'.format(np.around(z_2, decimals=4)))"
   ]
  },
  {
   "cell_type": "code",
   "execution_count": 13,
   "id": "3e77f738",
   "metadata": {},
   "outputs": [
    {
     "name": "stdout",
     "output_type": "stream",
     "text": [
      "The output of the network for x1 = 0.5 and x2 = 0.85 is 0.9027\n"
     ]
    }
   ],
   "source": [
    "a_2 = 1.0 / (1.0 + np.exp(-z_2))\n",
    "\n",
    "print('The output of the network for x1 = 0.5 and x2 = 0.85 is {}'.format(np.around(a_2, decimals=4)))"
   ]
  },
  {
   "cell_type": "markdown",
   "id": "b423e541",
   "metadata": {},
   "source": [
    "# Build a Neural Network"
   ]
  },
  {
   "cell_type": "markdown",
   "id": "ee8a846b",
   "metadata": {},
   "source": [
    "In order to code an automatic way of making predictions, let's generalize our network. A general network would take $n$ inputs, would have many hidden layers, each hidden layer having $m$ nodes, and would have an output layer. Although the network is showing one hidden layer, but we will code the network to have many hidden layers. Similarly, although the network shows an output layer with one node, we will code the network to have more than one node in the output layer.\n",
    "\n",
    "<img src=\"http://cocl.us/general_neural_network\" alt=\"Neural Network General\" width=\"600px\">\n"
   ]
  },
  {
   "cell_type": "markdown",
   "id": "62d2c219",
   "metadata": {},
   "source": [
    "Let's start by formally defining the structure of the network."
   ]
  },
  {
   "cell_type": "code",
   "execution_count": 14,
   "id": "cbf13766",
   "metadata": {},
   "outputs": [],
   "source": [
    "n = 2 \n",
    "num_hidden_layers = 2\n",
    "m = [2, 2] # number of nodes in each hidden layer\n",
    "num_nodes_output = 1 # number of nodes in the output layer"
   ]
  },
  {
   "cell_type": "markdown",
   "id": "6c540d31",
   "metadata": {},
   "source": [
    "\n",
    "Now that we defined the structure of the network, let's go ahead and initialize the weights and the biases in the network to random numbers."
   ]
  },
  {
   "cell_type": "code",
   "execution_count": 17,
   "id": "a79c3235",
   "metadata": {},
   "outputs": [],
   "source": [
    "def initialize_network(num_inputs, num_hidden_layers, num_nodes_hidden, num_nodes_output):\n",
    "  num_nodes_previous = num_inputs\n",
    "  network = {}\n",
    "\n",
    "  for layer in range(num_hidden_layers + 1):\n",
    "    # determine name of layer\n",
    "    if layer == num_hidden_layers:\n",
    "      layer_name = 'output'\n",
    "      num_nodes = num_nodes_output\n",
    "    else:\n",
    "      layer_name = 'layer_{}'.format(layer + 1)\n",
    "      num_nodes = num_nodes_hidden[layer]\n",
    "\n",
    "    # initialize weights and biases associated with each node in the current layer\n",
    "    network[layer_name] = {}\n",
    "    for node in range(num_nodes):\n",
    "      node_name = 'node_{}'.format(node + 1)\n",
    "      network[layer_name][node_name] = {\n",
    "        'weights': np.around(np.random.uniform(size=num_nodes_previous), decimals=2),\n",
    "        'bias': np.around(np.random.uniform(size=1), decimals=2) \n",
    "      }\n",
    "\n",
    "    num_nodes_previous = num_nodes\n",
    "\n",
    "  return network\n",
    "  "
   ]
  },
  {
   "cell_type": "markdown",
   "id": "df2c2846",
   "metadata": {},
   "source": [
    "#### Use the *initialize_network* function to create a network that:\n",
    "\n",
    "1. takes 5 inputs\n",
    "2. has three hidden layers\n",
    "3. has 3 nodes in the first layer, 2 nodes in the second layer, and 3 nodes in the third layer\n",
    "4. has 1 node in the output layer\n",
    "\n",
    "Call the network **small_network**.\n"
   ]
  },
  {
   "cell_type": "code",
   "execution_count": 18,
   "id": "bf5eafa5",
   "metadata": {},
   "outputs": [
    {
     "name": "stdout",
     "output_type": "stream",
     "text": [
      "{'layer_1': {'node_1': {'weights': array([0.88, 0.66, 0.03, 0.9 , 0.84]), 'bias': array([0.74])}, 'node_2': {'weights': array([0.94, 0.76, 0.26, 0.08, 0.49]), 'bias': array([0.26])}, 'node_3': {'weights': array([0.71, 0.5 , 0.22, 0.44, 0.35]), 'bias': array([0.95])}}, 'layer_2': {'node_1': {'weights': array([0.51, 0.81, 0.3 ]), 'bias': array([0.55])}, 'node_2': {'weights': array([0.55, 0.31, 0.45]), 'bias': array([0.09])}}, 'layer_3': {'node_1': {'weights': array([0.63, 0.23]), 'bias': array([0.61])}, 'node_2': {'weights': array([0.09, 0.91]), 'bias': array([0.03])}, 'node_3': {'weights': array([0.23, 0.93]), 'bias': array([0.82])}}, 'output': {'node_1': {'weights': array([0.73, 0.74, 0.31]), 'bias': array([0.24])}}}\n"
     ]
    }
   ],
   "source": [
    "num_inputs = 5\n",
    "num_hidden_layers = 3\n",
    "num_nodes_hidden = [3, 2, 3]\n",
    "num_nodes_output = 1\n",
    "small_network = initialize_network(num_inputs, num_hidden_layers, num_nodes_hidden, num_nodes_output)\n",
    "print(small_network)"
   ]
  },
  {
   "cell_type": "markdown",
   "id": "11e6d25f",
   "metadata": {},
   "source": [
    "## Compute Weighted Sum at Each Node"
   ]
  },
  {
   "cell_type": "markdown",
   "id": "9d9812d5",
   "metadata": {},
   "source": [
    "\n",
    "The weighted sum at each node is computed as the dot product of the inputs and the weights plus the bias. So let's create a function called compute_weighted_sum that does just that."
   ]
  },
  {
   "cell_type": "code",
   "execution_count": 19,
   "id": "162ab230",
   "metadata": {},
   "outputs": [],
   "source": [
    "def compute_weighted_sum(inputs, weights, bias):\n",
    "  return np.sum(inputs * weights) + bias"
   ]
  },
  {
   "cell_type": "markdown",
   "id": "0a7877fa",
   "metadata": {},
   "source": [
    "Let's generate 5 inputs that we can feed to **small_network**.\n"
   ]
  },
  {
   "cell_type": "code",
   "execution_count": 20,
   "id": "0f1254ad",
   "metadata": {},
   "outputs": [
    {
     "name": "stdout",
     "output_type": "stream",
     "text": [
      "The inputs to the network are [0.15 0.74 0.26 0.53 0.01]\n"
     ]
    }
   ],
   "source": [
    "from random import seed\n",
    "\n",
    "np.random.seed(12)\n",
    "inputs = np.around(np.random.uniform(size=5), decimals=2)\n",
    "\n",
    "print('The inputs to the network are {}'.format(inputs))"
   ]
  },
  {
   "cell_type": "code",
   "execution_count": 23,
   "id": "17af64ae",
   "metadata": {},
   "outputs": [
    {
     "name": "stdout",
     "output_type": "stream",
     "text": [
      "The weighted sum at the first node in the hidden layer is 1.8536\n"
     ]
    }
   ],
   "source": [
    "node_weights = small_network['layer_1']['node_1']['weights']\n",
    "node_bias = small_network['layer_1']['node_1']['bias']\n",
    "\n",
    "weighted_sum = compute_weighted_sum(inputs, node_weights, node_bias)\n",
    "print(f'The weighted sum at the first node in the hidden layer is {np.around(weighted_sum[0], decimals=4)}')"
   ]
  },
  {
   "cell_type": "markdown",
   "id": "03f0a00e",
   "metadata": {},
   "source": [
    "## Compute Node Activation"
   ]
  },
  {
   "cell_type": "markdown",
   "id": "4486b8a8",
   "metadata": {},
   "source": [
    "Recall that the output of each node is simply a non-linear tranformation of the weighted sum. We use activation functions for this mapping. Let's use the sigmoid function as the activation function here. So let's define a function that takes a weighted sum as input and returns the non-linear transformation of the input using the sigmoid function."
   ]
  },
  {
   "cell_type": "code",
   "execution_count": 24,
   "id": "2139e0ad",
   "metadata": {},
   "outputs": [],
   "source": [
    "def node_activation(weighted_sum):\n",
    "  return 1.0 / (1.0 + np.exp(-1 * weighted_sum))"
   ]
  },
  {
   "cell_type": "code",
   "execution_count": 25,
   "id": "d61c3653",
   "metadata": {},
   "outputs": [
    {
     "name": "stdout",
     "output_type": "stream",
     "text": [
      "The output of the first node in the hidden layer is 0.8645\n"
     ]
    }
   ],
   "source": [
    "node_output = node_activation(weighted_sum)\n",
    "print(f'The output of the first node in the hidden layer is {np.around(node_output[0], decimals=4)}')"
   ]
  },
  {
   "cell_type": "markdown",
   "id": "1c8e6035",
   "metadata": {},
   "source": [
    "## Forward Propagation"
   ]
  },
  {
   "cell_type": "markdown",
   "id": "40199036",
   "metadata": {},
   "source": [
    "The final piece of building a neural network that can perform predictions is to put everything together. So let's create a function that applies the *compute_weighted_sum* and *node_activation* functions to each node in the network and propagates the data all the way to the output layer and outputs a prediction for each node in the output layer.\n",
    "\n",
    "The way we are going to accomplish this is through the following procedure:\n",
    "\n",
    "1. Start with the input layer as the input to the first hidden layer.\n",
    "2. Compute the weighted sum at the nodes of the current layer.\n",
    "3. Compute the output of the nodes of the current layer.\n",
    "4. Set the output of the current layer to be the input to the next layer.\n",
    "5. Move to the next layer in the network.\n",
    "6. Repeat steps 2 - 5 until we compute the output of the output layer.\n"
   ]
  },
  {
   "cell_type": "code",
   "execution_count": 26,
   "id": "53d3492d",
   "metadata": {},
   "outputs": [],
   "source": [
    "def forward_propagate(network, inputs):\n",
    "  layer_inputs = list(inputs) # start with the input layer as the input to the first hidden layer\n",
    "\n",
    "  for layer in network:\n",
    "    layer_data = network[layer]\n",
    "\n",
    "    layer_outputs = []\n",
    "    for layer_node in layer_data:\n",
    "      node_data = layer_data[layer_node]\n",
    "\n",
    "      # compute the weighted sum and the output of each node at the same time \n",
    "      node_output = node_activation(compute_weighted_sum(layer_inputs, node_data['weights'], node_data['bias']))\n",
    "      layer_outputs.append(np.around(node_output[0], decimals=4))\n",
    "\n",
    "    if layer != 'output':\n",
    "      print(f'The outputs of the nodes in hidden layer number {layer.split('_')[1]} is {layer_outputs}')\n",
    "\n",
    "    layer_inputs = layer_outputs #the output of this layer to be the input to next layer\n",
    "\n",
    "  network_predictions = layer_outputs\n",
    "  return network_predictions"
   ]
  },
  {
   "cell_type": "code",
   "execution_count": 27,
   "id": "dbf2baa6",
   "metadata": {},
   "outputs": [
    {
     "name": "stdout",
     "output_type": "stream",
     "text": [
      "The outputs of the nodes in hidden layer number 1 is [np.float64(0.8645), np.float64(0.7462), np.float64(0.8482)]\n",
      "The outputs of the nodes in hidden layer number 2 is [np.float64(0.8641), np.float64(0.7647)]\n",
      "The outputs of the nodes in hidden layer number 3 is [np.float64(0.7909), np.float64(0.6908), np.float64(0.8494)]\n",
      "The predicted value by the network for the given input is 0.8309\n"
     ]
    }
   ],
   "source": [
    "predictions = forward_propagate(small_network, inputs)\n",
    "print(f'The predicted value by the network for the given input is {np.around(predictions[0], decimals=4)}')"
   ]
  },
  {
   "cell_type": "markdown",
   "id": "08c2d1c4",
   "metadata": {},
   "source": [
    "So we built the code to define a neural network. We can specify the number of inputs that a neural network can take, the number of hidden layers as well as the number of nodes in each hidden layer, and the number of nodes in the output layer.\n"
   ]
  },
  {
   "cell_type": "code",
   "execution_count": 28,
   "id": "b9093820",
   "metadata": {},
   "outputs": [
    {
     "name": "stdout",
     "output_type": "stream",
     "text": [
      "The outputs of the nodes in hidden layer number 1 is [np.float64(0.8857), np.float64(0.8889)]\n",
      "The outputs of the nodes in hidden layer number 2 is [np.float64(0.7822), np.float64(0.6965), np.float64(0.7411)]\n",
      "The outputs of the nodes in hidden layer number 3 is [np.float64(0.868), np.float64(0.881)]\n",
      "The predicted values by the network for the given input are [np.float64(0.8952), np.float64(0.8222), np.float64(0.8035)]\n"
     ]
    }
   ],
   "source": [
    "my_network = initialize_network(5, 3, [2, 3, 2], 3)\n",
    "inputs = np.around(np.random.uniform(size=5), decimals=2)\n",
    "predictions = forward_propagate(my_network, inputs)\n",
    "print(f'The predicted values by the network for the given input are {predictions}')"
   ]
  }
 ],
 "metadata": {
  "kernelspec": {
   "display_name": "venv",
   "language": "python",
   "name": "python3"
  },
  "language_info": {
   "codemirror_mode": {
    "name": "ipython",
    "version": 3
   },
   "file_extension": ".py",
   "mimetype": "text/x-python",
   "name": "python",
   "nbconvert_exporter": "python",
   "pygments_lexer": "ipython3",
   "version": "3.13.2"
  }
 },
 "nbformat": 4,
 "nbformat_minor": 5
}
